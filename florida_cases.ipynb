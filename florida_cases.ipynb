{
 "cells": [
  {
   "cell_type": "markdown",
   "metadata": {},
   "source": [
    "# Florida COVID epicenter analysis\n",
    "This analysis seeks to dig deeper into Florida's COVID data (updated daily) in order to truly assess the actual human cost and make a prediction on the trend of the virus. My insights have been published on [Towards Data Science](https://towardsdatascience.com/@nathanfreystaetter)\n",
    "\n",
    "### Florida DOH COVID Case Data\n",
    "Using publicly available data from Florida's department of health - useful facts about the data:\n",
    "\n",
    "1) Person-level record of all cases with a death indicator <br>\n",
    "2) Includes specific demographic information related to the individual<br>\n",
    "3) Data is collected from 2020-03-01 and onward<br>\n",
    "\n",
    "### Questions\n",
    "This analysis will seek to answer the following questions:<br>\n",
    "1) How quickly has the virus spread in the state and which demographic drove the rate of spread?<br>\n",
    "2) What is the true death rate by demographic?<br>\n",
    "3) How large of an impact can we expect in the near future given current case volumes?<br>\n",
    "4) Based on multiple plausible scenarios, what is the best course of action Florida can take to reopen the economy?"
   ]
  },
  {
   "cell_type": "markdown",
   "metadata": {},
   "source": [
    "## Setup\n",
    "### Import libraries and define global variables"
   ]
  },
  {
   "cell_type": "code",
   "execution_count": 222,
   "metadata": {},
   "outputs": [],
   "source": [
    "# Import config and libraries\n",
    "import config as c\n",
    "import chart_studio\n",
    "import chart_studio.plotly as py\n",
    "from plotly.offline import download_plotlyjs, init_notebook_mode, plot, iplot\n",
    "import chart_studio.tools as tls\n",
    "import pandas as pd\n",
    "import numpy as np\n",
    "import urllib, json\n",
    "import datetime as dt\n",
    "from datetime import timedelta\n",
    "from datetime import date\n",
    "import matplotlib\n",
    "import matplotlib.pyplot as plt\n",
    "import plotly.express as px\n",
    "import plotly.graph_objects as go\n",
    "\n",
    "#API key to Chart studio\n",
    "chart_studio.tools.set_credentials_file(username=c.cs_un, api_key=c.cs_key)\n",
    "\n",
    "#define latest week and set global variable\n",
    "today=date.today()\n",
    "last_full_week = (today - dt.timedelta(days=today.weekday())).strftime('%Y-%m-%d')\n",
    "death_baked_week = (today - dt.timedelta(days=today.weekday()+21)).strftime('%Y-%m-%d')\n",
    "min_3w_window = (today - dt.timedelta(days=today.weekday()+42)).strftime('%Y-%m-%d')\n",
    "max_3w_window = (today + dt.timedelta(days=today.weekday()+19)).strftime('%Y-%m-%d')\n",
    "\n",
    "#Create bins based age groups\n",
    "bins = [0, 25, 50, 60, 70, 80, 100]\n",
    "bins_condensed = [0, 50, 70, 100]\n",
    "\n",
    "# Customized DF output size\n",
    "pd.set_option('display.max_rows', 1000)\n",
    "pd.set_option('display.max_columns', 100)\n",
    "pd.set_option('display.width', 1000)"
   ]
  },
  {
   "cell_type": "markdown",
   "metadata": {},
   "source": [
    "### Import data from Florida DOH"
   ]
  },
  {
   "cell_type": "code",
   "execution_count": 2,
   "metadata": {},
   "outputs": [
    {
     "data": {
      "text/html": [
       "<div>\n",
       "<style scoped>\n",
       "    .dataframe tbody tr th:only-of-type {\n",
       "        vertical-align: middle;\n",
       "    }\n",
       "\n",
       "    .dataframe tbody tr th {\n",
       "        vertical-align: top;\n",
       "    }\n",
       "\n",
       "    .dataframe thead th {\n",
       "        text-align: right;\n",
       "    }\n",
       "</style>\n",
       "<table border=\"1\" class=\"dataframe\">\n",
       "  <thead>\n",
       "    <tr style=\"text-align: right;\">\n",
       "      <th></th>\n",
       "      <th>County</th>\n",
       "      <th>Age</th>\n",
       "      <th>Age_group</th>\n",
       "      <th>Gender</th>\n",
       "      <th>Jurisdiction</th>\n",
       "      <th>Travel_related</th>\n",
       "      <th>Origin</th>\n",
       "      <th>EDvisit</th>\n",
       "      <th>Hospitalized</th>\n",
       "      <th>Died</th>\n",
       "      <th>Case_</th>\n",
       "      <th>Contact</th>\n",
       "      <th>Case1</th>\n",
       "      <th>EventDate</th>\n",
       "      <th>ChartDate</th>\n",
       "      <th>ObjectId</th>\n",
       "    </tr>\n",
       "  </thead>\n",
       "  <tbody>\n",
       "    <tr>\n",
       "      <th>0</th>\n",
       "      <td>Broward</td>\n",
       "      <td>31</td>\n",
       "      <td>25-34 years</td>\n",
       "      <td>Female</td>\n",
       "      <td>FL resident</td>\n",
       "      <td>No</td>\n",
       "      <td>NA</td>\n",
       "      <td>UNKNOWN</td>\n",
       "      <td>UNKNOWN</td>\n",
       "      <td>NA</td>\n",
       "      <td>Yes</td>\n",
       "      <td>UNKNOWN</td>\n",
       "      <td>2020/07/01 05:00:00+00</td>\n",
       "      <td>2020/06/30 00:00:00+00</td>\n",
       "      <td>2020/07/01 05:00:00+00</td>\n",
       "      <td>1</td>\n",
       "    </tr>\n",
       "    <tr>\n",
       "      <th>1</th>\n",
       "      <td>Dade</td>\n",
       "      <td>45</td>\n",
       "      <td>45-54 years</td>\n",
       "      <td>Male</td>\n",
       "      <td>FL resident</td>\n",
       "      <td>Unknown</td>\n",
       "      <td>NA</td>\n",
       "      <td>UNKNOWN</td>\n",
       "      <td>UNKNOWN</td>\n",
       "      <td>NA</td>\n",
       "      <td>Yes</td>\n",
       "      <td>NA</td>\n",
       "      <td>2020/07/01 05:00:00+00</td>\n",
       "      <td>2020/07/01 00:00:00+00</td>\n",
       "      <td>2020/07/01 05:00:00+00</td>\n",
       "      <td>2</td>\n",
       "    </tr>\n",
       "    <tr>\n",
       "      <th>2</th>\n",
       "      <td>Broward</td>\n",
       "      <td>50</td>\n",
       "      <td>45-54 years</td>\n",
       "      <td>Male</td>\n",
       "      <td>FL resident</td>\n",
       "      <td>No</td>\n",
       "      <td>NA</td>\n",
       "      <td>YES</td>\n",
       "      <td>NO</td>\n",
       "      <td>NA</td>\n",
       "      <td>Yes</td>\n",
       "      <td>Yes</td>\n",
       "      <td>2020/07/01 05:00:00+00</td>\n",
       "      <td>2020/06/30 00:00:00+00</td>\n",
       "      <td>2020/07/01 05:00:00+00</td>\n",
       "      <td>3</td>\n",
       "    </tr>\n",
       "    <tr>\n",
       "      <th>3</th>\n",
       "      <td>Dade</td>\n",
       "      <td>81</td>\n",
       "      <td>75-84 years</td>\n",
       "      <td>Female</td>\n",
       "      <td>FL resident</td>\n",
       "      <td>Unknown</td>\n",
       "      <td>NA</td>\n",
       "      <td>UNKNOWN</td>\n",
       "      <td>UNKNOWN</td>\n",
       "      <td>Yes</td>\n",
       "      <td>Yes</td>\n",
       "      <td>NA</td>\n",
       "      <td>2020/07/01 05:00:00+00</td>\n",
       "      <td>2020/06/30 00:00:00+00</td>\n",
       "      <td>2020/07/01 05:00:00+00</td>\n",
       "      <td>4</td>\n",
       "    </tr>\n",
       "    <tr>\n",
       "      <th>4</th>\n",
       "      <td>Broward</td>\n",
       "      <td>56</td>\n",
       "      <td>55-64 years</td>\n",
       "      <td>Male</td>\n",
       "      <td>FL resident</td>\n",
       "      <td>No</td>\n",
       "      <td>NA</td>\n",
       "      <td>YES</td>\n",
       "      <td>YES</td>\n",
       "      <td>NA</td>\n",
       "      <td>Yes</td>\n",
       "      <td>UNKNOWN</td>\n",
       "      <td>2020/07/01 05:00:00+00</td>\n",
       "      <td>2020/06/25 00:00:00+00</td>\n",
       "      <td>2020/07/01 05:00:00+00</td>\n",
       "      <td>5</td>\n",
       "    </tr>\n",
       "  </tbody>\n",
       "</table>\n",
       "</div>"
      ],
      "text/plain": [
       "    County Age    Age_group  Gender Jurisdiction Travel_related Origin  EDvisit Hospitalized Died Case_  Contact                   Case1               EventDate               ChartDate  ObjectId\n",
       "0  Broward  31  25-34 years  Female  FL resident             No     NA  UNKNOWN      UNKNOWN   NA   Yes  UNKNOWN  2020/07/01 05:00:00+00  2020/06/30 00:00:00+00  2020/07/01 05:00:00+00         1\n",
       "1     Dade  45  45-54 years    Male  FL resident        Unknown     NA  UNKNOWN      UNKNOWN   NA   Yes       NA  2020/07/01 05:00:00+00  2020/07/01 00:00:00+00  2020/07/01 05:00:00+00         2\n",
       "2  Broward  50  45-54 years    Male  FL resident             No     NA      YES           NO   NA   Yes      Yes  2020/07/01 05:00:00+00  2020/06/30 00:00:00+00  2020/07/01 05:00:00+00         3\n",
       "3     Dade  81  75-84 years  Female  FL resident        Unknown     NA  UNKNOWN      UNKNOWN  Yes   Yes       NA  2020/07/01 05:00:00+00  2020/06/30 00:00:00+00  2020/07/01 05:00:00+00         4\n",
       "4  Broward  56  55-64 years    Male  FL resident             No     NA      YES          YES   NA   Yes  UNKNOWN  2020/07/01 05:00:00+00  2020/06/25 00:00:00+00  2020/07/01 05:00:00+00         5"
      ]
     },
     "execution_count": 2,
     "metadata": {},
     "output_type": "execute_result"
    }
   ],
   "source": [
    "#Florida Department of Health: Coronavirus source data\n",
    "url = \"https://opendata.arcgis.com/datasets/37abda537d17458bae6677b8ab75fcb9_0.geojson\"\n",
    "\n",
    "#Create pandas dataframe from Florida DOH dataset\n",
    "json_url = urllib.request.urlopen(url)\n",
    "data = json.loads(json_url.read())\n",
    "L = []\n",
    "for x in data['features']:\n",
    "    d = {}\n",
    "    for k, v in x.items():\n",
    "        if k == 'properties':\n",
    "            for x, y in v.items():\n",
    "                d[x] = y\n",
    "        else:\n",
    "            pass\n",
    "    L.append(d)\n",
    "\n",
    "df = pd.DataFrame(L)\n",
    "df.head(5)"
   ]
  },
  {
   "cell_type": "markdown",
   "metadata": {},
   "source": [
    "### Clean data"
   ]
  },
  {
   "cell_type": "code",
   "execution_count": 5,
   "metadata": {},
   "outputs": [
    {
     "data": {
      "text/plain": [
       "County            object\n",
       "Age               object\n",
       "Age_group         object\n",
       "Gender            object\n",
       "Jurisdiction      object\n",
       "Travel_related    object\n",
       "Origin            object\n",
       "EDvisit           object\n",
       "Hospitalized      object\n",
       "Died              object\n",
       "Case_             object\n",
       "Contact           object\n",
       "Case1             object\n",
       "EventDate         object\n",
       "ChartDate         object\n",
       "ObjectId           int64\n",
       "dtype: object"
      ]
     },
     "execution_count": 5,
     "metadata": {},
     "output_type": "execute_result"
    }
   ],
   "source": [
    "df.dtypes"
   ]
  },
  {
   "cell_type": "code",
   "execution_count": 14,
   "metadata": {},
   "outputs": [
    {
     "data": {
      "text/plain": [
       "21     10203\n",
       "30     10169\n",
       "29     10118\n",
       "22     10046\n",
       "23      9994\n",
       "25      9904\n",
       "31      9847\n",
       "28      9777\n",
       "27      9771\n",
       "24      9747\n",
       "26      9675\n",
       "32      9423\n",
       "20      9280\n",
       "33      9060\n",
       "34      8949\n",
       "35      8853\n",
       "36      8729\n",
       "37      8723\n",
       "49      8457\n",
       "48      8327\n",
       "19      8285\n",
       "39      8244\n",
       "38      8236\n",
       "50      8115\n",
       "40      8092\n",
       "47      8085\n",
       "51      7930\n",
       "43      7870\n",
       "46      7829\n",
       "41      7827\n",
       "55      7812\n",
       "52      7765\n",
       "42      7729\n",
       "45      7689\n",
       "54      7613\n",
       "44      7590\n",
       "53      7584\n",
       "56      7415\n",
       "57      7348\n",
       "18      7207\n",
       "58      6885\n",
       "59      6597\n",
       "60      6313\n",
       "61      5925\n",
       "62      5527\n",
       "63      5317\n",
       "64      4944\n",
       "17      4708\n",
       "65      4563\n",
       "66      4489\n",
       "67      4263\n",
       "68      3960\n",
       "69      3845\n",
       "16      3609\n",
       "70      3521\n",
       "71      3290\n",
       "73      3286\n",
       "72      3226\n",
       "15      2937\n",
       "74      2696\n",
       "75      2650\n",
       "76      2594\n",
       "14      2590\n",
       "77      2504\n",
       "13      2333\n",
       "78      2292\n",
       "12      2194\n",
       "0       2164\n",
       "79      2080\n",
       "80      1968\n",
       "81      1941\n",
       "11      1939\n",
       "10      1886\n",
       "82      1845\n",
       "9       1823\n",
       "83      1785\n",
       "8       1678\n",
       "1       1651\n",
       "6       1641\n",
       "84      1621\n",
       "5       1605\n",
       "7       1592\n",
       "2       1521\n",
       "4       1519\n",
       "85      1496\n",
       "3       1484\n",
       "86      1357\n",
       "87      1308\n",
       "88      1217\n",
       "89      1113\n",
       "90      1013\n",
       "91       932\n",
       "NA       915\n",
       "92       834\n",
       "93       718\n",
       "94       559\n",
       "95       411\n",
       "96       392\n",
       "97       289\n",
       "98       214\n",
       "99       156\n",
       "100      117\n",
       "101       60\n",
       "102       40\n",
       "103       35\n",
       "104       16\n",
       "105       11\n",
       "106        3\n",
       "107        3\n",
       "108        1\n",
       "119        1\n",
       "110        1\n",
       "Name: Age, dtype: int64"
      ]
     },
     "execution_count": 14,
     "metadata": {},
     "output_type": "execute_result"
    }
   ],
   "source": [
    "df.Age.value_counts()"
   ]
  },
  {
   "cell_type": "code",
   "execution_count": 6,
   "metadata": {},
   "outputs": [
    {
     "data": {
      "text/html": [
       "<div>\n",
       "<style scoped>\n",
       "    .dataframe tbody tr th:only-of-type {\n",
       "        vertical-align: middle;\n",
       "    }\n",
       "\n",
       "    .dataframe tbody tr th {\n",
       "        vertical-align: top;\n",
       "    }\n",
       "\n",
       "    .dataframe thead th {\n",
       "        text-align: right;\n",
       "    }\n",
       "</style>\n",
       "<table border=\"1\" class=\"dataframe\">\n",
       "  <thead>\n",
       "    <tr style=\"text-align: right;\">\n",
       "      <th></th>\n",
       "      <th>County</th>\n",
       "      <th>Age</th>\n",
       "      <th>Age_group</th>\n",
       "      <th>Gender</th>\n",
       "      <th>Jurisdiction</th>\n",
       "      <th>Travel_related</th>\n",
       "      <th>Origin</th>\n",
       "      <th>EDvisit</th>\n",
       "      <th>Hospitalized</th>\n",
       "      <th>Died</th>\n",
       "      <th>Case_</th>\n",
       "      <th>Contact</th>\n",
       "      <th>Case1</th>\n",
       "      <th>EventDate</th>\n",
       "      <th>ChartDate</th>\n",
       "      <th>ObjectId</th>\n",
       "    </tr>\n",
       "  </thead>\n",
       "  <tbody>\n",
       "    <tr>\n",
       "      <th>count</th>\n",
       "      <td>497330</td>\n",
       "      <td>497330</td>\n",
       "      <td>497330</td>\n",
       "      <td>497330</td>\n",
       "      <td>497330</td>\n",
       "      <td>497330</td>\n",
       "      <td>497330</td>\n",
       "      <td>485434</td>\n",
       "      <td>492858</td>\n",
       "      <td>497330</td>\n",
       "      <td>497330</td>\n",
       "      <td>497330</td>\n",
       "      <td>497330</td>\n",
       "      <td>497330</td>\n",
       "      <td>497330</td>\n",
       "      <td>497330.000000</td>\n",
       "    </tr>\n",
       "    <tr>\n",
       "      <th>unique</th>\n",
       "      <td>68</td>\n",
       "      <td>112</td>\n",
       "      <td>11</td>\n",
       "      <td>3</td>\n",
       "      <td>3</td>\n",
       "      <td>3</td>\n",
       "      <td>1014</td>\n",
       "      <td>4</td>\n",
       "      <td>4</td>\n",
       "      <td>2</td>\n",
       "      <td>1</td>\n",
       "      <td>5</td>\n",
       "      <td>154</td>\n",
       "      <td>82637</td>\n",
       "      <td>154</td>\n",
       "      <td>NaN</td>\n",
       "    </tr>\n",
       "    <tr>\n",
       "      <th>top</th>\n",
       "      <td>Dade</td>\n",
       "      <td>21</td>\n",
       "      <td>25-34 years</td>\n",
       "      <td>Female</td>\n",
       "      <td>FL resident</td>\n",
       "      <td>Unknown</td>\n",
       "      <td>NA</td>\n",
       "      <td>UNKNOWN</td>\n",
       "      <td>UNKNOWN</td>\n",
       "      <td>NA</td>\n",
       "      <td>Yes</td>\n",
       "      <td>NA</td>\n",
       "      <td>2020/07/11 05:00:00+00</td>\n",
       "      <td>2020/07/03 00:00:00+00</td>\n",
       "      <td>2020/07/11 05:00:00+00</td>\n",
       "      <td>NaN</td>\n",
       "    </tr>\n",
       "    <tr>\n",
       "      <th>freq</th>\n",
       "      <td>124759</td>\n",
       "      <td>10203</td>\n",
       "      <td>96693</td>\n",
       "      <td>254694</td>\n",
       "      <td>491765</td>\n",
       "      <td>271276</td>\n",
       "      <td>488752</td>\n",
       "      <td>278047</td>\n",
       "      <td>266954</td>\n",
       "      <td>489804</td>\n",
       "      <td>497330</td>\n",
       "      <td>199293</td>\n",
       "      <td>15359</td>\n",
       "      <td>9860</td>\n",
       "      <td>15359</td>\n",
       "      <td>NaN</td>\n",
       "    </tr>\n",
       "    <tr>\n",
       "      <th>mean</th>\n",
       "      <td>NaN</td>\n",
       "      <td>NaN</td>\n",
       "      <td>NaN</td>\n",
       "      <td>NaN</td>\n",
       "      <td>NaN</td>\n",
       "      <td>NaN</td>\n",
       "      <td>NaN</td>\n",
       "      <td>NaN</td>\n",
       "      <td>NaN</td>\n",
       "      <td>NaN</td>\n",
       "      <td>NaN</td>\n",
       "      <td>NaN</td>\n",
       "      <td>NaN</td>\n",
       "      <td>NaN</td>\n",
       "      <td>NaN</td>\n",
       "      <td>248665.500000</td>\n",
       "    </tr>\n",
       "    <tr>\n",
       "      <th>std</th>\n",
       "      <td>NaN</td>\n",
       "      <td>NaN</td>\n",
       "      <td>NaN</td>\n",
       "      <td>NaN</td>\n",
       "      <td>NaN</td>\n",
       "      <td>NaN</td>\n",
       "      <td>NaN</td>\n",
       "      <td>NaN</td>\n",
       "      <td>NaN</td>\n",
       "      <td>NaN</td>\n",
       "      <td>NaN</td>\n",
       "      <td>NaN</td>\n",
       "      <td>NaN</td>\n",
       "      <td>NaN</td>\n",
       "      <td>NaN</td>\n",
       "      <td>143566.949025</td>\n",
       "    </tr>\n",
       "    <tr>\n",
       "      <th>min</th>\n",
       "      <td>NaN</td>\n",
       "      <td>NaN</td>\n",
       "      <td>NaN</td>\n",
       "      <td>NaN</td>\n",
       "      <td>NaN</td>\n",
       "      <td>NaN</td>\n",
       "      <td>NaN</td>\n",
       "      <td>NaN</td>\n",
       "      <td>NaN</td>\n",
       "      <td>NaN</td>\n",
       "      <td>NaN</td>\n",
       "      <td>NaN</td>\n",
       "      <td>NaN</td>\n",
       "      <td>NaN</td>\n",
       "      <td>NaN</td>\n",
       "      <td>1.000000</td>\n",
       "    </tr>\n",
       "    <tr>\n",
       "      <th>25%</th>\n",
       "      <td>NaN</td>\n",
       "      <td>NaN</td>\n",
       "      <td>NaN</td>\n",
       "      <td>NaN</td>\n",
       "      <td>NaN</td>\n",
       "      <td>NaN</td>\n",
       "      <td>NaN</td>\n",
       "      <td>NaN</td>\n",
       "      <td>NaN</td>\n",
       "      <td>NaN</td>\n",
       "      <td>NaN</td>\n",
       "      <td>NaN</td>\n",
       "      <td>NaN</td>\n",
       "      <td>NaN</td>\n",
       "      <td>NaN</td>\n",
       "      <td>124333.250000</td>\n",
       "    </tr>\n",
       "    <tr>\n",
       "      <th>50%</th>\n",
       "      <td>NaN</td>\n",
       "      <td>NaN</td>\n",
       "      <td>NaN</td>\n",
       "      <td>NaN</td>\n",
       "      <td>NaN</td>\n",
       "      <td>NaN</td>\n",
       "      <td>NaN</td>\n",
       "      <td>NaN</td>\n",
       "      <td>NaN</td>\n",
       "      <td>NaN</td>\n",
       "      <td>NaN</td>\n",
       "      <td>NaN</td>\n",
       "      <td>NaN</td>\n",
       "      <td>NaN</td>\n",
       "      <td>NaN</td>\n",
       "      <td>248665.500000</td>\n",
       "    </tr>\n",
       "    <tr>\n",
       "      <th>75%</th>\n",
       "      <td>NaN</td>\n",
       "      <td>NaN</td>\n",
       "      <td>NaN</td>\n",
       "      <td>NaN</td>\n",
       "      <td>NaN</td>\n",
       "      <td>NaN</td>\n",
       "      <td>NaN</td>\n",
       "      <td>NaN</td>\n",
       "      <td>NaN</td>\n",
       "      <td>NaN</td>\n",
       "      <td>NaN</td>\n",
       "      <td>NaN</td>\n",
       "      <td>NaN</td>\n",
       "      <td>NaN</td>\n",
       "      <td>NaN</td>\n",
       "      <td>372997.750000</td>\n",
       "    </tr>\n",
       "    <tr>\n",
       "      <th>max</th>\n",
       "      <td>NaN</td>\n",
       "      <td>NaN</td>\n",
       "      <td>NaN</td>\n",
       "      <td>NaN</td>\n",
       "      <td>NaN</td>\n",
       "      <td>NaN</td>\n",
       "      <td>NaN</td>\n",
       "      <td>NaN</td>\n",
       "      <td>NaN</td>\n",
       "      <td>NaN</td>\n",
       "      <td>NaN</td>\n",
       "      <td>NaN</td>\n",
       "      <td>NaN</td>\n",
       "      <td>NaN</td>\n",
       "      <td>NaN</td>\n",
       "      <td>497330.000000</td>\n",
       "    </tr>\n",
       "    <tr>\n",
       "      <th>% null</th>\n",
       "      <td>0</td>\n",
       "      <td>0</td>\n",
       "      <td>0</td>\n",
       "      <td>0</td>\n",
       "      <td>0</td>\n",
       "      <td>0</td>\n",
       "      <td>0</td>\n",
       "      <td>0.0239197</td>\n",
       "      <td>0.00899202</td>\n",
       "      <td>0</td>\n",
       "      <td>0</td>\n",
       "      <td>0</td>\n",
       "      <td>0</td>\n",
       "      <td>0</td>\n",
       "      <td>0</td>\n",
       "      <td>0.000000</td>\n",
       "    </tr>\n",
       "  </tbody>\n",
       "</table>\n",
       "</div>"
      ],
      "text/plain": [
       "        County     Age    Age_group  Gender Jurisdiction Travel_related  Origin    EDvisit Hospitalized    Died   Case_ Contact                   Case1               EventDate               ChartDate       ObjectId\n",
       "count   497330  497330       497330  497330       497330         497330  497330     485434       492858  497330  497330  497330                  497330                  497330                  497330  497330.000000\n",
       "unique      68     112           11       3            3              3    1014          4            4       2       1       5                     154                   82637                     154            NaN\n",
       "top       Dade      21  25-34 years  Female  FL resident        Unknown      NA    UNKNOWN      UNKNOWN      NA     Yes      NA  2020/07/11 05:00:00+00  2020/07/03 00:00:00+00  2020/07/11 05:00:00+00            NaN\n",
       "freq    124759   10203        96693  254694       491765         271276  488752     278047       266954  489804  497330  199293                   15359                    9860                   15359            NaN\n",
       "mean       NaN     NaN          NaN     NaN          NaN            NaN     NaN        NaN          NaN     NaN     NaN     NaN                     NaN                     NaN                     NaN  248665.500000\n",
       "std        NaN     NaN          NaN     NaN          NaN            NaN     NaN        NaN          NaN     NaN     NaN     NaN                     NaN                     NaN                     NaN  143566.949025\n",
       "min        NaN     NaN          NaN     NaN          NaN            NaN     NaN        NaN          NaN     NaN     NaN     NaN                     NaN                     NaN                     NaN       1.000000\n",
       "25%        NaN     NaN          NaN     NaN          NaN            NaN     NaN        NaN          NaN     NaN     NaN     NaN                     NaN                     NaN                     NaN  124333.250000\n",
       "50%        NaN     NaN          NaN     NaN          NaN            NaN     NaN        NaN          NaN     NaN     NaN     NaN                     NaN                     NaN                     NaN  248665.500000\n",
       "75%        NaN     NaN          NaN     NaN          NaN            NaN     NaN        NaN          NaN     NaN     NaN     NaN                     NaN                     NaN                     NaN  372997.750000\n",
       "max        NaN     NaN          NaN     NaN          NaN            NaN     NaN        NaN          NaN     NaN     NaN     NaN                     NaN                     NaN                     NaN  497330.000000\n",
       "% null       0       0            0       0            0              0       0  0.0239197   0.00899202       0       0       0                       0                       0                       0       0.000000"
      ]
     },
     "execution_count": 6,
     "metadata": {},
     "output_type": "execute_result"
    }
   ],
   "source": [
    "desc_df = df.describe(include = 'all')\n",
    "desc_df.loc['% null'] = df.isnull().mean()\n",
    "desc_df"
   ]
  },
  {
   "cell_type": "code",
   "execution_count": 17,
   "metadata": {},
   "outputs": [],
   "source": [
    "def clean_data(df):\n",
    "    '''\n",
    "    INPUT:\n",
    "    df - pandas dataframe that needs to be cleaned\n",
    "        \n",
    "    OUTPUT:\n",
    "    df - a new dataframe cleaned up for analysis in the following ways:\n",
    "            1. Create cap and floors to continuous columns; fill NA\n",
    "            2. Fix data formats to be usable\n",
    "            3. Create new columns needed for analysis\n",
    "    '''\n",
    "    #Fix data formats\n",
    "    df = df.astype({'Age': 'int32'})\n",
    "    df['ChartDate'] = df['ChartDate'].apply( lambda x: pd.to_datetime(x)).dt.normalize()\n",
    "    df['DateMonth'] = df['ChartDate'].apply(lambda x: x.strftime('%M-%Y'))\n",
    "    \n",
    "    #Create cap and floors; fill NA\n",
    "    df['Age']=np.where( df['Age'] == 'NA',50, df['Age']) #impute missing age with median age\n",
    "    df['Died_int']=np.where( df['Died'] == \"NA\",0, 1) #Convert Died boolean to a binary integer\n",
    "    df['Age']=np.maximum(np.minimum(df['Age'],100),1)\n",
    "    \n",
    "    #Create new columns\n",
    "    df['DateWeek'] = df.apply(lambda row: row['ChartDate'] - dt.timedelta(days=row['ChartDate'].weekday()), axis=1)\n",
    "    df['binned'] = pd.cut(df['Age'], bins=bins)\n",
    "    df['binned_condensed'] = pd.cut(df['Age'], bins=bins_condensed)\n",
    "    df['DateMonth'] = df['ChartDate'].dt.to_period('M')\n",
    "    df['avg_death_rate']=df['Died_int']\n",
    "    df['tdr_date'] = df['ChartDate'] + timedelta(days=14) + timedelta(days=7)\n",
    "    df['TDR_Week'] = df.apply(lambda row: row['tdr_date'] - dt.timedelta(days=row['tdr_date'].weekday()+1), axis=1)\n",
    "    \n",
    "    return df"
   ]
  },
  {
   "cell_type": "code",
   "execution_count": 18,
   "metadata": {},
   "outputs": [],
   "source": [
    "df=clean_data(df)"
   ]
  },
  {
   "cell_type": "markdown",
   "metadata": {},
   "source": [
    "### Q1. How quickly has the virus spread in the state and which demographic drove the rate of spread?"
   ]
  },
  {
   "cell_type": "code",
   "execution_count": 19,
   "metadata": {
    "scrolled": true
   },
   "outputs": [
    {
     "data": {
      "text/html": [
       "<div>\n",
       "<style scoped>\n",
       "    .dataframe tbody tr th:only-of-type {\n",
       "        vertical-align: middle;\n",
       "    }\n",
       "\n",
       "    .dataframe tbody tr th {\n",
       "        vertical-align: top;\n",
       "    }\n",
       "\n",
       "    .dataframe thead tr th {\n",
       "        text-align: left;\n",
       "    }\n",
       "\n",
       "    .dataframe thead tr:last-of-type th {\n",
       "        text-align: right;\n",
       "    }\n",
       "</style>\n",
       "<table border=\"1\" class=\"dataframe\">\n",
       "  <thead>\n",
       "    <tr>\n",
       "      <th></th>\n",
       "      <th colspan=\"3\" halign=\"left\">Case1</th>\n",
       "    </tr>\n",
       "    <tr>\n",
       "      <th>binned_condensed</th>\n",
       "      <th>(0, 50]</th>\n",
       "      <th>(50, 70]</th>\n",
       "      <th>(70, 100]</th>\n",
       "    </tr>\n",
       "    <tr>\n",
       "      <th>DateWeek</th>\n",
       "      <th></th>\n",
       "      <th></th>\n",
       "      <th></th>\n",
       "    </tr>\n",
       "  </thead>\n",
       "  <tbody>\n",
       "    <tr>\n",
       "      <th>2020-03-02 00:00:00+00:00</th>\n",
       "      <td>2</td>\n",
       "      <td>7</td>\n",
       "      <td>5</td>\n",
       "    </tr>\n",
       "    <tr>\n",
       "      <th>2020-03-09 00:00:00+00:00</th>\n",
       "      <td>52</td>\n",
       "      <td>52</td>\n",
       "      <td>19</td>\n",
       "    </tr>\n",
       "    <tr>\n",
       "      <th>2020-03-16 00:00:00+00:00</th>\n",
       "      <td>467</td>\n",
       "      <td>331</td>\n",
       "      <td>170</td>\n",
       "    </tr>\n",
       "    <tr>\n",
       "      <th>2020-03-23 00:00:00+00:00</th>\n",
       "      <td>1982</td>\n",
       "      <td>1248</td>\n",
       "      <td>662</td>\n",
       "    </tr>\n",
       "    <tr>\n",
       "      <th>2020-03-30 00:00:00+00:00</th>\n",
       "      <td>3772</td>\n",
       "      <td>2560</td>\n",
       "      <td>1157</td>\n",
       "    </tr>\n",
       "    <tr>\n",
       "      <th>2020-04-06 00:00:00+00:00</th>\n",
       "      <td>3628</td>\n",
       "      <td>2551</td>\n",
       "      <td>1245</td>\n",
       "    </tr>\n",
       "    <tr>\n",
       "      <th>2020-04-13 00:00:00+00:00</th>\n",
       "      <td>3136</td>\n",
       "      <td>2000</td>\n",
       "      <td>1113</td>\n",
       "    </tr>\n",
       "    <tr>\n",
       "      <th>2020-04-20 00:00:00+00:00</th>\n",
       "      <td>2891</td>\n",
       "      <td>1687</td>\n",
       "      <td>1104</td>\n",
       "    </tr>\n",
       "    <tr>\n",
       "      <th>2020-04-27 00:00:00+00:00</th>\n",
       "      <td>2273</td>\n",
       "      <td>1454</td>\n",
       "      <td>1040</td>\n",
       "    </tr>\n",
       "    <tr>\n",
       "      <th>2020-05-04 00:00:00+00:00</th>\n",
       "      <td>2082</td>\n",
       "      <td>1137</td>\n",
       "      <td>886</td>\n",
       "    </tr>\n",
       "    <tr>\n",
       "      <th>2020-05-11 00:00:00+00:00</th>\n",
       "      <td>2918</td>\n",
       "      <td>1508</td>\n",
       "      <td>963</td>\n",
       "    </tr>\n",
       "    <tr>\n",
       "      <th>2020-05-18 00:00:00+00:00</th>\n",
       "      <td>3227</td>\n",
       "      <td>1332</td>\n",
       "      <td>800</td>\n",
       "    </tr>\n",
       "    <tr>\n",
       "      <th>2020-05-25 00:00:00+00:00</th>\n",
       "      <td>3280</td>\n",
       "      <td>1298</td>\n",
       "      <td>630</td>\n",
       "    </tr>\n",
       "    <tr>\n",
       "      <th>2020-06-01 00:00:00+00:00</th>\n",
       "      <td>5217</td>\n",
       "      <td>1829</td>\n",
       "      <td>809</td>\n",
       "    </tr>\n",
       "    <tr>\n",
       "      <th>2020-06-08 00:00:00+00:00</th>\n",
       "      <td>8748</td>\n",
       "      <td>2484</td>\n",
       "      <td>1021</td>\n",
       "    </tr>\n",
       "    <tr>\n",
       "      <th>2020-06-15 00:00:00+00:00</th>\n",
       "      <td>16965</td>\n",
       "      <td>4271</td>\n",
       "      <td>1507</td>\n",
       "    </tr>\n",
       "    <tr>\n",
       "      <th>2020-06-22 00:00:00+00:00</th>\n",
       "      <td>35040</td>\n",
       "      <td>8845</td>\n",
       "      <td>2880</td>\n",
       "    </tr>\n",
       "    <tr>\n",
       "      <th>2020-06-29 00:00:00+00:00</th>\n",
       "      <td>43078</td>\n",
       "      <td>12612</td>\n",
       "      <td>3799</td>\n",
       "    </tr>\n",
       "    <tr>\n",
       "      <th>2020-07-06 00:00:00+00:00</th>\n",
       "      <td>52002</td>\n",
       "      <td>17917</td>\n",
       "      <td>5995</td>\n",
       "    </tr>\n",
       "    <tr>\n",
       "      <th>2020-07-13 00:00:00+00:00</th>\n",
       "      <td>51673</td>\n",
       "      <td>19330</td>\n",
       "      <td>7094</td>\n",
       "    </tr>\n",
       "    <tr>\n",
       "      <th>2020-07-20 00:00:00+00:00</th>\n",
       "      <td>47274</td>\n",
       "      <td>18319</td>\n",
       "      <td>6873</td>\n",
       "    </tr>\n",
       "    <tr>\n",
       "      <th>2020-07-27 00:00:00+00:00</th>\n",
       "      <td>38406</td>\n",
       "      <td>15441</td>\n",
       "      <td>5709</td>\n",
       "    </tr>\n",
       "    <tr>\n",
       "      <th>2020-08-03 00:00:00+00:00</th>\n",
       "      <td>3526</td>\n",
       "      <td>1403</td>\n",
       "      <td>594</td>\n",
       "    </tr>\n",
       "  </tbody>\n",
       "</table>\n",
       "</div>"
      ],
      "text/plain": [
       "                            Case1                   \n",
       "binned_condensed          (0, 50] (50, 70] (70, 100]\n",
       "DateWeek                                            \n",
       "2020-03-02 00:00:00+00:00       2        7         5\n",
       "2020-03-09 00:00:00+00:00      52       52        19\n",
       "2020-03-16 00:00:00+00:00     467      331       170\n",
       "2020-03-23 00:00:00+00:00    1982     1248       662\n",
       "2020-03-30 00:00:00+00:00    3772     2560      1157\n",
       "2020-04-06 00:00:00+00:00    3628     2551      1245\n",
       "2020-04-13 00:00:00+00:00    3136     2000      1113\n",
       "2020-04-20 00:00:00+00:00    2891     1687      1104\n",
       "2020-04-27 00:00:00+00:00    2273     1454      1040\n",
       "2020-05-04 00:00:00+00:00    2082     1137       886\n",
       "2020-05-11 00:00:00+00:00    2918     1508       963\n",
       "2020-05-18 00:00:00+00:00    3227     1332       800\n",
       "2020-05-25 00:00:00+00:00    3280     1298       630\n",
       "2020-06-01 00:00:00+00:00    5217     1829       809\n",
       "2020-06-08 00:00:00+00:00    8748     2484      1021\n",
       "2020-06-15 00:00:00+00:00   16965     4271      1507\n",
       "2020-06-22 00:00:00+00:00   35040     8845      2880\n",
       "2020-06-29 00:00:00+00:00   43078    12612      3799\n",
       "2020-07-06 00:00:00+00:00   52002    17917      5995\n",
       "2020-07-13 00:00:00+00:00   51673    19330      7094\n",
       "2020-07-20 00:00:00+00:00   47274    18319      6873\n",
       "2020-07-27 00:00:00+00:00   38406    15441      5709\n",
       "2020-08-03 00:00:00+00:00    3526     1403       594"
      ]
     },
     "execution_count": 19,
     "metadata": {},
     "output_type": "execute_result"
    }
   ],
   "source": [
    "# Case volumes by age group and reported date\n",
    "\n",
    "age = df[df['ChartDate']<=last_full_week].pivot_table(values=['Case1'], \n",
    "                      index=['DateWeek'],\n",
    "                      columns=['binned_condensed'],\n",
    "                      aggfunc='count')\n",
    "\n",
    "# age = age.div(age.sum(1), axis=0)\n",
    "age#.plot(kind='bar', stacked=True)"
   ]
  },
  {
   "cell_type": "code",
   "execution_count": 31,
   "metadata": {
    "scrolled": true
   },
   "outputs": [
    {
     "data": {
      "application/vnd.plotly.v1+json": {
       "config": {
        "plotlyServerURL": "https://plotly.com"
       },
       "data": [
        {
         "alignmentgroup": "True",
         "hoverlabel": {
          "namelength": 0
         },
         "legendgroup": "Age Group=(0, 25]",
         "marker": {
          "color": "#636efa"
         },
         "name": "Age Group=(0, 25]",
         "offsetgroup": "Age Group=(0, 25]",
         "orientation": "v",
         "showlegend": true,
         "textposition": "auto",
         "type": "bar",
         "x": [
          "2020-03-02T00:00:00+00:00",
          "2020-03-09T00:00:00+00:00",
          "2020-03-16T00:00:00+00:00",
          "2020-03-23T00:00:00+00:00",
          "2020-03-30T00:00:00+00:00",
          "2020-04-06T00:00:00+00:00",
          "2020-04-13T00:00:00+00:00",
          "2020-04-20T00:00:00+00:00",
          "2020-04-27T00:00:00+00:00",
          "2020-05-04T00:00:00+00:00",
          "2020-05-11T00:00:00+00:00",
          "2020-05-18T00:00:00+00:00",
          "2020-05-25T00:00:00+00:00",
          "2020-06-01T00:00:00+00:00",
          "2020-06-08T00:00:00+00:00",
          "2020-06-15T00:00:00+00:00",
          "2020-06-22T00:00:00+00:00",
          "2020-06-29T00:00:00+00:00",
          "2020-07-06T00:00:00+00:00",
          "2020-07-13T00:00:00+00:00",
          "2020-07-20T00:00:00+00:00",
          "2020-07-27T00:00:00+00:00"
         ],
         "xaxis": "x",
         "y": [
          1,
          18,
          119,
          370,
          710,
          720,
          636,
          722,
          553,
          504,
          790,
          988,
          989,
          1826,
          3269,
          6676,
          13372,
          15508,
          17810,
          17665,
          16121,
          13012
         ],
         "yaxis": "y"
        },
        {
         "alignmentgroup": "True",
         "hoverlabel": {
          "namelength": 0
         },
         "legendgroup": "Age Group=(25, 50]",
         "marker": {
          "color": "#EF553B"
         },
         "name": "Age Group=(25, 50]",
         "offsetgroup": "Age Group=(25, 50]",
         "orientation": "v",
         "showlegend": true,
         "textposition": "auto",
         "type": "bar",
         "x": [
          "2020-03-02T00:00:00+00:00",
          "2020-03-09T00:00:00+00:00",
          "2020-03-16T00:00:00+00:00",
          "2020-03-23T00:00:00+00:00",
          "2020-03-30T00:00:00+00:00",
          "2020-04-06T00:00:00+00:00",
          "2020-04-13T00:00:00+00:00",
          "2020-04-20T00:00:00+00:00",
          "2020-04-27T00:00:00+00:00",
          "2020-05-04T00:00:00+00:00",
          "2020-05-11T00:00:00+00:00",
          "2020-05-18T00:00:00+00:00",
          "2020-05-25T00:00:00+00:00",
          "2020-06-01T00:00:00+00:00",
          "2020-06-08T00:00:00+00:00",
          "2020-06-15T00:00:00+00:00",
          "2020-06-22T00:00:00+00:00",
          "2020-06-29T00:00:00+00:00",
          "2020-07-06T00:00:00+00:00",
          "2020-07-13T00:00:00+00:00",
          "2020-07-20T00:00:00+00:00",
          "2020-07-27T00:00:00+00:00"
         ],
         "xaxis": "x",
         "y": [
          1,
          34,
          348,
          1612,
          3062,
          2908,
          2500,
          2169,
          1720,
          1578,
          2128,
          2239,
          2291,
          3391,
          5479,
          10289,
          21668,
          27570,
          34192,
          34008,
          31153,
          25394
         ],
         "yaxis": "y"
        },
        {
         "alignmentgroup": "True",
         "hoverlabel": {
          "namelength": 0
         },
         "legendgroup": "Age Group=(50, 60]",
         "marker": {
          "color": "#00cc96"
         },
         "name": "Age Group=(50, 60]",
         "offsetgroup": "Age Group=(50, 60]",
         "orientation": "v",
         "showlegend": true,
         "textposition": "auto",
         "type": "bar",
         "x": [
          "2020-03-02T00:00:00+00:00",
          "2020-03-09T00:00:00+00:00",
          "2020-03-16T00:00:00+00:00",
          "2020-03-23T00:00:00+00:00",
          "2020-03-30T00:00:00+00:00",
          "2020-04-06T00:00:00+00:00",
          "2020-04-13T00:00:00+00:00",
          "2020-04-20T00:00:00+00:00",
          "2020-04-27T00:00:00+00:00",
          "2020-05-04T00:00:00+00:00",
          "2020-05-11T00:00:00+00:00",
          "2020-05-18T00:00:00+00:00",
          "2020-05-25T00:00:00+00:00",
          "2020-06-01T00:00:00+00:00",
          "2020-06-08T00:00:00+00:00",
          "2020-06-15T00:00:00+00:00",
          "2020-06-22T00:00:00+00:00",
          "2020-06-29T00:00:00+00:00",
          "2020-07-06T00:00:00+00:00",
          "2020-07-13T00:00:00+00:00",
          "2020-07-20T00:00:00+00:00",
          "2020-07-27T00:00:00+00:00"
         ],
         "xaxis": "x",
         "y": [
          2,
          17,
          173,
          710,
          1389,
          1401,
          1150,
          977,
          800,
          650,
          878,
          772,
          775,
          1106,
          1509,
          2725,
          5582,
          7965,
          11296,
          11864,
          11188,
          9513
         ],
         "yaxis": "y"
        },
        {
         "alignmentgroup": "True",
         "hoverlabel": {
          "namelength": 0
         },
         "legendgroup": "Age Group=(60, 70]",
         "marker": {
          "color": "#ab63fa"
         },
         "name": "Age Group=(60, 70]",
         "offsetgroup": "Age Group=(60, 70]",
         "orientation": "v",
         "showlegend": true,
         "textposition": "auto",
         "type": "bar",
         "x": [
          "2020-03-02T00:00:00+00:00",
          "2020-03-09T00:00:00+00:00",
          "2020-03-16T00:00:00+00:00",
          "2020-03-23T00:00:00+00:00",
          "2020-03-30T00:00:00+00:00",
          "2020-04-06T00:00:00+00:00",
          "2020-04-13T00:00:00+00:00",
          "2020-04-20T00:00:00+00:00",
          "2020-04-27T00:00:00+00:00",
          "2020-05-04T00:00:00+00:00",
          "2020-05-11T00:00:00+00:00",
          "2020-05-18T00:00:00+00:00",
          "2020-05-25T00:00:00+00:00",
          "2020-06-01T00:00:00+00:00",
          "2020-06-08T00:00:00+00:00",
          "2020-06-15T00:00:00+00:00",
          "2020-06-22T00:00:00+00:00",
          "2020-06-29T00:00:00+00:00",
          "2020-07-06T00:00:00+00:00",
          "2020-07-13T00:00:00+00:00",
          "2020-07-20T00:00:00+00:00",
          "2020-07-27T00:00:00+00:00"
         ],
         "xaxis": "x",
         "y": [
          5,
          35,
          158,
          538,
          1171,
          1150,
          850,
          710,
          654,
          487,
          630,
          560,
          523,
          723,
          975,
          1546,
          3263,
          4647,
          6621,
          7466,
          7131,
          5928
         ],
         "yaxis": "y"
        },
        {
         "alignmentgroup": "True",
         "hoverlabel": {
          "namelength": 0
         },
         "legendgroup": "Age Group=(70, 80]",
         "marker": {
          "color": "#FFA15A"
         },
         "name": "Age Group=(70, 80]",
         "offsetgroup": "Age Group=(70, 80]",
         "orientation": "v",
         "showlegend": true,
         "textposition": "auto",
         "type": "bar",
         "x": [
          "2020-03-02T00:00:00+00:00",
          "2020-03-09T00:00:00+00:00",
          "2020-03-16T00:00:00+00:00",
          "2020-03-23T00:00:00+00:00",
          "2020-03-30T00:00:00+00:00",
          "2020-04-06T00:00:00+00:00",
          "2020-04-13T00:00:00+00:00",
          "2020-04-20T00:00:00+00:00",
          "2020-04-27T00:00:00+00:00",
          "2020-05-04T00:00:00+00:00",
          "2020-05-11T00:00:00+00:00",
          "2020-05-18T00:00:00+00:00",
          "2020-05-25T00:00:00+00:00",
          "2020-06-01T00:00:00+00:00",
          "2020-06-08T00:00:00+00:00",
          "2020-06-15T00:00:00+00:00",
          "2020-06-22T00:00:00+00:00",
          "2020-06-29T00:00:00+00:00",
          "2020-07-06T00:00:00+00:00",
          "2020-07-13T00:00:00+00:00",
          "2020-07-20T00:00:00+00:00",
          "2020-07-27T00:00:00+00:00"
         ],
         "xaxis": "x",
         "y": [
          5,
          13,
          110,
          446,
          764,
          695,
          579,
          499,
          482,
          389,
          436,
          379,
          323,
          408,
          533,
          890,
          1690,
          2411,
          3588,
          4265,
          4003,
          3348
         ],
         "yaxis": "y"
        },
        {
         "alignmentgroup": "True",
         "hoverlabel": {
          "namelength": 0
         },
         "legendgroup": "Age Group=(80, 100]",
         "marker": {
          "color": "#19d3f3"
         },
         "name": "Age Group=(80, 100]",
         "offsetgroup": "Age Group=(80, 100]",
         "orientation": "v",
         "showlegend": true,
         "textposition": "auto",
         "type": "bar",
         "x": [
          "2020-03-02T00:00:00+00:00",
          "2020-03-09T00:00:00+00:00",
          "2020-03-16T00:00:00+00:00",
          "2020-03-23T00:00:00+00:00",
          "2020-03-30T00:00:00+00:00",
          "2020-04-06T00:00:00+00:00",
          "2020-04-13T00:00:00+00:00",
          "2020-04-20T00:00:00+00:00",
          "2020-04-27T00:00:00+00:00",
          "2020-05-04T00:00:00+00:00",
          "2020-05-11T00:00:00+00:00",
          "2020-05-18T00:00:00+00:00",
          "2020-05-25T00:00:00+00:00",
          "2020-06-01T00:00:00+00:00",
          "2020-06-08T00:00:00+00:00",
          "2020-06-15T00:00:00+00:00",
          "2020-06-22T00:00:00+00:00",
          "2020-06-29T00:00:00+00:00",
          "2020-07-06T00:00:00+00:00",
          "2020-07-13T00:00:00+00:00",
          "2020-07-20T00:00:00+00:00",
          "2020-07-27T00:00:00+00:00"
         ],
         "xaxis": "x",
         "y": [
          0,
          6,
          60,
          216,
          393,
          550,
          534,
          605,
          558,
          497,
          527,
          421,
          307,
          401,
          488,
          617,
          1190,
          1388,
          2407,
          2829,
          2870,
          2361
         ],
         "yaxis": "y"
        }
       ],
       "layout": {
        "barmode": "stack",
        "height": 600,
        "hovermode": "x",
        "legend": {
         "tracegroupgap": 0
        },
        "template": {
         "data": {
          "bar": [
           {
            "error_x": {
             "color": "#2a3f5f"
            },
            "error_y": {
             "color": "#2a3f5f"
            },
            "marker": {
             "line": {
              "color": "#E5ECF6",
              "width": 0.5
             }
            },
            "type": "bar"
           }
          ],
          "barpolar": [
           {
            "marker": {
             "line": {
              "color": "#E5ECF6",
              "width": 0.5
             }
            },
            "type": "barpolar"
           }
          ],
          "carpet": [
           {
            "aaxis": {
             "endlinecolor": "#2a3f5f",
             "gridcolor": "white",
             "linecolor": "white",
             "minorgridcolor": "white",
             "startlinecolor": "#2a3f5f"
            },
            "baxis": {
             "endlinecolor": "#2a3f5f",
             "gridcolor": "white",
             "linecolor": "white",
             "minorgridcolor": "white",
             "startlinecolor": "#2a3f5f"
            },
            "type": "carpet"
           }
          ],
          "choropleth": [
           {
            "colorbar": {
             "outlinewidth": 0,
             "ticks": ""
            },
            "type": "choropleth"
           }
          ],
          "contour": [
           {
            "colorbar": {
             "outlinewidth": 0,
             "ticks": ""
            },
            "colorscale": [
             [
              0,
              "#0d0887"
             ],
             [
              0.1111111111111111,
              "#46039f"
             ],
             [
              0.2222222222222222,
              "#7201a8"
             ],
             [
              0.3333333333333333,
              "#9c179e"
             ],
             [
              0.4444444444444444,
              "#bd3786"
             ],
             [
              0.5555555555555556,
              "#d8576b"
             ],
             [
              0.6666666666666666,
              "#ed7953"
             ],
             [
              0.7777777777777778,
              "#fb9f3a"
             ],
             [
              0.8888888888888888,
              "#fdca26"
             ],
             [
              1,
              "#f0f921"
             ]
            ],
            "type": "contour"
           }
          ],
          "contourcarpet": [
           {
            "colorbar": {
             "outlinewidth": 0,
             "ticks": ""
            },
            "type": "contourcarpet"
           }
          ],
          "heatmap": [
           {
            "colorbar": {
             "outlinewidth": 0,
             "ticks": ""
            },
            "colorscale": [
             [
              0,
              "#0d0887"
             ],
             [
              0.1111111111111111,
              "#46039f"
             ],
             [
              0.2222222222222222,
              "#7201a8"
             ],
             [
              0.3333333333333333,
              "#9c179e"
             ],
             [
              0.4444444444444444,
              "#bd3786"
             ],
             [
              0.5555555555555556,
              "#d8576b"
             ],
             [
              0.6666666666666666,
              "#ed7953"
             ],
             [
              0.7777777777777778,
              "#fb9f3a"
             ],
             [
              0.8888888888888888,
              "#fdca26"
             ],
             [
              1,
              "#f0f921"
             ]
            ],
            "type": "heatmap"
           }
          ],
          "heatmapgl": [
           {
            "colorbar": {
             "outlinewidth": 0,
             "ticks": ""
            },
            "colorscale": [
             [
              0,
              "#0d0887"
             ],
             [
              0.1111111111111111,
              "#46039f"
             ],
             [
              0.2222222222222222,
              "#7201a8"
             ],
             [
              0.3333333333333333,
              "#9c179e"
             ],
             [
              0.4444444444444444,
              "#bd3786"
             ],
             [
              0.5555555555555556,
              "#d8576b"
             ],
             [
              0.6666666666666666,
              "#ed7953"
             ],
             [
              0.7777777777777778,
              "#fb9f3a"
             ],
             [
              0.8888888888888888,
              "#fdca26"
             ],
             [
              1,
              "#f0f921"
             ]
            ],
            "type": "heatmapgl"
           }
          ],
          "histogram": [
           {
            "marker": {
             "colorbar": {
              "outlinewidth": 0,
              "ticks": ""
             }
            },
            "type": "histogram"
           }
          ],
          "histogram2d": [
           {
            "colorbar": {
             "outlinewidth": 0,
             "ticks": ""
            },
            "colorscale": [
             [
              0,
              "#0d0887"
             ],
             [
              0.1111111111111111,
              "#46039f"
             ],
             [
              0.2222222222222222,
              "#7201a8"
             ],
             [
              0.3333333333333333,
              "#9c179e"
             ],
             [
              0.4444444444444444,
              "#bd3786"
             ],
             [
              0.5555555555555556,
              "#d8576b"
             ],
             [
              0.6666666666666666,
              "#ed7953"
             ],
             [
              0.7777777777777778,
              "#fb9f3a"
             ],
             [
              0.8888888888888888,
              "#fdca26"
             ],
             [
              1,
              "#f0f921"
             ]
            ],
            "type": "histogram2d"
           }
          ],
          "histogram2dcontour": [
           {
            "colorbar": {
             "outlinewidth": 0,
             "ticks": ""
            },
            "colorscale": [
             [
              0,
              "#0d0887"
             ],
             [
              0.1111111111111111,
              "#46039f"
             ],
             [
              0.2222222222222222,
              "#7201a8"
             ],
             [
              0.3333333333333333,
              "#9c179e"
             ],
             [
              0.4444444444444444,
              "#bd3786"
             ],
             [
              0.5555555555555556,
              "#d8576b"
             ],
             [
              0.6666666666666666,
              "#ed7953"
             ],
             [
              0.7777777777777778,
              "#fb9f3a"
             ],
             [
              0.8888888888888888,
              "#fdca26"
             ],
             [
              1,
              "#f0f921"
             ]
            ],
            "type": "histogram2dcontour"
           }
          ],
          "mesh3d": [
           {
            "colorbar": {
             "outlinewidth": 0,
             "ticks": ""
            },
            "type": "mesh3d"
           }
          ],
          "parcoords": [
           {
            "line": {
             "colorbar": {
              "outlinewidth": 0,
              "ticks": ""
             }
            },
            "type": "parcoords"
           }
          ],
          "scatter": [
           {
            "marker": {
             "colorbar": {
              "outlinewidth": 0,
              "ticks": ""
             }
            },
            "type": "scatter"
           }
          ],
          "scatter3d": [
           {
            "line": {
             "colorbar": {
              "outlinewidth": 0,
              "ticks": ""
             }
            },
            "marker": {
             "colorbar": {
              "outlinewidth": 0,
              "ticks": ""
             }
            },
            "type": "scatter3d"
           }
          ],
          "scattercarpet": [
           {
            "marker": {
             "colorbar": {
              "outlinewidth": 0,
              "ticks": ""
             }
            },
            "type": "scattercarpet"
           }
          ],
          "scattergeo": [
           {
            "marker": {
             "colorbar": {
              "outlinewidth": 0,
              "ticks": ""
             }
            },
            "type": "scattergeo"
           }
          ],
          "scattergl": [
           {
            "marker": {
             "colorbar": {
              "outlinewidth": 0,
              "ticks": ""
             }
            },
            "type": "scattergl"
           }
          ],
          "scattermapbox": [
           {
            "marker": {
             "colorbar": {
              "outlinewidth": 0,
              "ticks": ""
             }
            },
            "type": "scattermapbox"
           }
          ],
          "scatterpolar": [
           {
            "marker": {
             "colorbar": {
              "outlinewidth": 0,
              "ticks": ""
             }
            },
            "type": "scatterpolar"
           }
          ],
          "scatterpolargl": [
           {
            "marker": {
             "colorbar": {
              "outlinewidth": 0,
              "ticks": ""
             }
            },
            "type": "scatterpolargl"
           }
          ],
          "scatterternary": [
           {
            "marker": {
             "colorbar": {
              "outlinewidth": 0,
              "ticks": ""
             }
            },
            "type": "scatterternary"
           }
          ],
          "surface": [
           {
            "colorbar": {
             "outlinewidth": 0,
             "ticks": ""
            },
            "colorscale": [
             [
              0,
              "#0d0887"
             ],
             [
              0.1111111111111111,
              "#46039f"
             ],
             [
              0.2222222222222222,
              "#7201a8"
             ],
             [
              0.3333333333333333,
              "#9c179e"
             ],
             [
              0.4444444444444444,
              "#bd3786"
             ],
             [
              0.5555555555555556,
              "#d8576b"
             ],
             [
              0.6666666666666666,
              "#ed7953"
             ],
             [
              0.7777777777777778,
              "#fb9f3a"
             ],
             [
              0.8888888888888888,
              "#fdca26"
             ],
             [
              1,
              "#f0f921"
             ]
            ],
            "type": "surface"
           }
          ],
          "table": [
           {
            "cells": {
             "fill": {
              "color": "#EBF0F8"
             },
             "line": {
              "color": "white"
             }
            },
            "header": {
             "fill": {
              "color": "#C8D4E3"
             },
             "line": {
              "color": "white"
             }
            },
            "type": "table"
           }
          ]
         },
         "layout": {
          "annotationdefaults": {
           "arrowcolor": "#2a3f5f",
           "arrowhead": 0,
           "arrowwidth": 1
          },
          "colorscale": {
           "diverging": [
            [
             0,
             "#8e0152"
            ],
            [
             0.1,
             "#c51b7d"
            ],
            [
             0.2,
             "#de77ae"
            ],
            [
             0.3,
             "#f1b6da"
            ],
            [
             0.4,
             "#fde0ef"
            ],
            [
             0.5,
             "#f7f7f7"
            ],
            [
             0.6,
             "#e6f5d0"
            ],
            [
             0.7,
             "#b8e186"
            ],
            [
             0.8,
             "#7fbc41"
            ],
            [
             0.9,
             "#4d9221"
            ],
            [
             1,
             "#276419"
            ]
           ],
           "sequential": [
            [
             0,
             "#0d0887"
            ],
            [
             0.1111111111111111,
             "#46039f"
            ],
            [
             0.2222222222222222,
             "#7201a8"
            ],
            [
             0.3333333333333333,
             "#9c179e"
            ],
            [
             0.4444444444444444,
             "#bd3786"
            ],
            [
             0.5555555555555556,
             "#d8576b"
            ],
            [
             0.6666666666666666,
             "#ed7953"
            ],
            [
             0.7777777777777778,
             "#fb9f3a"
            ],
            [
             0.8888888888888888,
             "#fdca26"
            ],
            [
             1,
             "#f0f921"
            ]
           ],
           "sequentialminus": [
            [
             0,
             "#0d0887"
            ],
            [
             0.1111111111111111,
             "#46039f"
            ],
            [
             0.2222222222222222,
             "#7201a8"
            ],
            [
             0.3333333333333333,
             "#9c179e"
            ],
            [
             0.4444444444444444,
             "#bd3786"
            ],
            [
             0.5555555555555556,
             "#d8576b"
            ],
            [
             0.6666666666666666,
             "#ed7953"
            ],
            [
             0.7777777777777778,
             "#fb9f3a"
            ],
            [
             0.8888888888888888,
             "#fdca26"
            ],
            [
             1,
             "#f0f921"
            ]
           ]
          },
          "colorway": [
           "#636efa",
           "#EF553B",
           "#00cc96",
           "#ab63fa",
           "#FFA15A",
           "#19d3f3",
           "#FF6692",
           "#B6E880",
           "#FF97FF",
           "#FECB52"
          ],
          "font": {
           "color": "#2a3f5f"
          },
          "geo": {
           "bgcolor": "white",
           "lakecolor": "white",
           "landcolor": "#E5ECF6",
           "showlakes": true,
           "showland": true,
           "subunitcolor": "white"
          },
          "hoverlabel": {
           "align": "left"
          },
          "hovermode": "closest",
          "mapbox": {
           "style": "light"
          },
          "paper_bgcolor": "white",
          "plot_bgcolor": "#E5ECF6",
          "polar": {
           "angularaxis": {
            "gridcolor": "white",
            "linecolor": "white",
            "ticks": ""
           },
           "bgcolor": "#E5ECF6",
           "radialaxis": {
            "gridcolor": "white",
            "linecolor": "white",
            "ticks": ""
           }
          },
          "scene": {
           "xaxis": {
            "backgroundcolor": "#E5ECF6",
            "gridcolor": "white",
            "gridwidth": 2,
            "linecolor": "white",
            "showbackground": true,
            "ticks": "",
            "zerolinecolor": "white"
           },
           "yaxis": {
            "backgroundcolor": "#E5ECF6",
            "gridcolor": "white",
            "gridwidth": 2,
            "linecolor": "white",
            "showbackground": true,
            "ticks": "",
            "zerolinecolor": "white"
           },
           "zaxis": {
            "backgroundcolor": "#E5ECF6",
            "gridcolor": "white",
            "gridwidth": 2,
            "linecolor": "white",
            "showbackground": true,
            "ticks": "",
            "zerolinecolor": "white"
           }
          },
          "shapedefaults": {
           "line": {
            "color": "#2a3f5f"
           }
          },
          "ternary": {
           "aaxis": {
            "gridcolor": "white",
            "linecolor": "white",
            "ticks": ""
           },
           "baxis": {
            "gridcolor": "white",
            "linecolor": "white",
            "ticks": ""
           },
           "bgcolor": "#E5ECF6",
           "caxis": {
            "gridcolor": "white",
            "linecolor": "white",
            "ticks": ""
           }
          },
          "title": {
           "x": 0.05
          },
          "xaxis": {
           "automargin": true,
           "gridcolor": "white",
           "linecolor": "white",
           "ticks": "",
           "zerolinecolor": "white",
           "zerolinewidth": 2
          },
          "yaxis": {
           "automargin": true,
           "gridcolor": "white",
           "linecolor": "white",
           "ticks": "",
           "zerolinecolor": "white",
           "zerolinewidth": 2
          }
         }
        },
        "title": {
         "text": "Weekly COVID-19 Case Volumes by Age Group - Florida",
         "x": 0.5,
         "xanchor": "center",
         "y": 0.9,
         "yanchor": "top"
        },
        "xaxis": {
         "anchor": "y",
         "domain": [
          0,
          0.98
         ],
         "title": {
          "text": "Date"
         }
        },
        "yaxis": {
         "anchor": "x",
         "domain": [
          0,
          1
         ],
         "tickformat": ",.0",
         "title": {
          "text": "Confirmed Case Volume"
         }
        }
       }
      },
      "text/html": [
       "<div>\n",
       "        \n",
       "        \n",
       "            <div id=\"2070d7f6-7717-45f0-a0ae-cbb96390fcf7\" class=\"plotly-graph-div\" style=\"height:600px; width:100%;\"></div>\n",
       "            <script type=\"text/javascript\">\n",
       "                require([\"plotly\"], function(Plotly) {\n",
       "                    window.PLOTLYENV=window.PLOTLYENV || {};\n",
       "                    \n",
       "                if (document.getElementById(\"2070d7f6-7717-45f0-a0ae-cbb96390fcf7\")) {\n",
       "                    Plotly.newPlot(\n",
       "                        '2070d7f6-7717-45f0-a0ae-cbb96390fcf7',\n",
       "                        [{\"alignmentgroup\": \"True\", \"hoverlabel\": {\"namelength\": 0}, \"legendgroup\": \"Age Group=(0, 25]\", \"marker\": {\"color\": \"#636efa\"}, \"name\": \"Age Group=(0, 25]\", \"offsetgroup\": \"Age Group=(0, 25]\", \"orientation\": \"v\", \"showlegend\": true, \"textposition\": \"auto\", \"type\": \"bar\", \"x\": [\"2020-03-02T00:00:00+00:00\", \"2020-03-09T00:00:00+00:00\", \"2020-03-16T00:00:00+00:00\", \"2020-03-23T00:00:00+00:00\", \"2020-03-30T00:00:00+00:00\", \"2020-04-06T00:00:00+00:00\", \"2020-04-13T00:00:00+00:00\", \"2020-04-20T00:00:00+00:00\", \"2020-04-27T00:00:00+00:00\", \"2020-05-04T00:00:00+00:00\", \"2020-05-11T00:00:00+00:00\", \"2020-05-18T00:00:00+00:00\", \"2020-05-25T00:00:00+00:00\", \"2020-06-01T00:00:00+00:00\", \"2020-06-08T00:00:00+00:00\", \"2020-06-15T00:00:00+00:00\", \"2020-06-22T00:00:00+00:00\", \"2020-06-29T00:00:00+00:00\", \"2020-07-06T00:00:00+00:00\", \"2020-07-13T00:00:00+00:00\", \"2020-07-20T00:00:00+00:00\", \"2020-07-27T00:00:00+00:00\"], \"xaxis\": \"x\", \"y\": [1, 18, 119, 370, 710, 720, 636, 722, 553, 504, 790, 988, 989, 1826, 3269, 6676, 13372, 15508, 17810, 17665, 16121, 13012], \"yaxis\": \"y\"}, {\"alignmentgroup\": \"True\", \"hoverlabel\": {\"namelength\": 0}, \"legendgroup\": \"Age Group=(25, 50]\", \"marker\": {\"color\": \"#EF553B\"}, \"name\": \"Age Group=(25, 50]\", \"offsetgroup\": \"Age Group=(25, 50]\", \"orientation\": \"v\", \"showlegend\": true, \"textposition\": \"auto\", \"type\": \"bar\", \"x\": [\"2020-03-02T00:00:00+00:00\", \"2020-03-09T00:00:00+00:00\", \"2020-03-16T00:00:00+00:00\", \"2020-03-23T00:00:00+00:00\", \"2020-03-30T00:00:00+00:00\", \"2020-04-06T00:00:00+00:00\", \"2020-04-13T00:00:00+00:00\", \"2020-04-20T00:00:00+00:00\", \"2020-04-27T00:00:00+00:00\", \"2020-05-04T00:00:00+00:00\", \"2020-05-11T00:00:00+00:00\", \"2020-05-18T00:00:00+00:00\", \"2020-05-25T00:00:00+00:00\", \"2020-06-01T00:00:00+00:00\", \"2020-06-08T00:00:00+00:00\", \"2020-06-15T00:00:00+00:00\", \"2020-06-22T00:00:00+00:00\", \"2020-06-29T00:00:00+00:00\", \"2020-07-06T00:00:00+00:00\", \"2020-07-13T00:00:00+00:00\", \"2020-07-20T00:00:00+00:00\", \"2020-07-27T00:00:00+00:00\"], \"xaxis\": \"x\", \"y\": [1, 34, 348, 1612, 3062, 2908, 2500, 2169, 1720, 1578, 2128, 2239, 2291, 3391, 5479, 10289, 21668, 27570, 34192, 34008, 31153, 25394], \"yaxis\": \"y\"}, {\"alignmentgroup\": \"True\", \"hoverlabel\": {\"namelength\": 0}, \"legendgroup\": \"Age Group=(50, 60]\", \"marker\": {\"color\": \"#00cc96\"}, \"name\": \"Age Group=(50, 60]\", \"offsetgroup\": \"Age Group=(50, 60]\", \"orientation\": \"v\", \"showlegend\": true, \"textposition\": \"auto\", \"type\": \"bar\", \"x\": [\"2020-03-02T00:00:00+00:00\", \"2020-03-09T00:00:00+00:00\", \"2020-03-16T00:00:00+00:00\", \"2020-03-23T00:00:00+00:00\", \"2020-03-30T00:00:00+00:00\", \"2020-04-06T00:00:00+00:00\", \"2020-04-13T00:00:00+00:00\", \"2020-04-20T00:00:00+00:00\", \"2020-04-27T00:00:00+00:00\", \"2020-05-04T00:00:00+00:00\", \"2020-05-11T00:00:00+00:00\", \"2020-05-18T00:00:00+00:00\", \"2020-05-25T00:00:00+00:00\", \"2020-06-01T00:00:00+00:00\", \"2020-06-08T00:00:00+00:00\", \"2020-06-15T00:00:00+00:00\", \"2020-06-22T00:00:00+00:00\", \"2020-06-29T00:00:00+00:00\", \"2020-07-06T00:00:00+00:00\", \"2020-07-13T00:00:00+00:00\", \"2020-07-20T00:00:00+00:00\", \"2020-07-27T00:00:00+00:00\"], \"xaxis\": \"x\", \"y\": [2, 17, 173, 710, 1389, 1401, 1150, 977, 800, 650, 878, 772, 775, 1106, 1509, 2725, 5582, 7965, 11296, 11864, 11188, 9513], \"yaxis\": \"y\"}, {\"alignmentgroup\": \"True\", \"hoverlabel\": {\"namelength\": 0}, \"legendgroup\": \"Age Group=(60, 70]\", \"marker\": {\"color\": \"#ab63fa\"}, \"name\": \"Age Group=(60, 70]\", \"offsetgroup\": \"Age Group=(60, 70]\", \"orientation\": \"v\", \"showlegend\": true, \"textposition\": \"auto\", \"type\": \"bar\", \"x\": [\"2020-03-02T00:00:00+00:00\", \"2020-03-09T00:00:00+00:00\", \"2020-03-16T00:00:00+00:00\", \"2020-03-23T00:00:00+00:00\", \"2020-03-30T00:00:00+00:00\", \"2020-04-06T00:00:00+00:00\", \"2020-04-13T00:00:00+00:00\", \"2020-04-20T00:00:00+00:00\", \"2020-04-27T00:00:00+00:00\", \"2020-05-04T00:00:00+00:00\", \"2020-05-11T00:00:00+00:00\", \"2020-05-18T00:00:00+00:00\", \"2020-05-25T00:00:00+00:00\", \"2020-06-01T00:00:00+00:00\", \"2020-06-08T00:00:00+00:00\", \"2020-06-15T00:00:00+00:00\", \"2020-06-22T00:00:00+00:00\", \"2020-06-29T00:00:00+00:00\", \"2020-07-06T00:00:00+00:00\", \"2020-07-13T00:00:00+00:00\", \"2020-07-20T00:00:00+00:00\", \"2020-07-27T00:00:00+00:00\"], \"xaxis\": \"x\", \"y\": [5, 35, 158, 538, 1171, 1150, 850, 710, 654, 487, 630, 560, 523, 723, 975, 1546, 3263, 4647, 6621, 7466, 7131, 5928], \"yaxis\": \"y\"}, {\"alignmentgroup\": \"True\", \"hoverlabel\": {\"namelength\": 0}, \"legendgroup\": \"Age Group=(70, 80]\", \"marker\": {\"color\": \"#FFA15A\"}, \"name\": \"Age Group=(70, 80]\", \"offsetgroup\": \"Age Group=(70, 80]\", \"orientation\": \"v\", \"showlegend\": true, \"textposition\": \"auto\", \"type\": \"bar\", \"x\": [\"2020-03-02T00:00:00+00:00\", \"2020-03-09T00:00:00+00:00\", \"2020-03-16T00:00:00+00:00\", \"2020-03-23T00:00:00+00:00\", \"2020-03-30T00:00:00+00:00\", \"2020-04-06T00:00:00+00:00\", \"2020-04-13T00:00:00+00:00\", \"2020-04-20T00:00:00+00:00\", \"2020-04-27T00:00:00+00:00\", \"2020-05-04T00:00:00+00:00\", \"2020-05-11T00:00:00+00:00\", \"2020-05-18T00:00:00+00:00\", \"2020-05-25T00:00:00+00:00\", \"2020-06-01T00:00:00+00:00\", \"2020-06-08T00:00:00+00:00\", \"2020-06-15T00:00:00+00:00\", \"2020-06-22T00:00:00+00:00\", \"2020-06-29T00:00:00+00:00\", \"2020-07-06T00:00:00+00:00\", \"2020-07-13T00:00:00+00:00\", \"2020-07-20T00:00:00+00:00\", \"2020-07-27T00:00:00+00:00\"], \"xaxis\": \"x\", \"y\": [5, 13, 110, 446, 764, 695, 579, 499, 482, 389, 436, 379, 323, 408, 533, 890, 1690, 2411, 3588, 4265, 4003, 3348], \"yaxis\": \"y\"}, {\"alignmentgroup\": \"True\", \"hoverlabel\": {\"namelength\": 0}, \"legendgroup\": \"Age Group=(80, 100]\", \"marker\": {\"color\": \"#19d3f3\"}, \"name\": \"Age Group=(80, 100]\", \"offsetgroup\": \"Age Group=(80, 100]\", \"orientation\": \"v\", \"showlegend\": true, \"textposition\": \"auto\", \"type\": \"bar\", \"x\": [\"2020-03-02T00:00:00+00:00\", \"2020-03-09T00:00:00+00:00\", \"2020-03-16T00:00:00+00:00\", \"2020-03-23T00:00:00+00:00\", \"2020-03-30T00:00:00+00:00\", \"2020-04-06T00:00:00+00:00\", \"2020-04-13T00:00:00+00:00\", \"2020-04-20T00:00:00+00:00\", \"2020-04-27T00:00:00+00:00\", \"2020-05-04T00:00:00+00:00\", \"2020-05-11T00:00:00+00:00\", \"2020-05-18T00:00:00+00:00\", \"2020-05-25T00:00:00+00:00\", \"2020-06-01T00:00:00+00:00\", \"2020-06-08T00:00:00+00:00\", \"2020-06-15T00:00:00+00:00\", \"2020-06-22T00:00:00+00:00\", \"2020-06-29T00:00:00+00:00\", \"2020-07-06T00:00:00+00:00\", \"2020-07-13T00:00:00+00:00\", \"2020-07-20T00:00:00+00:00\", \"2020-07-27T00:00:00+00:00\"], \"xaxis\": \"x\", \"y\": [0, 6, 60, 216, 393, 550, 534, 605, 558, 497, 527, 421, 307, 401, 488, 617, 1190, 1388, 2407, 2829, 2870, 2361], \"yaxis\": \"y\"}],\n",
       "                        {\"barmode\": \"stack\", \"height\": 600, \"hovermode\": \"x\", \"legend\": {\"tracegroupgap\": 0}, \"template\": {\"data\": {\"bar\": [{\"error_x\": {\"color\": \"#2a3f5f\"}, \"error_y\": {\"color\": \"#2a3f5f\"}, \"marker\": {\"line\": {\"color\": \"#E5ECF6\", \"width\": 0.5}}, \"type\": \"bar\"}], \"barpolar\": [{\"marker\": {\"line\": {\"color\": \"#E5ECF6\", \"width\": 0.5}}, \"type\": \"barpolar\"}], \"carpet\": [{\"aaxis\": {\"endlinecolor\": \"#2a3f5f\", \"gridcolor\": \"white\", \"linecolor\": \"white\", \"minorgridcolor\": \"white\", \"startlinecolor\": \"#2a3f5f\"}, \"baxis\": {\"endlinecolor\": \"#2a3f5f\", \"gridcolor\": \"white\", \"linecolor\": \"white\", \"minorgridcolor\": \"white\", \"startlinecolor\": \"#2a3f5f\"}, \"type\": \"carpet\"}], \"choropleth\": [{\"colorbar\": {\"outlinewidth\": 0, \"ticks\": \"\"}, \"type\": \"choropleth\"}], \"contour\": [{\"colorbar\": {\"outlinewidth\": 0, \"ticks\": \"\"}, \"colorscale\": [[0.0, \"#0d0887\"], [0.1111111111111111, \"#46039f\"], [0.2222222222222222, \"#7201a8\"], [0.3333333333333333, \"#9c179e\"], [0.4444444444444444, \"#bd3786\"], [0.5555555555555556, \"#d8576b\"], [0.6666666666666666, \"#ed7953\"], [0.7777777777777778, \"#fb9f3a\"], [0.8888888888888888, \"#fdca26\"], [1.0, \"#f0f921\"]], \"type\": \"contour\"}], \"contourcarpet\": [{\"colorbar\": {\"outlinewidth\": 0, \"ticks\": \"\"}, \"type\": \"contourcarpet\"}], \"heatmap\": [{\"colorbar\": {\"outlinewidth\": 0, \"ticks\": \"\"}, \"colorscale\": [[0.0, \"#0d0887\"], [0.1111111111111111, \"#46039f\"], [0.2222222222222222, \"#7201a8\"], [0.3333333333333333, \"#9c179e\"], [0.4444444444444444, \"#bd3786\"], [0.5555555555555556, \"#d8576b\"], [0.6666666666666666, \"#ed7953\"], [0.7777777777777778, \"#fb9f3a\"], [0.8888888888888888, \"#fdca26\"], [1.0, \"#f0f921\"]], \"type\": \"heatmap\"}], \"heatmapgl\": [{\"colorbar\": {\"outlinewidth\": 0, \"ticks\": \"\"}, \"colorscale\": [[0.0, \"#0d0887\"], [0.1111111111111111, \"#46039f\"], [0.2222222222222222, \"#7201a8\"], [0.3333333333333333, \"#9c179e\"], [0.4444444444444444, \"#bd3786\"], [0.5555555555555556, \"#d8576b\"], [0.6666666666666666, \"#ed7953\"], [0.7777777777777778, \"#fb9f3a\"], [0.8888888888888888, \"#fdca26\"], [1.0, \"#f0f921\"]], \"type\": \"heatmapgl\"}], \"histogram\": [{\"marker\": {\"colorbar\": {\"outlinewidth\": 0, \"ticks\": \"\"}}, \"type\": \"histogram\"}], \"histogram2d\": [{\"colorbar\": {\"outlinewidth\": 0, \"ticks\": \"\"}, \"colorscale\": [[0.0, \"#0d0887\"], [0.1111111111111111, \"#46039f\"], [0.2222222222222222, \"#7201a8\"], [0.3333333333333333, \"#9c179e\"], [0.4444444444444444, \"#bd3786\"], [0.5555555555555556, \"#d8576b\"], [0.6666666666666666, \"#ed7953\"], [0.7777777777777778, \"#fb9f3a\"], [0.8888888888888888, \"#fdca26\"], [1.0, \"#f0f921\"]], \"type\": \"histogram2d\"}], \"histogram2dcontour\": [{\"colorbar\": {\"outlinewidth\": 0, \"ticks\": \"\"}, \"colorscale\": [[0.0, \"#0d0887\"], [0.1111111111111111, \"#46039f\"], [0.2222222222222222, \"#7201a8\"], [0.3333333333333333, \"#9c179e\"], [0.4444444444444444, \"#bd3786\"], [0.5555555555555556, \"#d8576b\"], [0.6666666666666666, \"#ed7953\"], [0.7777777777777778, \"#fb9f3a\"], [0.8888888888888888, \"#fdca26\"], [1.0, \"#f0f921\"]], \"type\": \"histogram2dcontour\"}], \"mesh3d\": [{\"colorbar\": {\"outlinewidth\": 0, \"ticks\": \"\"}, \"type\": \"mesh3d\"}], \"parcoords\": [{\"line\": {\"colorbar\": {\"outlinewidth\": 0, \"ticks\": \"\"}}, \"type\": \"parcoords\"}], \"scatter\": [{\"marker\": {\"colorbar\": {\"outlinewidth\": 0, \"ticks\": \"\"}}, \"type\": \"scatter\"}], \"scatter3d\": [{\"line\": {\"colorbar\": {\"outlinewidth\": 0, \"ticks\": \"\"}}, \"marker\": {\"colorbar\": {\"outlinewidth\": 0, \"ticks\": \"\"}}, \"type\": \"scatter3d\"}], \"scattercarpet\": [{\"marker\": {\"colorbar\": {\"outlinewidth\": 0, \"ticks\": \"\"}}, \"type\": \"scattercarpet\"}], \"scattergeo\": [{\"marker\": {\"colorbar\": {\"outlinewidth\": 0, \"ticks\": \"\"}}, \"type\": \"scattergeo\"}], \"scattergl\": [{\"marker\": {\"colorbar\": {\"outlinewidth\": 0, \"ticks\": \"\"}}, \"type\": \"scattergl\"}], \"scattermapbox\": [{\"marker\": {\"colorbar\": {\"outlinewidth\": 0, \"ticks\": \"\"}}, \"type\": \"scattermapbox\"}], \"scatterpolar\": [{\"marker\": {\"colorbar\": {\"outlinewidth\": 0, \"ticks\": \"\"}}, \"type\": \"scatterpolar\"}], \"scatterpolargl\": [{\"marker\": {\"colorbar\": {\"outlinewidth\": 0, \"ticks\": \"\"}}, \"type\": \"scatterpolargl\"}], \"scatterternary\": [{\"marker\": {\"colorbar\": {\"outlinewidth\": 0, \"ticks\": \"\"}}, \"type\": \"scatterternary\"}], \"surface\": [{\"colorbar\": {\"outlinewidth\": 0, \"ticks\": \"\"}, \"colorscale\": [[0.0, \"#0d0887\"], [0.1111111111111111, \"#46039f\"], [0.2222222222222222, \"#7201a8\"], [0.3333333333333333, \"#9c179e\"], [0.4444444444444444, \"#bd3786\"], [0.5555555555555556, \"#d8576b\"], [0.6666666666666666, \"#ed7953\"], [0.7777777777777778, \"#fb9f3a\"], [0.8888888888888888, \"#fdca26\"], [1.0, \"#f0f921\"]], \"type\": \"surface\"}], \"table\": [{\"cells\": {\"fill\": {\"color\": \"#EBF0F8\"}, \"line\": {\"color\": \"white\"}}, \"header\": {\"fill\": {\"color\": \"#C8D4E3\"}, \"line\": {\"color\": \"white\"}}, \"type\": \"table\"}]}, \"layout\": {\"annotationdefaults\": {\"arrowcolor\": \"#2a3f5f\", \"arrowhead\": 0, \"arrowwidth\": 1}, \"colorscale\": {\"diverging\": [[0, \"#8e0152\"], [0.1, \"#c51b7d\"], [0.2, \"#de77ae\"], [0.3, \"#f1b6da\"], [0.4, \"#fde0ef\"], [0.5, \"#f7f7f7\"], [0.6, \"#e6f5d0\"], [0.7, \"#b8e186\"], [0.8, \"#7fbc41\"], [0.9, \"#4d9221\"], [1, \"#276419\"]], \"sequential\": [[0.0, \"#0d0887\"], [0.1111111111111111, \"#46039f\"], [0.2222222222222222, \"#7201a8\"], [0.3333333333333333, \"#9c179e\"], [0.4444444444444444, \"#bd3786\"], [0.5555555555555556, \"#d8576b\"], [0.6666666666666666, \"#ed7953\"], [0.7777777777777778, \"#fb9f3a\"], [0.8888888888888888, \"#fdca26\"], [1.0, \"#f0f921\"]], \"sequentialminus\": [[0.0, \"#0d0887\"], [0.1111111111111111, \"#46039f\"], [0.2222222222222222, \"#7201a8\"], [0.3333333333333333, \"#9c179e\"], [0.4444444444444444, \"#bd3786\"], [0.5555555555555556, \"#d8576b\"], [0.6666666666666666, \"#ed7953\"], [0.7777777777777778, \"#fb9f3a\"], [0.8888888888888888, \"#fdca26\"], [1.0, \"#f0f921\"]]}, \"colorway\": [\"#636efa\", \"#EF553B\", \"#00cc96\", \"#ab63fa\", \"#FFA15A\", \"#19d3f3\", \"#FF6692\", \"#B6E880\", \"#FF97FF\", \"#FECB52\"], \"font\": {\"color\": \"#2a3f5f\"}, \"geo\": {\"bgcolor\": \"white\", \"lakecolor\": \"white\", \"landcolor\": \"#E5ECF6\", \"showlakes\": true, \"showland\": true, \"subunitcolor\": \"white\"}, \"hoverlabel\": {\"align\": \"left\"}, \"hovermode\": \"closest\", \"mapbox\": {\"style\": \"light\"}, \"paper_bgcolor\": \"white\", \"plot_bgcolor\": \"#E5ECF6\", \"polar\": {\"angularaxis\": {\"gridcolor\": \"white\", \"linecolor\": \"white\", \"ticks\": \"\"}, \"bgcolor\": \"#E5ECF6\", \"radialaxis\": {\"gridcolor\": \"white\", \"linecolor\": \"white\", \"ticks\": \"\"}}, \"scene\": {\"xaxis\": {\"backgroundcolor\": \"#E5ECF6\", \"gridcolor\": \"white\", \"gridwidth\": 2, \"linecolor\": \"white\", \"showbackground\": true, \"ticks\": \"\", \"zerolinecolor\": \"white\"}, \"yaxis\": {\"backgroundcolor\": \"#E5ECF6\", \"gridcolor\": \"white\", \"gridwidth\": 2, \"linecolor\": \"white\", \"showbackground\": true, \"ticks\": \"\", \"zerolinecolor\": \"white\"}, \"zaxis\": {\"backgroundcolor\": \"#E5ECF6\", \"gridcolor\": \"white\", \"gridwidth\": 2, \"linecolor\": \"white\", \"showbackground\": true, \"ticks\": \"\", \"zerolinecolor\": \"white\"}}, \"shapedefaults\": {\"line\": {\"color\": \"#2a3f5f\"}}, \"ternary\": {\"aaxis\": {\"gridcolor\": \"white\", \"linecolor\": \"white\", \"ticks\": \"\"}, \"baxis\": {\"gridcolor\": \"white\", \"linecolor\": \"white\", \"ticks\": \"\"}, \"bgcolor\": \"#E5ECF6\", \"caxis\": {\"gridcolor\": \"white\", \"linecolor\": \"white\", \"ticks\": \"\"}}, \"title\": {\"x\": 0.05}, \"xaxis\": {\"automargin\": true, \"gridcolor\": \"white\", \"linecolor\": \"white\", \"ticks\": \"\", \"zerolinecolor\": \"white\", \"zerolinewidth\": 2}, \"yaxis\": {\"automargin\": true, \"gridcolor\": \"white\", \"linecolor\": \"white\", \"ticks\": \"\", \"zerolinecolor\": \"white\", \"zerolinewidth\": 2}}}, \"title\": {\"text\": \"Weekly COVID-19 Case Volumes by Age Group - Florida\", \"x\": 0.5, \"xanchor\": \"center\", \"y\": 0.9, \"yanchor\": \"top\"}, \"xaxis\": {\"anchor\": \"y\", \"domain\": [0.0, 0.98], \"title\": {\"text\": \"Date\"}}, \"yaxis\": {\"anchor\": \"x\", \"domain\": [0.0, 1.0], \"tickformat\": \",.0\", \"title\": {\"text\": \"Confirmed Case Volume\"}}},\n",
       "                        {\"responsive\": true}\n",
       "                    ).then(function(){\n",
       "                            \n",
       "var gd = document.getElementById('2070d7f6-7717-45f0-a0ae-cbb96390fcf7');\n",
       "var x = new MutationObserver(function (mutations, observer) {{\n",
       "        var display = window.getComputedStyle(gd).display;\n",
       "        if (!display || display === 'none') {{\n",
       "            console.log([gd, 'removed!']);\n",
       "            Plotly.purge(gd);\n",
       "            observer.disconnect();\n",
       "        }}\n",
       "}});\n",
       "\n",
       "// Listen for the removal of the full notebook cells\n",
       "var notebookContainer = gd.closest('#notebook-container');\n",
       "if (notebookContainer) {{\n",
       "    x.observe(notebookContainer, {childList: true});\n",
       "}}\n",
       "\n",
       "// Listen for the clearing of the current output cell\n",
       "var outputEl = gd.closest('.output');\n",
       "if (outputEl) {{\n",
       "    x.observe(outputEl, {childList: true});\n",
       "}}\n",
       "\n",
       "                        })\n",
       "                };\n",
       "                });\n",
       "            </script>\n",
       "        </div>"
      ]
     },
     "metadata": {},
     "output_type": "display_data"
    }
   ],
   "source": [
    "# Case volumes by age group and reported date - Plot\n",
    "df2 = df[df['ChartDate']<last_full_week].groupby(['DateWeek','binned']).agg({'Case1':'count'}).reset_index()\n",
    "\n",
    "fig = px.bar(df2,\n",
    "             x=\"DateWeek\",\n",
    "             y=\"Case1\",\n",
    "             color='binned',\n",
    "             barmode='stack',\n",
    "             labels = {'DateWeek':'Date','Case1':'Confirmed Case Volume','binned':'Age Group'},\n",
    "             title={\n",
    "                'text': \"Weekly COVID-19 Case Volumes by Age Group - Florida\",\n",
    "                'y':0.9,\n",
    "                'x':0.5,\n",
    "                'xanchor': 'center',\n",
    "                'yanchor': 'top'})\n",
    "\n",
    "fig.update_yaxes(tickformat = ',.0')\n",
    "fig.update_traces(hovertemplate=None)\n",
    "fig.update_layout(hovermode=\"x\")\n",
    "config = {'responsive': False}\n",
    "\n",
    "fig.show()\n",
    "#py.plot(fig, filename = 'Weekly COVID-19 Case Volumes by Age Group - Florida', auto_open=False, conifg=config)\n",
    "fig.write_image(\"chart_images/Weekly COVID-19 Case Volumes by Age Group - Florida.png\")"
   ]
  },
  {
   "cell_type": "markdown",
   "metadata": {},
   "source": [
    "### A1\n",
    "Cases have started to increase in late June, and it appears to be a similar growth across all age groups. The week of July 12th had the worst number of cases followed by a slight decrease in the week of July 19th. This signals that the rate of spread has decreased as authorities have increased regulations to limit large gatherings and mandate mask wearing. However, the total amount of cases is still very high."
   ]
  },
  {
   "cell_type": "markdown",
   "metadata": {},
   "source": [
    "### Q2. What is the true death rate by demographic?"
   ]
  },
  {
   "cell_type": "code",
   "execution_count": 21,
   "metadata": {},
   "outputs": [
    {
     "data": {
      "text/html": [
       "<div>\n",
       "<style scoped>\n",
       "    .dataframe tbody tr th:only-of-type {\n",
       "        vertical-align: middle;\n",
       "    }\n",
       "\n",
       "    .dataframe tbody tr th {\n",
       "        vertical-align: top;\n",
       "    }\n",
       "\n",
       "    .dataframe thead tr th {\n",
       "        text-align: left;\n",
       "    }\n",
       "\n",
       "    .dataframe thead tr:last-of-type th {\n",
       "        text-align: right;\n",
       "    }\n",
       "</style>\n",
       "<table border=\"1\" class=\"dataframe\">\n",
       "  <thead>\n",
       "    <tr>\n",
       "      <th></th>\n",
       "      <th colspan=\"6\" halign=\"left\">avg_death_rate</th>\n",
       "    </tr>\n",
       "    <tr>\n",
       "      <th>binned</th>\n",
       "      <th>(0, 25]</th>\n",
       "      <th>(25, 50]</th>\n",
       "      <th>(50, 60]</th>\n",
       "      <th>(60, 70]</th>\n",
       "      <th>(70, 80]</th>\n",
       "      <th>(80, 100]</th>\n",
       "    </tr>\n",
       "    <tr>\n",
       "      <th>DateMonth</th>\n",
       "      <th></th>\n",
       "      <th></th>\n",
       "      <th></th>\n",
       "      <th></th>\n",
       "      <th></th>\n",
       "      <th></th>\n",
       "    </tr>\n",
       "  </thead>\n",
       "  <tbody>\n",
       "    <tr>\n",
       "      <th>2020-03</th>\n",
       "      <td>0.000000</td>\n",
       "      <td>1.015965</td>\n",
       "      <td>2.971888</td>\n",
       "      <td>8.191808</td>\n",
       "      <td>18.005181</td>\n",
       "      <td>38.888889</td>\n",
       "    </tr>\n",
       "    <tr>\n",
       "      <th>2020-04</th>\n",
       "      <td>0.000000</td>\n",
       "      <td>0.777202</td>\n",
       "      <td>2.218700</td>\n",
       "      <td>7.022824</td>\n",
       "      <td>17.406407</td>\n",
       "      <td>33.733390</td>\n",
       "    </tr>\n",
       "    <tr>\n",
       "      <th>2020-05</th>\n",
       "      <td>0.056497</td>\n",
       "      <td>0.321294</td>\n",
       "      <td>1.970009</td>\n",
       "      <td>6.041079</td>\n",
       "      <td>15.879340</td>\n",
       "      <td>29.631499</td>\n",
       "    </tr>\n",
       "    <tr>\n",
       "      <th>2020-06</th>\n",
       "      <td>0.021002</td>\n",
       "      <td>0.214671</td>\n",
       "      <td>1.064252</td>\n",
       "      <td>3.643349</td>\n",
       "      <td>9.174085</td>\n",
       "      <td>22.156476</td>\n",
       "    </tr>\n",
       "    <tr>\n",
       "      <th>2020-07</th>\n",
       "      <td>0.030108</td>\n",
       "      <td>0.146413</td>\n",
       "      <td>0.665075</td>\n",
       "      <td>2.542290</td>\n",
       "      <td>7.542001</td>\n",
       "      <td>18.237170</td>\n",
       "    </tr>\n",
       "  </tbody>\n",
       "</table>\n",
       "</div>"
      ],
      "text/plain": [
       "          avg_death_rate                                                    \n",
       "binned           (0, 25]  (25, 50]  (50, 60]  (60, 70]   (70, 80]  (80, 100]\n",
       "DateMonth                                                                   \n",
       "2020-03         0.000000  1.015965  2.971888  8.191808  18.005181  38.888889\n",
       "2020-04         0.000000  0.777202  2.218700  7.022824  17.406407  33.733390\n",
       "2020-05         0.056497  0.321294  1.970009  6.041079  15.879340  29.631499\n",
       "2020-06         0.021002  0.214671  1.064252  3.643349   9.174085  22.156476\n",
       "2020-07         0.030108  0.146413  0.665075  2.542290   7.542001  18.237170"
      ]
     },
     "execution_count": 21,
     "metadata": {},
     "output_type": "execute_result"
    }
   ],
   "source": [
    "#1D Death rates by age group over time (graph)\n",
    "death_rate = df[df['ChartDate']<death_baked_week].pivot_table(values=['avg_death_rate'], \n",
    "                      index=['DateMonth'],\n",
    "                      columns=['binned'],\n",
    "                      aggfunc='mean')\n",
    "\n",
    "# age = age.div(age.sum(1), axis=0)\n",
    "death_rate#.plot(kind='line', legend=False)"
   ]
  },
  {
   "cell_type": "code",
   "execution_count": 32,
   "metadata": {
    "scrolled": false
   },
   "outputs": [
    {
     "data": {
      "application/vnd.plotly.v1+json": {
       "config": {
        "plotlyServerURL": "https://plotly.com"
       },
       "data": [
        {
         "hoverlabel": {
          "namelength": 0
         },
         "legendgroup": "Age Group=(0, 25]",
         "line": {
          "color": "#636efa",
          "dash": "solid"
         },
         "mode": "lines",
         "name": "Age Group=(0, 25]",
         "showlegend": true,
         "type": "scatter",
         "x": [
          "2020-03-16T00:00:00+00:00",
          "2020-03-23T00:00:00+00:00",
          "2020-03-30T00:00:00+00:00",
          "2020-04-06T00:00:00+00:00",
          "2020-04-13T00:00:00+00:00",
          "2020-04-20T00:00:00+00:00",
          "2020-04-27T00:00:00+00:00",
          "2020-05-04T00:00:00+00:00",
          "2020-05-11T00:00:00+00:00",
          "2020-05-18T00:00:00+00:00",
          "2020-05-25T00:00:00+00:00",
          "2020-06-01T00:00:00+00:00",
          "2020-06-08T00:00:00+00:00",
          "2020-06-15T00:00:00+00:00",
          "2020-06-22T00:00:00+00:00",
          "2020-06-29T00:00:00+00:00",
          "2020-07-06T00:00:00+00:00"
         ],
         "xaxis": "x",
         "y": [
          0,
          0,
          0,
          0,
          0,
          0,
          0,
          0.001984126984126984,
          0,
          0,
          0.0010111223458038423,
          0,
          0,
          0.00014979029358897544,
          0.0002991325157044571,
          0.00019344854268764507,
          0.0003930376193149916
         ],
         "yaxis": "y"
        },
        {
         "hoverlabel": {
          "namelength": 0
         },
         "legendgroup": "Age Group=(25, 50]",
         "line": {
          "color": "#EF553B",
          "dash": "solid"
         },
         "mode": "lines",
         "name": "Age Group=(25, 50]",
         "showlegend": true,
         "type": "scatter",
         "x": [
          "2020-03-16T00:00:00+00:00",
          "2020-03-23T00:00:00+00:00",
          "2020-03-30T00:00:00+00:00",
          "2020-04-06T00:00:00+00:00",
          "2020-04-13T00:00:00+00:00",
          "2020-04-20T00:00:00+00:00",
          "2020-04-27T00:00:00+00:00",
          "2020-05-04T00:00:00+00:00",
          "2020-05-11T00:00:00+00:00",
          "2020-05-18T00:00:00+00:00",
          "2020-05-25T00:00:00+00:00",
          "2020-06-01T00:00:00+00:00",
          "2020-06-08T00:00:00+00:00",
          "2020-06-15T00:00:00+00:00",
          "2020-06-22T00:00:00+00:00",
          "2020-06-29T00:00:00+00:00",
          "2020-07-06T00:00:00+00:00"
         ],
         "xaxis": "x",
         "y": [
          0.008620689655172414,
          0.011166253101736972,
          0.008491182233834096,
          0.006533700137551582,
          0.0104,
          0.007376671277086215,
          0.0029069767441860465,
          0.0031685678073510772,
          0.0042293233082706765,
          0.00401965163019205,
          0.002182453077258839,
          0.0044234739015039815,
          0.003102755977368133,
          0.0017494411507435125,
          0.0019844932619531106,
          0.0014145810663764961,
          0.0014623303696771174
         ],
         "yaxis": "y"
        },
        {
         "hoverlabel": {
          "namelength": 0
         },
         "legendgroup": "Age Group=(50, 60]",
         "line": {
          "color": "#00cc96",
          "dash": "solid"
         },
         "mode": "lines",
         "name": "Age Group=(50, 60]",
         "showlegend": true,
         "type": "scatter",
         "x": [
          "2020-03-16T00:00:00+00:00",
          "2020-03-23T00:00:00+00:00",
          "2020-03-30T00:00:00+00:00",
          "2020-04-06T00:00:00+00:00",
          "2020-04-13T00:00:00+00:00",
          "2020-04-20T00:00:00+00:00",
          "2020-04-27T00:00:00+00:00",
          "2020-05-04T00:00:00+00:00",
          "2020-05-11T00:00:00+00:00",
          "2020-05-18T00:00:00+00:00",
          "2020-05-25T00:00:00+00:00",
          "2020-06-01T00:00:00+00:00",
          "2020-06-08T00:00:00+00:00",
          "2020-06-15T00:00:00+00:00",
          "2020-06-22T00:00:00+00:00",
          "2020-06-29T00:00:00+00:00",
          "2020-07-06T00:00:00+00:00"
         ],
         "xaxis": "x",
         "y": [
          0.03468208092485549,
          0.028169014084507043,
          0.02591792656587473,
          0.017844396859386154,
          0.019130434782608695,
          0.02661207778915046,
          0.02375,
          0.02,
          0.018223234624145785,
          0.02849740932642487,
          0.014193548387096775,
          0.0162748643761302,
          0.013253810470510271,
          0.013944954128440367,
          0.007882479398065209,
          0.008411801632140616,
          0.0056657223796034
         ],
         "yaxis": "y"
        },
        {
         "hoverlabel": {
          "namelength": 0
         },
         "legendgroup": "Age Group=(60, 70]",
         "line": {
          "color": "#ab63fa",
          "dash": "solid"
         },
         "mode": "lines",
         "name": "Age Group=(60, 70]",
         "showlegend": true,
         "type": "scatter",
         "x": [
          "2020-03-16T00:00:00+00:00",
          "2020-03-23T00:00:00+00:00",
          "2020-03-30T00:00:00+00:00",
          "2020-04-06T00:00:00+00:00",
          "2020-04-13T00:00:00+00:00",
          "2020-04-20T00:00:00+00:00",
          "2020-04-27T00:00:00+00:00",
          "2020-05-04T00:00:00+00:00",
          "2020-05-11T00:00:00+00:00",
          "2020-05-18T00:00:00+00:00",
          "2020-05-25T00:00:00+00:00",
          "2020-06-01T00:00:00+00:00",
          "2020-06-08T00:00:00+00:00",
          "2020-06-15T00:00:00+00:00",
          "2020-06-22T00:00:00+00:00",
          "2020-06-29T00:00:00+00:00",
          "2020-07-06T00:00:00+00:00"
         ],
         "xaxis": "x",
         "y": [
          0.0759493670886076,
          0.09107806691449814,
          0.06063193851409052,
          0.07304347826086957,
          0.08235294117647059,
          0.07746478873239436,
          0.05198776758409786,
          0.06365503080082136,
          0.06984126984126984,
          0.055357142857142855,
          0.0497131931166348,
          0.04149377593360996,
          0.035897435897435895,
          0.03557567917205692,
          0.03861477168250076,
          0.029696578437701744,
          0.02280622262498112
         ],
         "yaxis": "y"
        },
        {
         "hoverlabel": {
          "namelength": 0
         },
         "legendgroup": "Age Group=(70, 80]",
         "line": {
          "color": "#FFA15A",
          "dash": "solid"
         },
         "mode": "lines",
         "name": "Age Group=(70, 80]",
         "showlegend": true,
         "type": "scatter",
         "x": [
          "2020-03-16T00:00:00+00:00",
          "2020-03-23T00:00:00+00:00",
          "2020-03-30T00:00:00+00:00",
          "2020-04-06T00:00:00+00:00",
          "2020-04-13T00:00:00+00:00",
          "2020-04-20T00:00:00+00:00",
          "2020-04-27T00:00:00+00:00",
          "2020-05-04T00:00:00+00:00",
          "2020-05-11T00:00:00+00:00",
          "2020-05-18T00:00:00+00:00",
          "2020-05-25T00:00:00+00:00",
          "2020-06-01T00:00:00+00:00",
          "2020-06-08T00:00:00+00:00",
          "2020-06-15T00:00:00+00:00",
          "2020-06-22T00:00:00+00:00",
          "2020-06-29T00:00:00+00:00",
          "2020-07-06T00:00:00+00:00"
         ],
         "xaxis": "x",
         "y": [
          0.18181818181818182,
          0.1905829596412556,
          0.1518324607329843,
          0.18129496402877698,
          0.1848013816925734,
          0.15831663326653306,
          0.1825726141078838,
          0.14652956298200515,
          0.1743119266055046,
          0.16358839050131926,
          0.14241486068111456,
          0.11029411764705882,
          0.0975609756097561,
          0.09213483146067415,
          0.09230769230769231,
          0.06885109912899212,
          0.07887402452619843
         ],
         "yaxis": "y"
        },
        {
         "hoverlabel": {
          "namelength": 0
         },
         "legendgroup": "Age Group=(80, 100]",
         "line": {
          "color": "#19d3f3",
          "dash": "solid"
         },
         "mode": "lines",
         "name": "Age Group=(80, 100]",
         "showlegend": true,
         "type": "scatter",
         "x": [
          "2020-03-16T00:00:00+00:00",
          "2020-03-23T00:00:00+00:00",
          "2020-03-30T00:00:00+00:00",
          "2020-04-06T00:00:00+00:00",
          "2020-04-13T00:00:00+00:00",
          "2020-04-20T00:00:00+00:00",
          "2020-04-27T00:00:00+00:00",
          "2020-05-04T00:00:00+00:00",
          "2020-05-11T00:00:00+00:00",
          "2020-05-18T00:00:00+00:00",
          "2020-05-25T00:00:00+00:00",
          "2020-06-01T00:00:00+00:00",
          "2020-06-08T00:00:00+00:00",
          "2020-06-15T00:00:00+00:00",
          "2020-06-22T00:00:00+00:00",
          "2020-06-29T00:00:00+00:00",
          "2020-07-06T00:00:00+00:00"
         ],
         "xaxis": "x",
         "y": [
          0.35,
          0.38425925925925924,
          0.3460559796437659,
          0.3290909090909091,
          0.37265917602996257,
          0.3256198347107438,
          0.3154121863799283,
          0.2776659959758551,
          0.30740037950664134,
          0.2755344418052256,
          0.3355048859934853,
          0.22693266832917705,
          0.2459016393442623,
          0.21231766612641814,
          0.22100840336134453,
          0.1988472622478386,
          0.17532197756543416
         ],
         "yaxis": "y"
        }
       ],
       "layout": {
        "height": 600,
        "hovermode": "x",
        "legend": {
         "tracegroupgap": 0
        },
        "template": {
         "data": {
          "bar": [
           {
            "error_x": {
             "color": "#2a3f5f"
            },
            "error_y": {
             "color": "#2a3f5f"
            },
            "marker": {
             "line": {
              "color": "#E5ECF6",
              "width": 0.5
             }
            },
            "type": "bar"
           }
          ],
          "barpolar": [
           {
            "marker": {
             "line": {
              "color": "#E5ECF6",
              "width": 0.5
             }
            },
            "type": "barpolar"
           }
          ],
          "carpet": [
           {
            "aaxis": {
             "endlinecolor": "#2a3f5f",
             "gridcolor": "white",
             "linecolor": "white",
             "minorgridcolor": "white",
             "startlinecolor": "#2a3f5f"
            },
            "baxis": {
             "endlinecolor": "#2a3f5f",
             "gridcolor": "white",
             "linecolor": "white",
             "minorgridcolor": "white",
             "startlinecolor": "#2a3f5f"
            },
            "type": "carpet"
           }
          ],
          "choropleth": [
           {
            "colorbar": {
             "outlinewidth": 0,
             "ticks": ""
            },
            "type": "choropleth"
           }
          ],
          "contour": [
           {
            "colorbar": {
             "outlinewidth": 0,
             "ticks": ""
            },
            "colorscale": [
             [
              0,
              "#0d0887"
             ],
             [
              0.1111111111111111,
              "#46039f"
             ],
             [
              0.2222222222222222,
              "#7201a8"
             ],
             [
              0.3333333333333333,
              "#9c179e"
             ],
             [
              0.4444444444444444,
              "#bd3786"
             ],
             [
              0.5555555555555556,
              "#d8576b"
             ],
             [
              0.6666666666666666,
              "#ed7953"
             ],
             [
              0.7777777777777778,
              "#fb9f3a"
             ],
             [
              0.8888888888888888,
              "#fdca26"
             ],
             [
              1,
              "#f0f921"
             ]
            ],
            "type": "contour"
           }
          ],
          "contourcarpet": [
           {
            "colorbar": {
             "outlinewidth": 0,
             "ticks": ""
            },
            "type": "contourcarpet"
           }
          ],
          "heatmap": [
           {
            "colorbar": {
             "outlinewidth": 0,
             "ticks": ""
            },
            "colorscale": [
             [
              0,
              "#0d0887"
             ],
             [
              0.1111111111111111,
              "#46039f"
             ],
             [
              0.2222222222222222,
              "#7201a8"
             ],
             [
              0.3333333333333333,
              "#9c179e"
             ],
             [
              0.4444444444444444,
              "#bd3786"
             ],
             [
              0.5555555555555556,
              "#d8576b"
             ],
             [
              0.6666666666666666,
              "#ed7953"
             ],
             [
              0.7777777777777778,
              "#fb9f3a"
             ],
             [
              0.8888888888888888,
              "#fdca26"
             ],
             [
              1,
              "#f0f921"
             ]
            ],
            "type": "heatmap"
           }
          ],
          "heatmapgl": [
           {
            "colorbar": {
             "outlinewidth": 0,
             "ticks": ""
            },
            "colorscale": [
             [
              0,
              "#0d0887"
             ],
             [
              0.1111111111111111,
              "#46039f"
             ],
             [
              0.2222222222222222,
              "#7201a8"
             ],
             [
              0.3333333333333333,
              "#9c179e"
             ],
             [
              0.4444444444444444,
              "#bd3786"
             ],
             [
              0.5555555555555556,
              "#d8576b"
             ],
             [
              0.6666666666666666,
              "#ed7953"
             ],
             [
              0.7777777777777778,
              "#fb9f3a"
             ],
             [
              0.8888888888888888,
              "#fdca26"
             ],
             [
              1,
              "#f0f921"
             ]
            ],
            "type": "heatmapgl"
           }
          ],
          "histogram": [
           {
            "marker": {
             "colorbar": {
              "outlinewidth": 0,
              "ticks": ""
             }
            },
            "type": "histogram"
           }
          ],
          "histogram2d": [
           {
            "colorbar": {
             "outlinewidth": 0,
             "ticks": ""
            },
            "colorscale": [
             [
              0,
              "#0d0887"
             ],
             [
              0.1111111111111111,
              "#46039f"
             ],
             [
              0.2222222222222222,
              "#7201a8"
             ],
             [
              0.3333333333333333,
              "#9c179e"
             ],
             [
              0.4444444444444444,
              "#bd3786"
             ],
             [
              0.5555555555555556,
              "#d8576b"
             ],
             [
              0.6666666666666666,
              "#ed7953"
             ],
             [
              0.7777777777777778,
              "#fb9f3a"
             ],
             [
              0.8888888888888888,
              "#fdca26"
             ],
             [
              1,
              "#f0f921"
             ]
            ],
            "type": "histogram2d"
           }
          ],
          "histogram2dcontour": [
           {
            "colorbar": {
             "outlinewidth": 0,
             "ticks": ""
            },
            "colorscale": [
             [
              0,
              "#0d0887"
             ],
             [
              0.1111111111111111,
              "#46039f"
             ],
             [
              0.2222222222222222,
              "#7201a8"
             ],
             [
              0.3333333333333333,
              "#9c179e"
             ],
             [
              0.4444444444444444,
              "#bd3786"
             ],
             [
              0.5555555555555556,
              "#d8576b"
             ],
             [
              0.6666666666666666,
              "#ed7953"
             ],
             [
              0.7777777777777778,
              "#fb9f3a"
             ],
             [
              0.8888888888888888,
              "#fdca26"
             ],
             [
              1,
              "#f0f921"
             ]
            ],
            "type": "histogram2dcontour"
           }
          ],
          "mesh3d": [
           {
            "colorbar": {
             "outlinewidth": 0,
             "ticks": ""
            },
            "type": "mesh3d"
           }
          ],
          "parcoords": [
           {
            "line": {
             "colorbar": {
              "outlinewidth": 0,
              "ticks": ""
             }
            },
            "type": "parcoords"
           }
          ],
          "scatter": [
           {
            "marker": {
             "colorbar": {
              "outlinewidth": 0,
              "ticks": ""
             }
            },
            "type": "scatter"
           }
          ],
          "scatter3d": [
           {
            "line": {
             "colorbar": {
              "outlinewidth": 0,
              "ticks": ""
             }
            },
            "marker": {
             "colorbar": {
              "outlinewidth": 0,
              "ticks": ""
             }
            },
            "type": "scatter3d"
           }
          ],
          "scattercarpet": [
           {
            "marker": {
             "colorbar": {
              "outlinewidth": 0,
              "ticks": ""
             }
            },
            "type": "scattercarpet"
           }
          ],
          "scattergeo": [
           {
            "marker": {
             "colorbar": {
              "outlinewidth": 0,
              "ticks": ""
             }
            },
            "type": "scattergeo"
           }
          ],
          "scattergl": [
           {
            "marker": {
             "colorbar": {
              "outlinewidth": 0,
              "ticks": ""
             }
            },
            "type": "scattergl"
           }
          ],
          "scattermapbox": [
           {
            "marker": {
             "colorbar": {
              "outlinewidth": 0,
              "ticks": ""
             }
            },
            "type": "scattermapbox"
           }
          ],
          "scatterpolar": [
           {
            "marker": {
             "colorbar": {
              "outlinewidth": 0,
              "ticks": ""
             }
            },
            "type": "scatterpolar"
           }
          ],
          "scatterpolargl": [
           {
            "marker": {
             "colorbar": {
              "outlinewidth": 0,
              "ticks": ""
             }
            },
            "type": "scatterpolargl"
           }
          ],
          "scatterternary": [
           {
            "marker": {
             "colorbar": {
              "outlinewidth": 0,
              "ticks": ""
             }
            },
            "type": "scatterternary"
           }
          ],
          "surface": [
           {
            "colorbar": {
             "outlinewidth": 0,
             "ticks": ""
            },
            "colorscale": [
             [
              0,
              "#0d0887"
             ],
             [
              0.1111111111111111,
              "#46039f"
             ],
             [
              0.2222222222222222,
              "#7201a8"
             ],
             [
              0.3333333333333333,
              "#9c179e"
             ],
             [
              0.4444444444444444,
              "#bd3786"
             ],
             [
              0.5555555555555556,
              "#d8576b"
             ],
             [
              0.6666666666666666,
              "#ed7953"
             ],
             [
              0.7777777777777778,
              "#fb9f3a"
             ],
             [
              0.8888888888888888,
              "#fdca26"
             ],
             [
              1,
              "#f0f921"
             ]
            ],
            "type": "surface"
           }
          ],
          "table": [
           {
            "cells": {
             "fill": {
              "color": "#EBF0F8"
             },
             "line": {
              "color": "white"
             }
            },
            "header": {
             "fill": {
              "color": "#C8D4E3"
             },
             "line": {
              "color": "white"
             }
            },
            "type": "table"
           }
          ]
         },
         "layout": {
          "annotationdefaults": {
           "arrowcolor": "#2a3f5f",
           "arrowhead": 0,
           "arrowwidth": 1
          },
          "colorscale": {
           "diverging": [
            [
             0,
             "#8e0152"
            ],
            [
             0.1,
             "#c51b7d"
            ],
            [
             0.2,
             "#de77ae"
            ],
            [
             0.3,
             "#f1b6da"
            ],
            [
             0.4,
             "#fde0ef"
            ],
            [
             0.5,
             "#f7f7f7"
            ],
            [
             0.6,
             "#e6f5d0"
            ],
            [
             0.7,
             "#b8e186"
            ],
            [
             0.8,
             "#7fbc41"
            ],
            [
             0.9,
             "#4d9221"
            ],
            [
             1,
             "#276419"
            ]
           ],
           "sequential": [
            [
             0,
             "#0d0887"
            ],
            [
             0.1111111111111111,
             "#46039f"
            ],
            [
             0.2222222222222222,
             "#7201a8"
            ],
            [
             0.3333333333333333,
             "#9c179e"
            ],
            [
             0.4444444444444444,
             "#bd3786"
            ],
            [
             0.5555555555555556,
             "#d8576b"
            ],
            [
             0.6666666666666666,
             "#ed7953"
            ],
            [
             0.7777777777777778,
             "#fb9f3a"
            ],
            [
             0.8888888888888888,
             "#fdca26"
            ],
            [
             1,
             "#f0f921"
            ]
           ],
           "sequentialminus": [
            [
             0,
             "#0d0887"
            ],
            [
             0.1111111111111111,
             "#46039f"
            ],
            [
             0.2222222222222222,
             "#7201a8"
            ],
            [
             0.3333333333333333,
             "#9c179e"
            ],
            [
             0.4444444444444444,
             "#bd3786"
            ],
            [
             0.5555555555555556,
             "#d8576b"
            ],
            [
             0.6666666666666666,
             "#ed7953"
            ],
            [
             0.7777777777777778,
             "#fb9f3a"
            ],
            [
             0.8888888888888888,
             "#fdca26"
            ],
            [
             1,
             "#f0f921"
            ]
           ]
          },
          "colorway": [
           "#636efa",
           "#EF553B",
           "#00cc96",
           "#ab63fa",
           "#FFA15A",
           "#19d3f3",
           "#FF6692",
           "#B6E880",
           "#FF97FF",
           "#FECB52"
          ],
          "font": {
           "color": "#2a3f5f"
          },
          "geo": {
           "bgcolor": "white",
           "lakecolor": "white",
           "landcolor": "#E5ECF6",
           "showlakes": true,
           "showland": true,
           "subunitcolor": "white"
          },
          "hoverlabel": {
           "align": "left"
          },
          "hovermode": "closest",
          "mapbox": {
           "style": "light"
          },
          "paper_bgcolor": "white",
          "plot_bgcolor": "#E5ECF6",
          "polar": {
           "angularaxis": {
            "gridcolor": "white",
            "linecolor": "white",
            "ticks": ""
           },
           "bgcolor": "#E5ECF6",
           "radialaxis": {
            "gridcolor": "white",
            "linecolor": "white",
            "ticks": ""
           }
          },
          "scene": {
           "xaxis": {
            "backgroundcolor": "#E5ECF6",
            "gridcolor": "white",
            "gridwidth": 2,
            "linecolor": "white",
            "showbackground": true,
            "ticks": "",
            "zerolinecolor": "white"
           },
           "yaxis": {
            "backgroundcolor": "#E5ECF6",
            "gridcolor": "white",
            "gridwidth": 2,
            "linecolor": "white",
            "showbackground": true,
            "ticks": "",
            "zerolinecolor": "white"
           },
           "zaxis": {
            "backgroundcolor": "#E5ECF6",
            "gridcolor": "white",
            "gridwidth": 2,
            "linecolor": "white",
            "showbackground": true,
            "ticks": "",
            "zerolinecolor": "white"
           }
          },
          "shapedefaults": {
           "line": {
            "color": "#2a3f5f"
           }
          },
          "ternary": {
           "aaxis": {
            "gridcolor": "white",
            "linecolor": "white",
            "ticks": ""
           },
           "baxis": {
            "gridcolor": "white",
            "linecolor": "white",
            "ticks": ""
           },
           "bgcolor": "#E5ECF6",
           "caxis": {
            "gridcolor": "white",
            "linecolor": "white",
            "ticks": ""
           }
          },
          "title": {
           "x": 0.05
          },
          "xaxis": {
           "automargin": true,
           "gridcolor": "white",
           "linecolor": "white",
           "ticks": "",
           "zerolinecolor": "white",
           "zerolinewidth": 2
          },
          "yaxis": {
           "automargin": true,
           "gridcolor": "white",
           "linecolor": "white",
           "ticks": "",
           "zerolinecolor": "white",
           "zerolinewidth": 2
          }
         }
        },
        "title": {
         "text": "Average Weekly Death Rate by Case Reported Date - Florida",
         "x": 0.5,
         "xanchor": "center",
         "y": 0.9,
         "yanchor": "top"
        },
        "xaxis": {
         "anchor": "y",
         "domain": [
          0,
          0.98
         ],
         "title": {
          "text": "Date"
         }
        },
        "yaxis": {
         "anchor": "x",
         "domain": [
          0,
          1
         ],
         "tickformat": ",.1%",
         "title": {
          "text": "Death Rate"
         }
        }
       }
      },
      "text/html": [
       "<div>\n",
       "        \n",
       "        \n",
       "            <div id=\"dde4f098-c247-4047-92d4-e9c87ae9881a\" class=\"plotly-graph-div\" style=\"height:600px; width:100%;\"></div>\n",
       "            <script type=\"text/javascript\">\n",
       "                require([\"plotly\"], function(Plotly) {\n",
       "                    window.PLOTLYENV=window.PLOTLYENV || {};\n",
       "                    \n",
       "                if (document.getElementById(\"dde4f098-c247-4047-92d4-e9c87ae9881a\")) {\n",
       "                    Plotly.newPlot(\n",
       "                        'dde4f098-c247-4047-92d4-e9c87ae9881a',\n",
       "                        [{\"hoverlabel\": {\"namelength\": 0}, \"legendgroup\": \"Age Group=(0, 25]\", \"line\": {\"color\": \"#636efa\", \"dash\": \"solid\"}, \"mode\": \"lines\", \"name\": \"Age Group=(0, 25]\", \"showlegend\": true, \"type\": \"scatter\", \"x\": [\"2020-03-16T00:00:00+00:00\", \"2020-03-23T00:00:00+00:00\", \"2020-03-30T00:00:00+00:00\", \"2020-04-06T00:00:00+00:00\", \"2020-04-13T00:00:00+00:00\", \"2020-04-20T00:00:00+00:00\", \"2020-04-27T00:00:00+00:00\", \"2020-05-04T00:00:00+00:00\", \"2020-05-11T00:00:00+00:00\", \"2020-05-18T00:00:00+00:00\", \"2020-05-25T00:00:00+00:00\", \"2020-06-01T00:00:00+00:00\", \"2020-06-08T00:00:00+00:00\", \"2020-06-15T00:00:00+00:00\", \"2020-06-22T00:00:00+00:00\", \"2020-06-29T00:00:00+00:00\", \"2020-07-06T00:00:00+00:00\"], \"xaxis\": \"x\", \"y\": [0.0, 0.0, 0.0, 0.0, 0.0, 0.0, 0.0, 0.001984126984126984, 0.0, 0.0, 0.0010111223458038423, 0.0, 0.0, 0.00014979029358897544, 0.0002991325157044571, 0.00019344854268764507, 0.0003930376193149916], \"yaxis\": \"y\"}, {\"hoverlabel\": {\"namelength\": 0}, \"legendgroup\": \"Age Group=(25, 50]\", \"line\": {\"color\": \"#EF553B\", \"dash\": \"solid\"}, \"mode\": \"lines\", \"name\": \"Age Group=(25, 50]\", \"showlegend\": true, \"type\": \"scatter\", \"x\": [\"2020-03-16T00:00:00+00:00\", \"2020-03-23T00:00:00+00:00\", \"2020-03-30T00:00:00+00:00\", \"2020-04-06T00:00:00+00:00\", \"2020-04-13T00:00:00+00:00\", \"2020-04-20T00:00:00+00:00\", \"2020-04-27T00:00:00+00:00\", \"2020-05-04T00:00:00+00:00\", \"2020-05-11T00:00:00+00:00\", \"2020-05-18T00:00:00+00:00\", \"2020-05-25T00:00:00+00:00\", \"2020-06-01T00:00:00+00:00\", \"2020-06-08T00:00:00+00:00\", \"2020-06-15T00:00:00+00:00\", \"2020-06-22T00:00:00+00:00\", \"2020-06-29T00:00:00+00:00\", \"2020-07-06T00:00:00+00:00\"], \"xaxis\": \"x\", \"y\": [0.008620689655172414, 0.011166253101736972, 0.008491182233834096, 0.006533700137551582, 0.0104, 0.007376671277086215, 0.0029069767441860465, 0.0031685678073510772, 0.0042293233082706765, 0.00401965163019205, 0.002182453077258839, 0.0044234739015039815, 0.003102755977368133, 0.0017494411507435125, 0.0019844932619531106, 0.0014145810663764961, 0.0014623303696771174], \"yaxis\": \"y\"}, {\"hoverlabel\": {\"namelength\": 0}, \"legendgroup\": \"Age Group=(50, 60]\", \"line\": {\"color\": \"#00cc96\", \"dash\": \"solid\"}, \"mode\": \"lines\", \"name\": \"Age Group=(50, 60]\", \"showlegend\": true, \"type\": \"scatter\", \"x\": [\"2020-03-16T00:00:00+00:00\", \"2020-03-23T00:00:00+00:00\", \"2020-03-30T00:00:00+00:00\", \"2020-04-06T00:00:00+00:00\", \"2020-04-13T00:00:00+00:00\", \"2020-04-20T00:00:00+00:00\", \"2020-04-27T00:00:00+00:00\", \"2020-05-04T00:00:00+00:00\", \"2020-05-11T00:00:00+00:00\", \"2020-05-18T00:00:00+00:00\", \"2020-05-25T00:00:00+00:00\", \"2020-06-01T00:00:00+00:00\", \"2020-06-08T00:00:00+00:00\", \"2020-06-15T00:00:00+00:00\", \"2020-06-22T00:00:00+00:00\", \"2020-06-29T00:00:00+00:00\", \"2020-07-06T00:00:00+00:00\"], \"xaxis\": \"x\", \"y\": [0.03468208092485549, 0.028169014084507043, 0.02591792656587473, 0.017844396859386154, 0.019130434782608695, 0.02661207778915046, 0.02375, 0.02, 0.018223234624145785, 0.02849740932642487, 0.014193548387096775, 0.0162748643761302, 0.013253810470510271, 0.013944954128440367, 0.007882479398065209, 0.008411801632140616, 0.0056657223796034], \"yaxis\": \"y\"}, {\"hoverlabel\": {\"namelength\": 0}, \"legendgroup\": \"Age Group=(60, 70]\", \"line\": {\"color\": \"#ab63fa\", \"dash\": \"solid\"}, \"mode\": \"lines\", \"name\": \"Age Group=(60, 70]\", \"showlegend\": true, \"type\": \"scatter\", \"x\": [\"2020-03-16T00:00:00+00:00\", \"2020-03-23T00:00:00+00:00\", \"2020-03-30T00:00:00+00:00\", \"2020-04-06T00:00:00+00:00\", \"2020-04-13T00:00:00+00:00\", \"2020-04-20T00:00:00+00:00\", \"2020-04-27T00:00:00+00:00\", \"2020-05-04T00:00:00+00:00\", \"2020-05-11T00:00:00+00:00\", \"2020-05-18T00:00:00+00:00\", \"2020-05-25T00:00:00+00:00\", \"2020-06-01T00:00:00+00:00\", \"2020-06-08T00:00:00+00:00\", \"2020-06-15T00:00:00+00:00\", \"2020-06-22T00:00:00+00:00\", \"2020-06-29T00:00:00+00:00\", \"2020-07-06T00:00:00+00:00\"], \"xaxis\": \"x\", \"y\": [0.0759493670886076, 0.09107806691449814, 0.06063193851409052, 0.07304347826086957, 0.08235294117647059, 0.07746478873239436, 0.05198776758409786, 0.06365503080082136, 0.06984126984126984, 0.055357142857142855, 0.0497131931166348, 0.04149377593360996, 0.035897435897435895, 0.03557567917205692, 0.03861477168250076, 0.029696578437701744, 0.02280622262498112], \"yaxis\": \"y\"}, {\"hoverlabel\": {\"namelength\": 0}, \"legendgroup\": \"Age Group=(70, 80]\", \"line\": {\"color\": \"#FFA15A\", \"dash\": \"solid\"}, \"mode\": \"lines\", \"name\": \"Age Group=(70, 80]\", \"showlegend\": true, \"type\": \"scatter\", \"x\": [\"2020-03-16T00:00:00+00:00\", \"2020-03-23T00:00:00+00:00\", \"2020-03-30T00:00:00+00:00\", \"2020-04-06T00:00:00+00:00\", \"2020-04-13T00:00:00+00:00\", \"2020-04-20T00:00:00+00:00\", \"2020-04-27T00:00:00+00:00\", \"2020-05-04T00:00:00+00:00\", \"2020-05-11T00:00:00+00:00\", \"2020-05-18T00:00:00+00:00\", \"2020-05-25T00:00:00+00:00\", \"2020-06-01T00:00:00+00:00\", \"2020-06-08T00:00:00+00:00\", \"2020-06-15T00:00:00+00:00\", \"2020-06-22T00:00:00+00:00\", \"2020-06-29T00:00:00+00:00\", \"2020-07-06T00:00:00+00:00\"], \"xaxis\": \"x\", \"y\": [0.18181818181818182, 0.1905829596412556, 0.1518324607329843, 0.18129496402877698, 0.1848013816925734, 0.15831663326653306, 0.1825726141078838, 0.14652956298200515, 0.1743119266055046, 0.16358839050131926, 0.14241486068111456, 0.11029411764705882, 0.0975609756097561, 0.09213483146067415, 0.09230769230769231, 0.06885109912899212, 0.07887402452619843], \"yaxis\": \"y\"}, {\"hoverlabel\": {\"namelength\": 0}, \"legendgroup\": \"Age Group=(80, 100]\", \"line\": {\"color\": \"#19d3f3\", \"dash\": \"solid\"}, \"mode\": \"lines\", \"name\": \"Age Group=(80, 100]\", \"showlegend\": true, \"type\": \"scatter\", \"x\": [\"2020-03-16T00:00:00+00:00\", \"2020-03-23T00:00:00+00:00\", \"2020-03-30T00:00:00+00:00\", \"2020-04-06T00:00:00+00:00\", \"2020-04-13T00:00:00+00:00\", \"2020-04-20T00:00:00+00:00\", \"2020-04-27T00:00:00+00:00\", \"2020-05-04T00:00:00+00:00\", \"2020-05-11T00:00:00+00:00\", \"2020-05-18T00:00:00+00:00\", \"2020-05-25T00:00:00+00:00\", \"2020-06-01T00:00:00+00:00\", \"2020-06-08T00:00:00+00:00\", \"2020-06-15T00:00:00+00:00\", \"2020-06-22T00:00:00+00:00\", \"2020-06-29T00:00:00+00:00\", \"2020-07-06T00:00:00+00:00\"], \"xaxis\": \"x\", \"y\": [0.35, 0.38425925925925924, 0.3460559796437659, 0.3290909090909091, 0.37265917602996257, 0.3256198347107438, 0.3154121863799283, 0.2776659959758551, 0.30740037950664134, 0.2755344418052256, 0.3355048859934853, 0.22693266832917705, 0.2459016393442623, 0.21231766612641814, 0.22100840336134453, 0.1988472622478386, 0.17532197756543416], \"yaxis\": \"y\"}],\n",
       "                        {\"height\": 600, \"hovermode\": \"x\", \"legend\": {\"tracegroupgap\": 0}, \"template\": {\"data\": {\"bar\": [{\"error_x\": {\"color\": \"#2a3f5f\"}, \"error_y\": {\"color\": \"#2a3f5f\"}, \"marker\": {\"line\": {\"color\": \"#E5ECF6\", \"width\": 0.5}}, \"type\": \"bar\"}], \"barpolar\": [{\"marker\": {\"line\": {\"color\": \"#E5ECF6\", \"width\": 0.5}}, \"type\": \"barpolar\"}], \"carpet\": [{\"aaxis\": {\"endlinecolor\": \"#2a3f5f\", \"gridcolor\": \"white\", \"linecolor\": \"white\", \"minorgridcolor\": \"white\", \"startlinecolor\": \"#2a3f5f\"}, \"baxis\": {\"endlinecolor\": \"#2a3f5f\", \"gridcolor\": \"white\", \"linecolor\": \"white\", \"minorgridcolor\": \"white\", \"startlinecolor\": \"#2a3f5f\"}, \"type\": \"carpet\"}], \"choropleth\": [{\"colorbar\": {\"outlinewidth\": 0, \"ticks\": \"\"}, \"type\": \"choropleth\"}], \"contour\": [{\"colorbar\": {\"outlinewidth\": 0, \"ticks\": \"\"}, \"colorscale\": [[0.0, \"#0d0887\"], [0.1111111111111111, \"#46039f\"], [0.2222222222222222, \"#7201a8\"], [0.3333333333333333, \"#9c179e\"], [0.4444444444444444, \"#bd3786\"], [0.5555555555555556, \"#d8576b\"], [0.6666666666666666, \"#ed7953\"], [0.7777777777777778, \"#fb9f3a\"], [0.8888888888888888, \"#fdca26\"], [1.0, \"#f0f921\"]], \"type\": \"contour\"}], \"contourcarpet\": [{\"colorbar\": {\"outlinewidth\": 0, \"ticks\": \"\"}, \"type\": \"contourcarpet\"}], \"heatmap\": [{\"colorbar\": {\"outlinewidth\": 0, \"ticks\": \"\"}, \"colorscale\": [[0.0, \"#0d0887\"], [0.1111111111111111, \"#46039f\"], [0.2222222222222222, \"#7201a8\"], [0.3333333333333333, \"#9c179e\"], [0.4444444444444444, \"#bd3786\"], [0.5555555555555556, \"#d8576b\"], [0.6666666666666666, \"#ed7953\"], [0.7777777777777778, \"#fb9f3a\"], [0.8888888888888888, \"#fdca26\"], [1.0, \"#f0f921\"]], \"type\": \"heatmap\"}], \"heatmapgl\": [{\"colorbar\": {\"outlinewidth\": 0, \"ticks\": \"\"}, \"colorscale\": [[0.0, \"#0d0887\"], [0.1111111111111111, \"#46039f\"], [0.2222222222222222, \"#7201a8\"], [0.3333333333333333, \"#9c179e\"], [0.4444444444444444, \"#bd3786\"], [0.5555555555555556, \"#d8576b\"], [0.6666666666666666, \"#ed7953\"], [0.7777777777777778, \"#fb9f3a\"], [0.8888888888888888, \"#fdca26\"], [1.0, \"#f0f921\"]], \"type\": \"heatmapgl\"}], \"histogram\": [{\"marker\": {\"colorbar\": {\"outlinewidth\": 0, \"ticks\": \"\"}}, \"type\": \"histogram\"}], \"histogram2d\": [{\"colorbar\": {\"outlinewidth\": 0, \"ticks\": \"\"}, \"colorscale\": [[0.0, \"#0d0887\"], [0.1111111111111111, \"#46039f\"], [0.2222222222222222, \"#7201a8\"], [0.3333333333333333, \"#9c179e\"], [0.4444444444444444, \"#bd3786\"], [0.5555555555555556, \"#d8576b\"], [0.6666666666666666, \"#ed7953\"], [0.7777777777777778, \"#fb9f3a\"], [0.8888888888888888, \"#fdca26\"], [1.0, \"#f0f921\"]], \"type\": \"histogram2d\"}], \"histogram2dcontour\": [{\"colorbar\": {\"outlinewidth\": 0, \"ticks\": \"\"}, \"colorscale\": [[0.0, \"#0d0887\"], [0.1111111111111111, \"#46039f\"], [0.2222222222222222, \"#7201a8\"], [0.3333333333333333, \"#9c179e\"], [0.4444444444444444, \"#bd3786\"], [0.5555555555555556, \"#d8576b\"], [0.6666666666666666, \"#ed7953\"], [0.7777777777777778, \"#fb9f3a\"], [0.8888888888888888, \"#fdca26\"], [1.0, \"#f0f921\"]], \"type\": \"histogram2dcontour\"}], \"mesh3d\": [{\"colorbar\": {\"outlinewidth\": 0, \"ticks\": \"\"}, \"type\": \"mesh3d\"}], \"parcoords\": [{\"line\": {\"colorbar\": {\"outlinewidth\": 0, \"ticks\": \"\"}}, \"type\": \"parcoords\"}], \"scatter\": [{\"marker\": {\"colorbar\": {\"outlinewidth\": 0, \"ticks\": \"\"}}, \"type\": \"scatter\"}], \"scatter3d\": [{\"line\": {\"colorbar\": {\"outlinewidth\": 0, \"ticks\": \"\"}}, \"marker\": {\"colorbar\": {\"outlinewidth\": 0, \"ticks\": \"\"}}, \"type\": \"scatter3d\"}], \"scattercarpet\": [{\"marker\": {\"colorbar\": {\"outlinewidth\": 0, \"ticks\": \"\"}}, \"type\": \"scattercarpet\"}], \"scattergeo\": [{\"marker\": {\"colorbar\": {\"outlinewidth\": 0, \"ticks\": \"\"}}, \"type\": \"scattergeo\"}], \"scattergl\": [{\"marker\": {\"colorbar\": {\"outlinewidth\": 0, \"ticks\": \"\"}}, \"type\": \"scattergl\"}], \"scattermapbox\": [{\"marker\": {\"colorbar\": {\"outlinewidth\": 0, \"ticks\": \"\"}}, \"type\": \"scattermapbox\"}], \"scatterpolar\": [{\"marker\": {\"colorbar\": {\"outlinewidth\": 0, \"ticks\": \"\"}}, \"type\": \"scatterpolar\"}], \"scatterpolargl\": [{\"marker\": {\"colorbar\": {\"outlinewidth\": 0, \"ticks\": \"\"}}, \"type\": \"scatterpolargl\"}], \"scatterternary\": [{\"marker\": {\"colorbar\": {\"outlinewidth\": 0, \"ticks\": \"\"}}, \"type\": \"scatterternary\"}], \"surface\": [{\"colorbar\": {\"outlinewidth\": 0, \"ticks\": \"\"}, \"colorscale\": [[0.0, \"#0d0887\"], [0.1111111111111111, \"#46039f\"], [0.2222222222222222, \"#7201a8\"], [0.3333333333333333, \"#9c179e\"], [0.4444444444444444, \"#bd3786\"], [0.5555555555555556, \"#d8576b\"], [0.6666666666666666, \"#ed7953\"], [0.7777777777777778, \"#fb9f3a\"], [0.8888888888888888, \"#fdca26\"], [1.0, \"#f0f921\"]], \"type\": \"surface\"}], \"table\": [{\"cells\": {\"fill\": {\"color\": \"#EBF0F8\"}, \"line\": {\"color\": \"white\"}}, \"header\": {\"fill\": {\"color\": \"#C8D4E3\"}, \"line\": {\"color\": \"white\"}}, \"type\": \"table\"}]}, \"layout\": {\"annotationdefaults\": {\"arrowcolor\": \"#2a3f5f\", \"arrowhead\": 0, \"arrowwidth\": 1}, \"colorscale\": {\"diverging\": [[0, \"#8e0152\"], [0.1, \"#c51b7d\"], [0.2, \"#de77ae\"], [0.3, \"#f1b6da\"], [0.4, \"#fde0ef\"], [0.5, \"#f7f7f7\"], [0.6, \"#e6f5d0\"], [0.7, \"#b8e186\"], [0.8, \"#7fbc41\"], [0.9, \"#4d9221\"], [1, \"#276419\"]], \"sequential\": [[0.0, \"#0d0887\"], [0.1111111111111111, \"#46039f\"], [0.2222222222222222, \"#7201a8\"], [0.3333333333333333, \"#9c179e\"], [0.4444444444444444, \"#bd3786\"], [0.5555555555555556, \"#d8576b\"], [0.6666666666666666, \"#ed7953\"], [0.7777777777777778, \"#fb9f3a\"], [0.8888888888888888, \"#fdca26\"], [1.0, \"#f0f921\"]], \"sequentialminus\": [[0.0, \"#0d0887\"], [0.1111111111111111, \"#46039f\"], [0.2222222222222222, \"#7201a8\"], [0.3333333333333333, \"#9c179e\"], [0.4444444444444444, \"#bd3786\"], [0.5555555555555556, \"#d8576b\"], [0.6666666666666666, \"#ed7953\"], [0.7777777777777778, \"#fb9f3a\"], [0.8888888888888888, \"#fdca26\"], [1.0, \"#f0f921\"]]}, \"colorway\": [\"#636efa\", \"#EF553B\", \"#00cc96\", \"#ab63fa\", \"#FFA15A\", \"#19d3f3\", \"#FF6692\", \"#B6E880\", \"#FF97FF\", \"#FECB52\"], \"font\": {\"color\": \"#2a3f5f\"}, \"geo\": {\"bgcolor\": \"white\", \"lakecolor\": \"white\", \"landcolor\": \"#E5ECF6\", \"showlakes\": true, \"showland\": true, \"subunitcolor\": \"white\"}, \"hoverlabel\": {\"align\": \"left\"}, \"hovermode\": \"closest\", \"mapbox\": {\"style\": \"light\"}, \"paper_bgcolor\": \"white\", \"plot_bgcolor\": \"#E5ECF6\", \"polar\": {\"angularaxis\": {\"gridcolor\": \"white\", \"linecolor\": \"white\", \"ticks\": \"\"}, \"bgcolor\": \"#E5ECF6\", \"radialaxis\": {\"gridcolor\": \"white\", \"linecolor\": \"white\", \"ticks\": \"\"}}, \"scene\": {\"xaxis\": {\"backgroundcolor\": \"#E5ECF6\", \"gridcolor\": \"white\", \"gridwidth\": 2, \"linecolor\": \"white\", \"showbackground\": true, \"ticks\": \"\", \"zerolinecolor\": \"white\"}, \"yaxis\": {\"backgroundcolor\": \"#E5ECF6\", \"gridcolor\": \"white\", \"gridwidth\": 2, \"linecolor\": \"white\", \"showbackground\": true, \"ticks\": \"\", \"zerolinecolor\": \"white\"}, \"zaxis\": {\"backgroundcolor\": \"#E5ECF6\", \"gridcolor\": \"white\", \"gridwidth\": 2, \"linecolor\": \"white\", \"showbackground\": true, \"ticks\": \"\", \"zerolinecolor\": \"white\"}}, \"shapedefaults\": {\"line\": {\"color\": \"#2a3f5f\"}}, \"ternary\": {\"aaxis\": {\"gridcolor\": \"white\", \"linecolor\": \"white\", \"ticks\": \"\"}, \"baxis\": {\"gridcolor\": \"white\", \"linecolor\": \"white\", \"ticks\": \"\"}, \"bgcolor\": \"#E5ECF6\", \"caxis\": {\"gridcolor\": \"white\", \"linecolor\": \"white\", \"ticks\": \"\"}}, \"title\": {\"x\": 0.05}, \"xaxis\": {\"automargin\": true, \"gridcolor\": \"white\", \"linecolor\": \"white\", \"ticks\": \"\", \"zerolinecolor\": \"white\", \"zerolinewidth\": 2}, \"yaxis\": {\"automargin\": true, \"gridcolor\": \"white\", \"linecolor\": \"white\", \"ticks\": \"\", \"zerolinecolor\": \"white\", \"zerolinewidth\": 2}}}, \"title\": {\"text\": \"Average Weekly Death Rate by Case Reported Date - Florida\", \"x\": 0.5, \"xanchor\": \"center\", \"y\": 0.9, \"yanchor\": \"top\"}, \"xaxis\": {\"anchor\": \"y\", \"domain\": [0.0, 0.98], \"title\": {\"text\": \"Date\"}}, \"yaxis\": {\"anchor\": \"x\", \"domain\": [0.0, 1.0], \"tickformat\": \",.1%\", \"title\": {\"text\": \"Death Rate\"}}},\n",
       "                        {\"responsive\": true}\n",
       "                    ).then(function(){\n",
       "                            \n",
       "var gd = document.getElementById('dde4f098-c247-4047-92d4-e9c87ae9881a');\n",
       "var x = new MutationObserver(function (mutations, observer) {{\n",
       "        var display = window.getComputedStyle(gd).display;\n",
       "        if (!display || display === 'none') {{\n",
       "            console.log([gd, 'removed!']);\n",
       "            Plotly.purge(gd);\n",
       "            observer.disconnect();\n",
       "        }}\n",
       "}});\n",
       "\n",
       "// Listen for the removal of the full notebook cells\n",
       "var notebookContainer = gd.closest('#notebook-container');\n",
       "if (notebookContainer) {{\n",
       "    x.observe(notebookContainer, {childList: true});\n",
       "}}\n",
       "\n",
       "// Listen for the clearing of the current output cell\n",
       "var outputEl = gd.closest('.output');\n",
       "if (outputEl) {{\n",
       "    x.observe(outputEl, {childList: true});\n",
       "}}\n",
       "\n",
       "                        })\n",
       "                };\n",
       "                });\n",
       "            </script>\n",
       "        </div>"
      ]
     },
     "metadata": {},
     "output_type": "display_data"
    }
   ],
   "source": [
    "df2 = df[(df['ChartDate']<death_baked_week)&(df['ChartDate']>'2020-03-15')].groupby(['DateWeek','binned']).agg({'Died_int':'mean'}).reset_index()\n",
    "\n",
    "fig = px.line(df2,\n",
    "             x=\"DateWeek\",\n",
    "             y=\"Died_int\",\n",
    "             color='binned',\n",
    "             #barmode='stack',\n",
    "             labels = {'DateWeek':'Date','Died_int':'Death Rate','binned':'Age Group'},\n",
    "             title={\n",
    "                'text': \"Average Weekly Death Rate by Case Reported Date - Florida\",\n",
    "                'y':0.9,\n",
    "                'x':0.5,\n",
    "                'xanchor': 'center',\n",
    "                'yanchor': 'top'})\n",
    "\n",
    "fig.update_yaxes(tickformat = ',.1%')\n",
    "fig.update_traces(hovertemplate=None)\n",
    "fig.update_layout(hovermode=\"x\")\n",
    "\n",
    "fig.show()\n",
    "#py.plot(fig, filename = 'Average Weekly Death Rate by Case Reported Date - Florida', auto_open=False)\n",
    "fig.write_image(\"chart_images/Average Weekly Death Rate by Case Reported Date - Florida.png\")"
   ]
  },
  {
   "cell_type": "markdown",
   "metadata": {},
   "source": [
    "### A2.\n",
    "The death rate has decreased significantly by age group over time. This can be driven by several factors, including an increase in positive test results, adequate supply of ventilators and hospital beds, and improved treatment plans as doctors learn more about how to address this virus. \n",
    "\n",
    "The spike in case volumes in late June seems to have made the falling trend to plateau. Cases reported in the week of June 21st saw mixed results: age groups 60-70 and 80+ saw a slight increase in death rates, while ages 70-80 saw a slight decrease in death rates."
   ]
  },
  {
   "cell_type": "markdown",
   "metadata": {},
   "source": [
    "### Q3. How large of an impact can we expect in the near future given current case volumes?\n",
    "Predictions of deaths will take actual case volumes and apply two key assumptions to get death volumes:<br><br>\n",
    "1) Average time from case reported date to death date is equal to 21 days. This is based on empirical evidence that it takes approximately 2 weeks for infected people to succumb to the virus, plus an additional 7 days for the death to be reported. In reality, each case has some variability involved, but unfortunately the data isn't available to build a model on this assumption.<br>\n",
    "2) Future death rates will be equal to past death rates in the month of June. While the death rate has decreased over time, there are many unique factors that may just as equally drive up death rates, such as higher case volumes that may potentially overwhelm existing hospital systems and yield worse outcomes."
   ]
  },
  {
   "cell_type": "code",
   "execution_count": 48,
   "metadata": {},
   "outputs": [],
   "source": [
    "df['avg_death_rate']=df['avg_death_rate']/100"
   ]
  },
  {
   "cell_type": "code",
   "execution_count": 49,
   "metadata": {},
   "outputs": [],
   "source": [
    "#Create a dictionary with death rate assumptions based on first 3 weeks of June, merge to df\n",
    "dr_df = pd.pivot_table(df[(df['ChartDate']>=(min_3w_window)) & (df['ChartDate']<death_baked_week) ],index=['binned'],values=[\"avg_death_rate\"],aggfunc=np.mean, margins=True)\n",
    "dr_df.drop(index='All', axis=0).reset_index()\n",
    "df2 = df.merge(dr_df, on='binned', how='left',suffixes=('_l', '_r'))\n",
    "df2 = df2.astype({'avg_death_rate_r':float})\n",
    "df3 = df2.groupby(['TDR_Week','binned']).agg({'avg_death_rate_r':'sum'}).reset_index()\n",
    "df4=df3[df3['TDR_Week']<max_3w_window]"
   ]
  },
  {
   "cell_type": "code",
   "execution_count": 51,
   "metadata": {},
   "outputs": [
    {
     "data": {
      "application/vnd.plotly.v1+json": {
       "config": {
        "plotlyServerURL": "https://plotly.com"
       },
       "data": [
        {
         "alignmentgroup": "True",
         "hoverlabel": {
          "namelength": 0
         },
         "legendgroup": "Age Group=(0, 25]",
         "marker": {
          "color": "#636efa"
         },
         "name": "Age Group=(0, 25]",
         "offsetgroup": "Age Group=(0, 25]",
         "orientation": "v",
         "showlegend": true,
         "textposition": "auto",
         "type": "bar",
         "x": [
          "2020-03-22T00:00:00+00:00",
          "2020-03-29T00:00:00+00:00",
          "2020-04-05T00:00:00+00:00",
          "2020-04-12T00:00:00+00:00",
          "2020-04-19T00:00:00+00:00",
          "2020-04-26T00:00:00+00:00",
          "2020-05-03T00:00:00+00:00",
          "2020-05-10T00:00:00+00:00",
          "2020-05-17T00:00:00+00:00",
          "2020-05-24T00:00:00+00:00",
          "2020-05-31T00:00:00+00:00",
          "2020-06-07T00:00:00+00:00",
          "2020-06-14T00:00:00+00:00",
          "2020-06-21T00:00:00+00:00",
          "2020-06-28T00:00:00+00:00",
          "2020-07-05T00:00:00+00:00",
          "2020-07-12T00:00:00+00:00",
          "2020-07-19T00:00:00+00:00",
          "2020-07-26T00:00:00+00:00",
          "2020-08-02T00:00:00+00:00",
          "2020-08-09T00:00:00+00:00",
          "2020-08-16T00:00:00+00:00"
         ],
         "xaxis": "x",
         "y": [
          0.0002998500749625187,
          0.005397301349325337,
          0.03568215892053977,
          0.11094452773613107,
          0.21289355322338946,
          0.21589205397301472,
          0.1907046476761625,
          0.21649175412293978,
          0.16581709145427279,
          0.15112443778110898,
          0.23688155922039159,
          0.2962518740629718,
          0.29655172413793435,
          0.5475262368815603,
          0.9802098950524061,
          2.0017991004495452,
          4.009595202398252,
          4.65007496251809,
          5.340329835081699,
          5.29685157421214,
          4.833883058470085,
          3.901649175411762
         ],
         "yaxis": "y"
        },
        {
         "alignmentgroup": "True",
         "hoverlabel": {
          "namelength": 0
         },
         "legendgroup": "Age Group=(25, 50]",
         "marker": {
          "color": "#EF553B"
         },
         "name": "Age Group=(25, 50]",
         "offsetgroup": "Age Group=(25, 50]",
         "orientation": "v",
         "showlegend": true,
         "textposition": "auto",
         "type": "bar",
         "x": [
          "2020-03-22T00:00:00+00:00",
          "2020-03-29T00:00:00+00:00",
          "2020-04-05T00:00:00+00:00",
          "2020-04-12T00:00:00+00:00",
          "2020-04-19T00:00:00+00:00",
          "2020-04-26T00:00:00+00:00",
          "2020-05-03T00:00:00+00:00",
          "2020-05-10T00:00:00+00:00",
          "2020-05-17T00:00:00+00:00",
          "2020-05-24T00:00:00+00:00",
          "2020-05-31T00:00:00+00:00",
          "2020-06-07T00:00:00+00:00",
          "2020-06-14T00:00:00+00:00",
          "2020-06-21T00:00:00+00:00",
          "2020-06-28T00:00:00+00:00",
          "2020-07-05T00:00:00+00:00",
          "2020-07-12T00:00:00+00:00",
          "2020-07-19T00:00:00+00:00",
          "2020-07-26T00:00:00+00:00",
          "2020-08-02T00:00:00+00:00",
          "2020-08-09T00:00:00+00:00",
          "2020-08-16T00:00:00+00:00"
         ],
         "xaxis": "x",
         "y": [
          0.0015821646889608056,
          0.05379359942466734,
          0.5505933117583627,
          2.550449478604813,
          4.844588277598012,
          4.6009349154980015,
          3.955411722401882,
          3.4317152103559025,
          2.7213232650125647,
          2.4966558791801505,
          3.3668464581085153,
          3.542466738583149,
          3.6247393024091035,
          5.365120460266216,
          8.668680330816633,
          16.278892484715602,
          34.282344480414146,
          43.620280474667844,
          54.09737504497418,
          53.80625674220517,
          49.289176555218674,
          40.17749011148654
         ],
         "yaxis": "y"
        },
        {
         "alignmentgroup": "True",
         "hoverlabel": {
          "namelength": 0
         },
         "legendgroup": "Age Group=(50, 60]",
         "marker": {
          "color": "#00cc96"
         },
         "name": "Age Group=(50, 60]",
         "offsetgroup": "Age Group=(50, 60]",
         "orientation": "v",
         "showlegend": true,
         "textposition": "auto",
         "type": "bar",
         "x": [
          "2020-03-22T00:00:00+00:00",
          "2020-03-29T00:00:00+00:00",
          "2020-04-05T00:00:00+00:00",
          "2020-04-12T00:00:00+00:00",
          "2020-04-19T00:00:00+00:00",
          "2020-04-26T00:00:00+00:00",
          "2020-05-03T00:00:00+00:00",
          "2020-05-10T00:00:00+00:00",
          "2020-05-17T00:00:00+00:00",
          "2020-05-24T00:00:00+00:00",
          "2020-05-31T00:00:00+00:00",
          "2020-06-07T00:00:00+00:00",
          "2020-06-14T00:00:00+00:00",
          "2020-06-21T00:00:00+00:00",
          "2020-06-28T00:00:00+00:00",
          "2020-07-05T00:00:00+00:00",
          "2020-07-12T00:00:00+00:00",
          "2020-07-19T00:00:00+00:00",
          "2020-07-26T00:00:00+00:00",
          "2020-08-02T00:00:00+00:00",
          "2020-08-09T00:00:00+00:00",
          "2020-08-16T00:00:00+00:00"
         ],
         "xaxis": "x",
         "y": [
          0.014088475626937165,
          0.11975204282896586,
          1.2186531417300663,
          5.001408847562727,
          9.784446322908156,
          9.868977176669784,
          8.100873485489073,
          6.8822203437589415,
          5.635390250774934,
          4.578754578754589,
          6.184840800225514,
          5.438151591997803,
          5.45928430543821,
          7.790927021696438,
          10.629754860524432,
          19.19554804170189,
          39.320935474777656,
          56.10735418426997,
          79.57171034094489,
          83.57283741899829,
          78.81093265708967,
          67.01183431952022
         ],
         "yaxis": "y"
        },
        {
         "alignmentgroup": "True",
         "hoverlabel": {
          "namelength": 0
         },
         "legendgroup": "Age Group=(60, 70]",
         "marker": {
          "color": "#ab63fa"
         },
         "name": "Age Group=(60, 70]",
         "offsetgroup": "Age Group=(60, 70]",
         "orientation": "v",
         "showlegend": true,
         "textposition": "auto",
         "type": "bar",
         "x": [
          "2020-03-22T00:00:00+00:00",
          "2020-03-29T00:00:00+00:00",
          "2020-04-05T00:00:00+00:00",
          "2020-04-12T00:00:00+00:00",
          "2020-04-19T00:00:00+00:00",
          "2020-04-26T00:00:00+00:00",
          "2020-05-03T00:00:00+00:00",
          "2020-05-10T00:00:00+00:00",
          "2020-05-17T00:00:00+00:00",
          "2020-05-24T00:00:00+00:00",
          "2020-05-31T00:00:00+00:00",
          "2020-06-07T00:00:00+00:00",
          "2020-06-14T00:00:00+00:00",
          "2020-06-21T00:00:00+00:00",
          "2020-06-28T00:00:00+00:00",
          "2020-07-05T00:00:00+00:00",
          "2020-07-12T00:00:00+00:00",
          "2020-07-19T00:00:00+00:00",
          "2020-07-26T00:00:00+00:00",
          "2020-08-02T00:00:00+00:00",
          "2020-08-09T00:00:00+00:00",
          "2020-08-16T00:00:00+00:00"
         ],
         "xaxis": "x",
         "y": [
          0.14279815566719428,
          0.9995870896703597,
          4.5124217190833456,
          15.365081549790046,
          33.44332805725764,
          32.843575803455394,
          24.27568646342334,
          20.277338104741716,
          18.677998761269066,
          13.908540361984688,
          17.992567614066502,
          15.993393434725691,
          14.93668708278847,
          20.64861330947644,
          27.845640355103363,
          44.153189732297704,
          93.19007638840722,
          132.71660587708095,
          189.0933177345059,
          213.22620604226884,
          203.658729612564,
          169.30149335902692
         ],
         "yaxis": "y"
        },
        {
         "alignmentgroup": "True",
         "hoverlabel": {
          "namelength": 0
         },
         "legendgroup": "Age Group=(70, 80]",
         "marker": {
          "color": "#FFA15A"
         },
         "name": "Age Group=(70, 80]",
         "offsetgroup": "Age Group=(70, 80]",
         "orientation": "v",
         "showlegend": true,
         "textposition": "auto",
         "type": "bar",
         "x": [
          "2020-03-22T00:00:00+00:00",
          "2020-03-29T00:00:00+00:00",
          "2020-04-05T00:00:00+00:00",
          "2020-04-12T00:00:00+00:00",
          "2020-04-19T00:00:00+00:00",
          "2020-04-26T00:00:00+00:00",
          "2020-05-03T00:00:00+00:00",
          "2020-05-10T00:00:00+00:00",
          "2020-05-17T00:00:00+00:00",
          "2020-05-24T00:00:00+00:00",
          "2020-05-31T00:00:00+00:00",
          "2020-06-07T00:00:00+00:00",
          "2020-06-14T00:00:00+00:00",
          "2020-06-21T00:00:00+00:00",
          "2020-06-28T00:00:00+00:00",
          "2020-07-05T00:00:00+00:00",
          "2020-07-12T00:00:00+00:00",
          "2020-07-19T00:00:00+00:00",
          "2020-07-26T00:00:00+00:00",
          "2020-08-02T00:00:00+00:00",
          "2020-08-09T00:00:00+00:00",
          "2020-08-16T00:00:00+00:00"
         ],
         "xaxis": "x",
         "y": [
          0.3934191702432046,
          1.0228898426323318,
          8.655221745350497,
          35.09298998569363,
          60.11444921316107,
          54.68526466380493,
          45.557939914162716,
          39.263233190271535,
          37.92560801144466,
          30.608011444921157,
          34.30615164520723,
          29.82117310443476,
          25.414878397710932,
          32.103004291845316,
          41.93848354792529,
          70.02861230329023,
          132.97567954220682,
          189.70672389127097,
          282.3175965665211,
          335.58655221746466,
          314.97138769671545,
          263.43347639484244
         ],
         "yaxis": "y"
        },
        {
         "alignmentgroup": "True",
         "hoverlabel": {
          "namelength": 0
         },
         "legendgroup": "Age Group=(80, 100]",
         "marker": {
          "color": "#19d3f3"
         },
         "name": "Age Group=(80, 100]",
         "offsetgroup": "Age Group=(80, 100]",
         "orientation": "v",
         "showlegend": true,
         "textposition": "auto",
         "type": "bar",
         "x": [
          "2020-03-29T00:00:00+00:00",
          "2020-04-05T00:00:00+00:00",
          "2020-04-12T00:00:00+00:00",
          "2020-04-19T00:00:00+00:00",
          "2020-04-26T00:00:00+00:00",
          "2020-05-03T00:00:00+00:00",
          "2020-05-10T00:00:00+00:00",
          "2020-05-17T00:00:00+00:00",
          "2020-05-24T00:00:00+00:00",
          "2020-05-31T00:00:00+00:00",
          "2020-06-07T00:00:00+00:00",
          "2020-06-14T00:00:00+00:00",
          "2020-06-21T00:00:00+00:00",
          "2020-06-28T00:00:00+00:00",
          "2020-07-05T00:00:00+00:00",
          "2020-07-12T00:00:00+00:00",
          "2020-07-19T00:00:00+00:00",
          "2020-07-26T00:00:00+00:00",
          "2020-08-02T00:00:00+00:00",
          "2020-08-09T00:00:00+00:00",
          "2020-08-16T00:00:00+00:00"
         ],
         "xaxis": "x",
         "y": [
          1.1566700100300902,
          11.5667001003009,
          41.6401203610834,
          75.76188565697127,
          106.02808425275883,
          102.94363089267857,
          116.63089267803473,
          107.57031093279896,
          95.81083249749297,
          101.59418254764346,
          81.15967903711173,
          59.18294884653988,
          77.3041123370114,
          94.07582748244782,
          118.94423269809492,
          229.40621865596924,
          267.57632898696244,
          464.01745235707403,
          545.369909729181,
          553.2738214643844,
          455.1496489468433
         ],
         "yaxis": "y"
        },
        {
         "customdata": [
          [
           -10000,
           "2020-08-03"
          ],
          [
           10000,
           "2020-08-03"
          ]
         ],
         "hoverlabel": {
          "namelength": 0
         },
         "legendgroup": "Forecasted After Date=2020-08-03",
         "line": {
          "color": "black",
          "dash": "solid"
         },
         "mode": "lines",
         "name": "Forecasted After Date=2020-08-03",
         "showlegend": true,
         "type": "scatter",
         "x": [
          "2020-08-03",
          "2020-08-03"
         ],
         "xaxis": "x",
         "y": [
          -10000,
          10000
         ],
         "yaxis": "y"
        }
       ],
       "layout": {
        "barmode": "stack",
        "height": 600,
        "hovermode": "x",
        "legend": {
         "tracegroupgap": 0
        },
        "template": {
         "data": {
          "bar": [
           {
            "error_x": {
             "color": "#2a3f5f"
            },
            "error_y": {
             "color": "#2a3f5f"
            },
            "marker": {
             "line": {
              "color": "#E5ECF6",
              "width": 0.5
             }
            },
            "type": "bar"
           }
          ],
          "barpolar": [
           {
            "marker": {
             "line": {
              "color": "#E5ECF6",
              "width": 0.5
             }
            },
            "type": "barpolar"
           }
          ],
          "carpet": [
           {
            "aaxis": {
             "endlinecolor": "#2a3f5f",
             "gridcolor": "white",
             "linecolor": "white",
             "minorgridcolor": "white",
             "startlinecolor": "#2a3f5f"
            },
            "baxis": {
             "endlinecolor": "#2a3f5f",
             "gridcolor": "white",
             "linecolor": "white",
             "minorgridcolor": "white",
             "startlinecolor": "#2a3f5f"
            },
            "type": "carpet"
           }
          ],
          "choropleth": [
           {
            "colorbar": {
             "outlinewidth": 0,
             "ticks": ""
            },
            "type": "choropleth"
           }
          ],
          "contour": [
           {
            "colorbar": {
             "outlinewidth": 0,
             "ticks": ""
            },
            "colorscale": [
             [
              0,
              "#0d0887"
             ],
             [
              0.1111111111111111,
              "#46039f"
             ],
             [
              0.2222222222222222,
              "#7201a8"
             ],
             [
              0.3333333333333333,
              "#9c179e"
             ],
             [
              0.4444444444444444,
              "#bd3786"
             ],
             [
              0.5555555555555556,
              "#d8576b"
             ],
             [
              0.6666666666666666,
              "#ed7953"
             ],
             [
              0.7777777777777778,
              "#fb9f3a"
             ],
             [
              0.8888888888888888,
              "#fdca26"
             ],
             [
              1,
              "#f0f921"
             ]
            ],
            "type": "contour"
           }
          ],
          "contourcarpet": [
           {
            "colorbar": {
             "outlinewidth": 0,
             "ticks": ""
            },
            "type": "contourcarpet"
           }
          ],
          "heatmap": [
           {
            "colorbar": {
             "outlinewidth": 0,
             "ticks": ""
            },
            "colorscale": [
             [
              0,
              "#0d0887"
             ],
             [
              0.1111111111111111,
              "#46039f"
             ],
             [
              0.2222222222222222,
              "#7201a8"
             ],
             [
              0.3333333333333333,
              "#9c179e"
             ],
             [
              0.4444444444444444,
              "#bd3786"
             ],
             [
              0.5555555555555556,
              "#d8576b"
             ],
             [
              0.6666666666666666,
              "#ed7953"
             ],
             [
              0.7777777777777778,
              "#fb9f3a"
             ],
             [
              0.8888888888888888,
              "#fdca26"
             ],
             [
              1,
              "#f0f921"
             ]
            ],
            "type": "heatmap"
           }
          ],
          "heatmapgl": [
           {
            "colorbar": {
             "outlinewidth": 0,
             "ticks": ""
            },
            "colorscale": [
             [
              0,
              "#0d0887"
             ],
             [
              0.1111111111111111,
              "#46039f"
             ],
             [
              0.2222222222222222,
              "#7201a8"
             ],
             [
              0.3333333333333333,
              "#9c179e"
             ],
             [
              0.4444444444444444,
              "#bd3786"
             ],
             [
              0.5555555555555556,
              "#d8576b"
             ],
             [
              0.6666666666666666,
              "#ed7953"
             ],
             [
              0.7777777777777778,
              "#fb9f3a"
             ],
             [
              0.8888888888888888,
              "#fdca26"
             ],
             [
              1,
              "#f0f921"
             ]
            ],
            "type": "heatmapgl"
           }
          ],
          "histogram": [
           {
            "marker": {
             "colorbar": {
              "outlinewidth": 0,
              "ticks": ""
             }
            },
            "type": "histogram"
           }
          ],
          "histogram2d": [
           {
            "colorbar": {
             "outlinewidth": 0,
             "ticks": ""
            },
            "colorscale": [
             [
              0,
              "#0d0887"
             ],
             [
              0.1111111111111111,
              "#46039f"
             ],
             [
              0.2222222222222222,
              "#7201a8"
             ],
             [
              0.3333333333333333,
              "#9c179e"
             ],
             [
              0.4444444444444444,
              "#bd3786"
             ],
             [
              0.5555555555555556,
              "#d8576b"
             ],
             [
              0.6666666666666666,
              "#ed7953"
             ],
             [
              0.7777777777777778,
              "#fb9f3a"
             ],
             [
              0.8888888888888888,
              "#fdca26"
             ],
             [
              1,
              "#f0f921"
             ]
            ],
            "type": "histogram2d"
           }
          ],
          "histogram2dcontour": [
           {
            "colorbar": {
             "outlinewidth": 0,
             "ticks": ""
            },
            "colorscale": [
             [
              0,
              "#0d0887"
             ],
             [
              0.1111111111111111,
              "#46039f"
             ],
             [
              0.2222222222222222,
              "#7201a8"
             ],
             [
              0.3333333333333333,
              "#9c179e"
             ],
             [
              0.4444444444444444,
              "#bd3786"
             ],
             [
              0.5555555555555556,
              "#d8576b"
             ],
             [
              0.6666666666666666,
              "#ed7953"
             ],
             [
              0.7777777777777778,
              "#fb9f3a"
             ],
             [
              0.8888888888888888,
              "#fdca26"
             ],
             [
              1,
              "#f0f921"
             ]
            ],
            "type": "histogram2dcontour"
           }
          ],
          "mesh3d": [
           {
            "colorbar": {
             "outlinewidth": 0,
             "ticks": ""
            },
            "type": "mesh3d"
           }
          ],
          "parcoords": [
           {
            "line": {
             "colorbar": {
              "outlinewidth": 0,
              "ticks": ""
             }
            },
            "type": "parcoords"
           }
          ],
          "scatter": [
           {
            "marker": {
             "colorbar": {
              "outlinewidth": 0,
              "ticks": ""
             }
            },
            "type": "scatter"
           }
          ],
          "scatter3d": [
           {
            "line": {
             "colorbar": {
              "outlinewidth": 0,
              "ticks": ""
             }
            },
            "marker": {
             "colorbar": {
              "outlinewidth": 0,
              "ticks": ""
             }
            },
            "type": "scatter3d"
           }
          ],
          "scattercarpet": [
           {
            "marker": {
             "colorbar": {
              "outlinewidth": 0,
              "ticks": ""
             }
            },
            "type": "scattercarpet"
           }
          ],
          "scattergeo": [
           {
            "marker": {
             "colorbar": {
              "outlinewidth": 0,
              "ticks": ""
             }
            },
            "type": "scattergeo"
           }
          ],
          "scattergl": [
           {
            "marker": {
             "colorbar": {
              "outlinewidth": 0,
              "ticks": ""
             }
            },
            "type": "scattergl"
           }
          ],
          "scattermapbox": [
           {
            "marker": {
             "colorbar": {
              "outlinewidth": 0,
              "ticks": ""
             }
            },
            "type": "scattermapbox"
           }
          ],
          "scatterpolar": [
           {
            "marker": {
             "colorbar": {
              "outlinewidth": 0,
              "ticks": ""
             }
            },
            "type": "scatterpolar"
           }
          ],
          "scatterpolargl": [
           {
            "marker": {
             "colorbar": {
              "outlinewidth": 0,
              "ticks": ""
             }
            },
            "type": "scatterpolargl"
           }
          ],
          "scatterternary": [
           {
            "marker": {
             "colorbar": {
              "outlinewidth": 0,
              "ticks": ""
             }
            },
            "type": "scatterternary"
           }
          ],
          "surface": [
           {
            "colorbar": {
             "outlinewidth": 0,
             "ticks": ""
            },
            "colorscale": [
             [
              0,
              "#0d0887"
             ],
             [
              0.1111111111111111,
              "#46039f"
             ],
             [
              0.2222222222222222,
              "#7201a8"
             ],
             [
              0.3333333333333333,
              "#9c179e"
             ],
             [
              0.4444444444444444,
              "#bd3786"
             ],
             [
              0.5555555555555556,
              "#d8576b"
             ],
             [
              0.6666666666666666,
              "#ed7953"
             ],
             [
              0.7777777777777778,
              "#fb9f3a"
             ],
             [
              0.8888888888888888,
              "#fdca26"
             ],
             [
              1,
              "#f0f921"
             ]
            ],
            "type": "surface"
           }
          ],
          "table": [
           {
            "cells": {
             "fill": {
              "color": "#EBF0F8"
             },
             "line": {
              "color": "white"
             }
            },
            "header": {
             "fill": {
              "color": "#C8D4E3"
             },
             "line": {
              "color": "white"
             }
            },
            "type": "table"
           }
          ]
         },
         "layout": {
          "annotationdefaults": {
           "arrowcolor": "#2a3f5f",
           "arrowhead": 0,
           "arrowwidth": 1
          },
          "colorscale": {
           "diverging": [
            [
             0,
             "#8e0152"
            ],
            [
             0.1,
             "#c51b7d"
            ],
            [
             0.2,
             "#de77ae"
            ],
            [
             0.3,
             "#f1b6da"
            ],
            [
             0.4,
             "#fde0ef"
            ],
            [
             0.5,
             "#f7f7f7"
            ],
            [
             0.6,
             "#e6f5d0"
            ],
            [
             0.7,
             "#b8e186"
            ],
            [
             0.8,
             "#7fbc41"
            ],
            [
             0.9,
             "#4d9221"
            ],
            [
             1,
             "#276419"
            ]
           ],
           "sequential": [
            [
             0,
             "#0d0887"
            ],
            [
             0.1111111111111111,
             "#46039f"
            ],
            [
             0.2222222222222222,
             "#7201a8"
            ],
            [
             0.3333333333333333,
             "#9c179e"
            ],
            [
             0.4444444444444444,
             "#bd3786"
            ],
            [
             0.5555555555555556,
             "#d8576b"
            ],
            [
             0.6666666666666666,
             "#ed7953"
            ],
            [
             0.7777777777777778,
             "#fb9f3a"
            ],
            [
             0.8888888888888888,
             "#fdca26"
            ],
            [
             1,
             "#f0f921"
            ]
           ],
           "sequentialminus": [
            [
             0,
             "#0d0887"
            ],
            [
             0.1111111111111111,
             "#46039f"
            ],
            [
             0.2222222222222222,
             "#7201a8"
            ],
            [
             0.3333333333333333,
             "#9c179e"
            ],
            [
             0.4444444444444444,
             "#bd3786"
            ],
            [
             0.5555555555555556,
             "#d8576b"
            ],
            [
             0.6666666666666666,
             "#ed7953"
            ],
            [
             0.7777777777777778,
             "#fb9f3a"
            ],
            [
             0.8888888888888888,
             "#fdca26"
            ],
            [
             1,
             "#f0f921"
            ]
           ]
          },
          "colorway": [
           "#636efa",
           "#EF553B",
           "#00cc96",
           "#ab63fa",
           "#FFA15A",
           "#19d3f3",
           "#FF6692",
           "#B6E880",
           "#FF97FF",
           "#FECB52"
          ],
          "font": {
           "color": "#2a3f5f"
          },
          "geo": {
           "bgcolor": "white",
           "lakecolor": "white",
           "landcolor": "#E5ECF6",
           "showlakes": true,
           "showland": true,
           "subunitcolor": "white"
          },
          "hoverlabel": {
           "align": "left"
          },
          "hovermode": "closest",
          "mapbox": {
           "style": "light"
          },
          "paper_bgcolor": "white",
          "plot_bgcolor": "#E5ECF6",
          "polar": {
           "angularaxis": {
            "gridcolor": "white",
            "linecolor": "white",
            "ticks": ""
           },
           "bgcolor": "#E5ECF6",
           "radialaxis": {
            "gridcolor": "white",
            "linecolor": "white",
            "ticks": ""
           }
          },
          "scene": {
           "xaxis": {
            "backgroundcolor": "#E5ECF6",
            "gridcolor": "white",
            "gridwidth": 2,
            "linecolor": "white",
            "showbackground": true,
            "ticks": "",
            "zerolinecolor": "white"
           },
           "yaxis": {
            "backgroundcolor": "#E5ECF6",
            "gridcolor": "white",
            "gridwidth": 2,
            "linecolor": "white",
            "showbackground": true,
            "ticks": "",
            "zerolinecolor": "white"
           },
           "zaxis": {
            "backgroundcolor": "#E5ECF6",
            "gridcolor": "white",
            "gridwidth": 2,
            "linecolor": "white",
            "showbackground": true,
            "ticks": "",
            "zerolinecolor": "white"
           }
          },
          "shapedefaults": {
           "line": {
            "color": "#2a3f5f"
           }
          },
          "ternary": {
           "aaxis": {
            "gridcolor": "white",
            "linecolor": "white",
            "ticks": ""
           },
           "baxis": {
            "gridcolor": "white",
            "linecolor": "white",
            "ticks": ""
           },
           "bgcolor": "#E5ECF6",
           "caxis": {
            "gridcolor": "white",
            "linecolor": "white",
            "ticks": ""
           }
          },
          "title": {
           "x": 0.05
          },
          "xaxis": {
           "automargin": true,
           "gridcolor": "white",
           "linecolor": "white",
           "ticks": "",
           "zerolinecolor": "white",
           "zerolinewidth": 2
          },
          "yaxis": {
           "automargin": true,
           "gridcolor": "white",
           "linecolor": "white",
           "ticks": "",
           "zerolinecolor": "white",
           "zerolinewidth": 2
          }
         }
        },
        "title": {
         "text": "Weekly Actual and Forecasted COVID-19 Death Volumes by Age Group - Florida",
         "x": 0.5,
         "xanchor": "center",
         "y": 0.9,
         "yanchor": "top"
        },
        "xaxis": {
         "anchor": "y",
         "domain": [
          0,
          0.98
         ],
         "title": {
          "text": "Date"
         }
        },
        "yaxis": {
         "anchor": "x",
         "domain": [
          0,
          1
         ],
         "range": [
          0,
          1500
         ],
         "tickformat": ",.0f",
         "title": {
          "text": "Predicted Death Count"
         }
        }
       }
      },
      "text/html": [
       "<div>\n",
       "        \n",
       "        \n",
       "            <div id=\"77e6bb44-7389-4c24-a1e2-22f3f3e42738\" class=\"plotly-graph-div\" style=\"height:600px; width:100%;\"></div>\n",
       "            <script type=\"text/javascript\">\n",
       "                require([\"plotly\"], function(Plotly) {\n",
       "                    window.PLOTLYENV=window.PLOTLYENV || {};\n",
       "                    \n",
       "                if (document.getElementById(\"77e6bb44-7389-4c24-a1e2-22f3f3e42738\")) {\n",
       "                    Plotly.newPlot(\n",
       "                        '77e6bb44-7389-4c24-a1e2-22f3f3e42738',\n",
       "                        [{\"alignmentgroup\": \"True\", \"hoverlabel\": {\"namelength\": 0}, \"legendgroup\": \"Age Group=(0, 25]\", \"marker\": {\"color\": \"#636efa\"}, \"name\": \"Age Group=(0, 25]\", \"offsetgroup\": \"Age Group=(0, 25]\", \"orientation\": \"v\", \"showlegend\": true, \"textposition\": \"auto\", \"type\": \"bar\", \"x\": [\"2020-03-22T00:00:00+00:00\", \"2020-03-29T00:00:00+00:00\", \"2020-04-05T00:00:00+00:00\", \"2020-04-12T00:00:00+00:00\", \"2020-04-19T00:00:00+00:00\", \"2020-04-26T00:00:00+00:00\", \"2020-05-03T00:00:00+00:00\", \"2020-05-10T00:00:00+00:00\", \"2020-05-17T00:00:00+00:00\", \"2020-05-24T00:00:00+00:00\", \"2020-05-31T00:00:00+00:00\", \"2020-06-07T00:00:00+00:00\", \"2020-06-14T00:00:00+00:00\", \"2020-06-21T00:00:00+00:00\", \"2020-06-28T00:00:00+00:00\", \"2020-07-05T00:00:00+00:00\", \"2020-07-12T00:00:00+00:00\", \"2020-07-19T00:00:00+00:00\", \"2020-07-26T00:00:00+00:00\", \"2020-08-02T00:00:00+00:00\", \"2020-08-09T00:00:00+00:00\", \"2020-08-16T00:00:00+00:00\"], \"xaxis\": \"x\", \"y\": [0.0002998500749625187, 0.005397301349325337, 0.03568215892053977, 0.11094452773613107, 0.21289355322338946, 0.21589205397301472, 0.1907046476761625, 0.21649175412293978, 0.16581709145427279, 0.15112443778110898, 0.23688155922039159, 0.2962518740629718, 0.29655172413793435, 0.5475262368815603, 0.9802098950524061, 2.0017991004495452, 4.009595202398252, 4.65007496251809, 5.340329835081699, 5.29685157421214, 4.833883058470085, 3.901649175411762], \"yaxis\": \"y\"}, {\"alignmentgroup\": \"True\", \"hoverlabel\": {\"namelength\": 0}, \"legendgroup\": \"Age Group=(25, 50]\", \"marker\": {\"color\": \"#EF553B\"}, \"name\": \"Age Group=(25, 50]\", \"offsetgroup\": \"Age Group=(25, 50]\", \"orientation\": \"v\", \"showlegend\": true, \"textposition\": \"auto\", \"type\": \"bar\", \"x\": [\"2020-03-22T00:00:00+00:00\", \"2020-03-29T00:00:00+00:00\", \"2020-04-05T00:00:00+00:00\", \"2020-04-12T00:00:00+00:00\", \"2020-04-19T00:00:00+00:00\", \"2020-04-26T00:00:00+00:00\", \"2020-05-03T00:00:00+00:00\", \"2020-05-10T00:00:00+00:00\", \"2020-05-17T00:00:00+00:00\", \"2020-05-24T00:00:00+00:00\", \"2020-05-31T00:00:00+00:00\", \"2020-06-07T00:00:00+00:00\", \"2020-06-14T00:00:00+00:00\", \"2020-06-21T00:00:00+00:00\", \"2020-06-28T00:00:00+00:00\", \"2020-07-05T00:00:00+00:00\", \"2020-07-12T00:00:00+00:00\", \"2020-07-19T00:00:00+00:00\", \"2020-07-26T00:00:00+00:00\", \"2020-08-02T00:00:00+00:00\", \"2020-08-09T00:00:00+00:00\", \"2020-08-16T00:00:00+00:00\"], \"xaxis\": \"x\", \"y\": [0.0015821646889608056, 0.05379359942466734, 0.5505933117583627, 2.550449478604813, 4.844588277598012, 4.6009349154980015, 3.955411722401882, 3.4317152103559025, 2.7213232650125647, 2.4966558791801505, 3.3668464581085153, 3.542466738583149, 3.6247393024091035, 5.365120460266216, 8.668680330816633, 16.278892484715602, 34.282344480414146, 43.620280474667844, 54.09737504497418, 53.80625674220517, 49.289176555218674, 40.17749011148654], \"yaxis\": \"y\"}, {\"alignmentgroup\": \"True\", \"hoverlabel\": {\"namelength\": 0}, \"legendgroup\": \"Age Group=(50, 60]\", \"marker\": {\"color\": \"#00cc96\"}, \"name\": \"Age Group=(50, 60]\", \"offsetgroup\": \"Age Group=(50, 60]\", \"orientation\": \"v\", \"showlegend\": true, \"textposition\": \"auto\", \"type\": \"bar\", \"x\": [\"2020-03-22T00:00:00+00:00\", \"2020-03-29T00:00:00+00:00\", \"2020-04-05T00:00:00+00:00\", \"2020-04-12T00:00:00+00:00\", \"2020-04-19T00:00:00+00:00\", \"2020-04-26T00:00:00+00:00\", \"2020-05-03T00:00:00+00:00\", \"2020-05-10T00:00:00+00:00\", \"2020-05-17T00:00:00+00:00\", \"2020-05-24T00:00:00+00:00\", \"2020-05-31T00:00:00+00:00\", \"2020-06-07T00:00:00+00:00\", \"2020-06-14T00:00:00+00:00\", \"2020-06-21T00:00:00+00:00\", \"2020-06-28T00:00:00+00:00\", \"2020-07-05T00:00:00+00:00\", \"2020-07-12T00:00:00+00:00\", \"2020-07-19T00:00:00+00:00\", \"2020-07-26T00:00:00+00:00\", \"2020-08-02T00:00:00+00:00\", \"2020-08-09T00:00:00+00:00\", \"2020-08-16T00:00:00+00:00\"], \"xaxis\": \"x\", \"y\": [0.014088475626937165, 0.11975204282896586, 1.2186531417300663, 5.001408847562727, 9.784446322908156, 9.868977176669784, 8.100873485489073, 6.8822203437589415, 5.635390250774934, 4.578754578754589, 6.184840800225514, 5.438151591997803, 5.45928430543821, 7.790927021696438, 10.629754860524432, 19.19554804170189, 39.320935474777656, 56.10735418426997, 79.57171034094489, 83.57283741899829, 78.81093265708967, 67.01183431952022], \"yaxis\": \"y\"}, {\"alignmentgroup\": \"True\", \"hoverlabel\": {\"namelength\": 0}, \"legendgroup\": \"Age Group=(60, 70]\", \"marker\": {\"color\": \"#ab63fa\"}, \"name\": \"Age Group=(60, 70]\", \"offsetgroup\": \"Age Group=(60, 70]\", \"orientation\": \"v\", \"showlegend\": true, \"textposition\": \"auto\", \"type\": \"bar\", \"x\": [\"2020-03-22T00:00:00+00:00\", \"2020-03-29T00:00:00+00:00\", \"2020-04-05T00:00:00+00:00\", \"2020-04-12T00:00:00+00:00\", \"2020-04-19T00:00:00+00:00\", \"2020-04-26T00:00:00+00:00\", \"2020-05-03T00:00:00+00:00\", \"2020-05-10T00:00:00+00:00\", \"2020-05-17T00:00:00+00:00\", \"2020-05-24T00:00:00+00:00\", \"2020-05-31T00:00:00+00:00\", \"2020-06-07T00:00:00+00:00\", \"2020-06-14T00:00:00+00:00\", \"2020-06-21T00:00:00+00:00\", \"2020-06-28T00:00:00+00:00\", \"2020-07-05T00:00:00+00:00\", \"2020-07-12T00:00:00+00:00\", \"2020-07-19T00:00:00+00:00\", \"2020-07-26T00:00:00+00:00\", \"2020-08-02T00:00:00+00:00\", \"2020-08-09T00:00:00+00:00\", \"2020-08-16T00:00:00+00:00\"], \"xaxis\": \"x\", \"y\": [0.14279815566719428, 0.9995870896703597, 4.5124217190833456, 15.365081549790046, 33.44332805725764, 32.843575803455394, 24.27568646342334, 20.277338104741716, 18.677998761269066, 13.908540361984688, 17.992567614066502, 15.993393434725691, 14.93668708278847, 20.64861330947644, 27.845640355103363, 44.153189732297704, 93.19007638840722, 132.71660587708095, 189.0933177345059, 213.22620604226884, 203.658729612564, 169.30149335902692], \"yaxis\": \"y\"}, {\"alignmentgroup\": \"True\", \"hoverlabel\": {\"namelength\": 0}, \"legendgroup\": \"Age Group=(70, 80]\", \"marker\": {\"color\": \"#FFA15A\"}, \"name\": \"Age Group=(70, 80]\", \"offsetgroup\": \"Age Group=(70, 80]\", \"orientation\": \"v\", \"showlegend\": true, \"textposition\": \"auto\", \"type\": \"bar\", \"x\": [\"2020-03-22T00:00:00+00:00\", \"2020-03-29T00:00:00+00:00\", \"2020-04-05T00:00:00+00:00\", \"2020-04-12T00:00:00+00:00\", \"2020-04-19T00:00:00+00:00\", \"2020-04-26T00:00:00+00:00\", \"2020-05-03T00:00:00+00:00\", \"2020-05-10T00:00:00+00:00\", \"2020-05-17T00:00:00+00:00\", \"2020-05-24T00:00:00+00:00\", \"2020-05-31T00:00:00+00:00\", \"2020-06-07T00:00:00+00:00\", \"2020-06-14T00:00:00+00:00\", \"2020-06-21T00:00:00+00:00\", \"2020-06-28T00:00:00+00:00\", \"2020-07-05T00:00:00+00:00\", \"2020-07-12T00:00:00+00:00\", \"2020-07-19T00:00:00+00:00\", \"2020-07-26T00:00:00+00:00\", \"2020-08-02T00:00:00+00:00\", \"2020-08-09T00:00:00+00:00\", \"2020-08-16T00:00:00+00:00\"], \"xaxis\": \"x\", \"y\": [0.3934191702432046, 1.0228898426323318, 8.655221745350497, 35.09298998569363, 60.11444921316107, 54.68526466380493, 45.557939914162716, 39.263233190271535, 37.92560801144466, 30.608011444921157, 34.30615164520723, 29.82117310443476, 25.414878397710932, 32.103004291845316, 41.93848354792529, 70.02861230329023, 132.97567954220682, 189.70672389127097, 282.3175965665211, 335.58655221746466, 314.97138769671545, 263.43347639484244], \"yaxis\": \"y\"}, {\"alignmentgroup\": \"True\", \"hoverlabel\": {\"namelength\": 0}, \"legendgroup\": \"Age Group=(80, 100]\", \"marker\": {\"color\": \"#19d3f3\"}, \"name\": \"Age Group=(80, 100]\", \"offsetgroup\": \"Age Group=(80, 100]\", \"orientation\": \"v\", \"showlegend\": true, \"textposition\": \"auto\", \"type\": \"bar\", \"x\": [\"2020-03-29T00:00:00+00:00\", \"2020-04-05T00:00:00+00:00\", \"2020-04-12T00:00:00+00:00\", \"2020-04-19T00:00:00+00:00\", \"2020-04-26T00:00:00+00:00\", \"2020-05-03T00:00:00+00:00\", \"2020-05-10T00:00:00+00:00\", \"2020-05-17T00:00:00+00:00\", \"2020-05-24T00:00:00+00:00\", \"2020-05-31T00:00:00+00:00\", \"2020-06-07T00:00:00+00:00\", \"2020-06-14T00:00:00+00:00\", \"2020-06-21T00:00:00+00:00\", \"2020-06-28T00:00:00+00:00\", \"2020-07-05T00:00:00+00:00\", \"2020-07-12T00:00:00+00:00\", \"2020-07-19T00:00:00+00:00\", \"2020-07-26T00:00:00+00:00\", \"2020-08-02T00:00:00+00:00\", \"2020-08-09T00:00:00+00:00\", \"2020-08-16T00:00:00+00:00\"], \"xaxis\": \"x\", \"y\": [1.1566700100300902, 11.5667001003009, 41.6401203610834, 75.76188565697127, 106.02808425275883, 102.94363089267857, 116.63089267803473, 107.57031093279896, 95.81083249749297, 101.59418254764346, 81.15967903711173, 59.18294884653988, 77.3041123370114, 94.07582748244782, 118.94423269809492, 229.40621865596924, 267.57632898696244, 464.01745235707403, 545.369909729181, 553.2738214643844, 455.1496489468433], \"yaxis\": \"y\"}, {\"customdata\": [[-10000, \"2020-08-03\"], [10000, \"2020-08-03\"]], \"hoverlabel\": {\"namelength\": 0}, \"legendgroup\": \"Forecasted After Date=2020-08-03\", \"line\": {\"color\": \"black\", \"dash\": \"solid\"}, \"mode\": \"lines\", \"name\": \"Forecasted After Date=2020-08-03\", \"showlegend\": true, \"type\": \"scatter\", \"x\": [\"2020-08-03\", \"2020-08-03\"], \"xaxis\": \"x\", \"y\": [-10000, 10000], \"yaxis\": \"y\"}],\n",
       "                        {\"barmode\": \"stack\", \"height\": 600, \"hovermode\": \"x\", \"legend\": {\"tracegroupgap\": 0}, \"template\": {\"data\": {\"bar\": [{\"error_x\": {\"color\": \"#2a3f5f\"}, \"error_y\": {\"color\": \"#2a3f5f\"}, \"marker\": {\"line\": {\"color\": \"#E5ECF6\", \"width\": 0.5}}, \"type\": \"bar\"}], \"barpolar\": [{\"marker\": {\"line\": {\"color\": \"#E5ECF6\", \"width\": 0.5}}, \"type\": \"barpolar\"}], \"carpet\": [{\"aaxis\": {\"endlinecolor\": \"#2a3f5f\", \"gridcolor\": \"white\", \"linecolor\": \"white\", \"minorgridcolor\": \"white\", \"startlinecolor\": \"#2a3f5f\"}, \"baxis\": {\"endlinecolor\": \"#2a3f5f\", \"gridcolor\": \"white\", \"linecolor\": \"white\", \"minorgridcolor\": \"white\", \"startlinecolor\": \"#2a3f5f\"}, \"type\": \"carpet\"}], \"choropleth\": [{\"colorbar\": {\"outlinewidth\": 0, \"ticks\": \"\"}, \"type\": \"choropleth\"}], \"contour\": [{\"colorbar\": {\"outlinewidth\": 0, \"ticks\": \"\"}, \"colorscale\": [[0.0, \"#0d0887\"], [0.1111111111111111, \"#46039f\"], [0.2222222222222222, \"#7201a8\"], [0.3333333333333333, \"#9c179e\"], [0.4444444444444444, \"#bd3786\"], [0.5555555555555556, \"#d8576b\"], [0.6666666666666666, \"#ed7953\"], [0.7777777777777778, \"#fb9f3a\"], [0.8888888888888888, \"#fdca26\"], [1.0, \"#f0f921\"]], \"type\": \"contour\"}], \"contourcarpet\": [{\"colorbar\": {\"outlinewidth\": 0, \"ticks\": \"\"}, \"type\": \"contourcarpet\"}], \"heatmap\": [{\"colorbar\": {\"outlinewidth\": 0, \"ticks\": \"\"}, \"colorscale\": [[0.0, \"#0d0887\"], [0.1111111111111111, \"#46039f\"], [0.2222222222222222, \"#7201a8\"], [0.3333333333333333, \"#9c179e\"], [0.4444444444444444, \"#bd3786\"], [0.5555555555555556, \"#d8576b\"], [0.6666666666666666, \"#ed7953\"], [0.7777777777777778, \"#fb9f3a\"], [0.8888888888888888, \"#fdca26\"], [1.0, \"#f0f921\"]], \"type\": \"heatmap\"}], \"heatmapgl\": [{\"colorbar\": {\"outlinewidth\": 0, \"ticks\": \"\"}, \"colorscale\": [[0.0, \"#0d0887\"], [0.1111111111111111, \"#46039f\"], [0.2222222222222222, \"#7201a8\"], [0.3333333333333333, \"#9c179e\"], [0.4444444444444444, \"#bd3786\"], [0.5555555555555556, \"#d8576b\"], [0.6666666666666666, \"#ed7953\"], [0.7777777777777778, \"#fb9f3a\"], [0.8888888888888888, \"#fdca26\"], [1.0, \"#f0f921\"]], \"type\": \"heatmapgl\"}], \"histogram\": [{\"marker\": {\"colorbar\": {\"outlinewidth\": 0, \"ticks\": \"\"}}, \"type\": \"histogram\"}], \"histogram2d\": [{\"colorbar\": {\"outlinewidth\": 0, \"ticks\": \"\"}, \"colorscale\": [[0.0, \"#0d0887\"], [0.1111111111111111, \"#46039f\"], [0.2222222222222222, \"#7201a8\"], [0.3333333333333333, \"#9c179e\"], [0.4444444444444444, \"#bd3786\"], [0.5555555555555556, \"#d8576b\"], [0.6666666666666666, \"#ed7953\"], [0.7777777777777778, \"#fb9f3a\"], [0.8888888888888888, \"#fdca26\"], [1.0, \"#f0f921\"]], \"type\": \"histogram2d\"}], \"histogram2dcontour\": [{\"colorbar\": {\"outlinewidth\": 0, \"ticks\": \"\"}, \"colorscale\": [[0.0, \"#0d0887\"], [0.1111111111111111, \"#46039f\"], [0.2222222222222222, \"#7201a8\"], [0.3333333333333333, \"#9c179e\"], [0.4444444444444444, \"#bd3786\"], [0.5555555555555556, \"#d8576b\"], [0.6666666666666666, \"#ed7953\"], [0.7777777777777778, \"#fb9f3a\"], [0.8888888888888888, \"#fdca26\"], [1.0, \"#f0f921\"]], \"type\": \"histogram2dcontour\"}], \"mesh3d\": [{\"colorbar\": {\"outlinewidth\": 0, \"ticks\": \"\"}, \"type\": \"mesh3d\"}], \"parcoords\": [{\"line\": {\"colorbar\": {\"outlinewidth\": 0, \"ticks\": \"\"}}, \"type\": \"parcoords\"}], \"scatter\": [{\"marker\": {\"colorbar\": {\"outlinewidth\": 0, \"ticks\": \"\"}}, \"type\": \"scatter\"}], \"scatter3d\": [{\"line\": {\"colorbar\": {\"outlinewidth\": 0, \"ticks\": \"\"}}, \"marker\": {\"colorbar\": {\"outlinewidth\": 0, \"ticks\": \"\"}}, \"type\": \"scatter3d\"}], \"scattercarpet\": [{\"marker\": {\"colorbar\": {\"outlinewidth\": 0, \"ticks\": \"\"}}, \"type\": \"scattercarpet\"}], \"scattergeo\": [{\"marker\": {\"colorbar\": {\"outlinewidth\": 0, \"ticks\": \"\"}}, \"type\": \"scattergeo\"}], \"scattergl\": [{\"marker\": {\"colorbar\": {\"outlinewidth\": 0, \"ticks\": \"\"}}, \"type\": \"scattergl\"}], \"scattermapbox\": [{\"marker\": {\"colorbar\": {\"outlinewidth\": 0, \"ticks\": \"\"}}, \"type\": \"scattermapbox\"}], \"scatterpolar\": [{\"marker\": {\"colorbar\": {\"outlinewidth\": 0, \"ticks\": \"\"}}, \"type\": \"scatterpolar\"}], \"scatterpolargl\": [{\"marker\": {\"colorbar\": {\"outlinewidth\": 0, \"ticks\": \"\"}}, \"type\": \"scatterpolargl\"}], \"scatterternary\": [{\"marker\": {\"colorbar\": {\"outlinewidth\": 0, \"ticks\": \"\"}}, \"type\": \"scatterternary\"}], \"surface\": [{\"colorbar\": {\"outlinewidth\": 0, \"ticks\": \"\"}, \"colorscale\": [[0.0, \"#0d0887\"], [0.1111111111111111, \"#46039f\"], [0.2222222222222222, \"#7201a8\"], [0.3333333333333333, \"#9c179e\"], [0.4444444444444444, \"#bd3786\"], [0.5555555555555556, \"#d8576b\"], [0.6666666666666666, \"#ed7953\"], [0.7777777777777778, \"#fb9f3a\"], [0.8888888888888888, \"#fdca26\"], [1.0, \"#f0f921\"]], \"type\": \"surface\"}], \"table\": [{\"cells\": {\"fill\": {\"color\": \"#EBF0F8\"}, \"line\": {\"color\": \"white\"}}, \"header\": {\"fill\": {\"color\": \"#C8D4E3\"}, \"line\": {\"color\": \"white\"}}, \"type\": \"table\"}]}, \"layout\": {\"annotationdefaults\": {\"arrowcolor\": \"#2a3f5f\", \"arrowhead\": 0, \"arrowwidth\": 1}, \"colorscale\": {\"diverging\": [[0, \"#8e0152\"], [0.1, \"#c51b7d\"], [0.2, \"#de77ae\"], [0.3, \"#f1b6da\"], [0.4, \"#fde0ef\"], [0.5, \"#f7f7f7\"], [0.6, \"#e6f5d0\"], [0.7, \"#b8e186\"], [0.8, \"#7fbc41\"], [0.9, \"#4d9221\"], [1, \"#276419\"]], \"sequential\": [[0.0, \"#0d0887\"], [0.1111111111111111, \"#46039f\"], [0.2222222222222222, \"#7201a8\"], [0.3333333333333333, \"#9c179e\"], [0.4444444444444444, \"#bd3786\"], [0.5555555555555556, \"#d8576b\"], [0.6666666666666666, \"#ed7953\"], [0.7777777777777778, \"#fb9f3a\"], [0.8888888888888888, \"#fdca26\"], [1.0, \"#f0f921\"]], \"sequentialminus\": [[0.0, \"#0d0887\"], [0.1111111111111111, \"#46039f\"], [0.2222222222222222, \"#7201a8\"], [0.3333333333333333, \"#9c179e\"], [0.4444444444444444, \"#bd3786\"], [0.5555555555555556, \"#d8576b\"], [0.6666666666666666, \"#ed7953\"], [0.7777777777777778, \"#fb9f3a\"], [0.8888888888888888, \"#fdca26\"], [1.0, \"#f0f921\"]]}, \"colorway\": [\"#636efa\", \"#EF553B\", \"#00cc96\", \"#ab63fa\", \"#FFA15A\", \"#19d3f3\", \"#FF6692\", \"#B6E880\", \"#FF97FF\", \"#FECB52\"], \"font\": {\"color\": \"#2a3f5f\"}, \"geo\": {\"bgcolor\": \"white\", \"lakecolor\": \"white\", \"landcolor\": \"#E5ECF6\", \"showlakes\": true, \"showland\": true, \"subunitcolor\": \"white\"}, \"hoverlabel\": {\"align\": \"left\"}, \"hovermode\": \"closest\", \"mapbox\": {\"style\": \"light\"}, \"paper_bgcolor\": \"white\", \"plot_bgcolor\": \"#E5ECF6\", \"polar\": {\"angularaxis\": {\"gridcolor\": \"white\", \"linecolor\": \"white\", \"ticks\": \"\"}, \"bgcolor\": \"#E5ECF6\", \"radialaxis\": {\"gridcolor\": \"white\", \"linecolor\": \"white\", \"ticks\": \"\"}}, \"scene\": {\"xaxis\": {\"backgroundcolor\": \"#E5ECF6\", \"gridcolor\": \"white\", \"gridwidth\": 2, \"linecolor\": \"white\", \"showbackground\": true, \"ticks\": \"\", \"zerolinecolor\": \"white\"}, \"yaxis\": {\"backgroundcolor\": \"#E5ECF6\", \"gridcolor\": \"white\", \"gridwidth\": 2, \"linecolor\": \"white\", \"showbackground\": true, \"ticks\": \"\", \"zerolinecolor\": \"white\"}, \"zaxis\": {\"backgroundcolor\": \"#E5ECF6\", \"gridcolor\": \"white\", \"gridwidth\": 2, \"linecolor\": \"white\", \"showbackground\": true, \"ticks\": \"\", \"zerolinecolor\": \"white\"}}, \"shapedefaults\": {\"line\": {\"color\": \"#2a3f5f\"}}, \"ternary\": {\"aaxis\": {\"gridcolor\": \"white\", \"linecolor\": \"white\", \"ticks\": \"\"}, \"baxis\": {\"gridcolor\": \"white\", \"linecolor\": \"white\", \"ticks\": \"\"}, \"bgcolor\": \"#E5ECF6\", \"caxis\": {\"gridcolor\": \"white\", \"linecolor\": \"white\", \"ticks\": \"\"}}, \"title\": {\"x\": 0.05}, \"xaxis\": {\"automargin\": true, \"gridcolor\": \"white\", \"linecolor\": \"white\", \"ticks\": \"\", \"zerolinecolor\": \"white\", \"zerolinewidth\": 2}, \"yaxis\": {\"automargin\": true, \"gridcolor\": \"white\", \"linecolor\": \"white\", \"ticks\": \"\", \"zerolinecolor\": \"white\", \"zerolinewidth\": 2}}}, \"title\": {\"text\": \"Weekly Actual and Forecasted COVID-19 Death Volumes by Age Group - Florida\", \"x\": 0.5, \"xanchor\": \"center\", \"y\": 0.9, \"yanchor\": \"top\"}, \"xaxis\": {\"anchor\": \"y\", \"domain\": [0.0, 0.98], \"title\": {\"text\": \"Date\"}}, \"yaxis\": {\"anchor\": \"x\", \"domain\": [0.0, 1.0], \"range\": [0, 1500], \"tickformat\": \",.0f\", \"title\": {\"text\": \"Predicted Death Count\"}}},\n",
       "                        {\"responsive\": true}\n",
       "                    ).then(function(){\n",
       "                            \n",
       "var gd = document.getElementById('77e6bb44-7389-4c24-a1e2-22f3f3e42738');\n",
       "var x = new MutationObserver(function (mutations, observer) {{\n",
       "        var display = window.getComputedStyle(gd).display;\n",
       "        if (!display || display === 'none') {{\n",
       "            console.log([gd, 'removed!']);\n",
       "            Plotly.purge(gd);\n",
       "            observer.disconnect();\n",
       "        }}\n",
       "}});\n",
       "\n",
       "// Listen for the removal of the full notebook cells\n",
       "var notebookContainer = gd.closest('#notebook-container');\n",
       "if (notebookContainer) {{\n",
       "    x.observe(notebookContainer, {childList: true});\n",
       "}}\n",
       "\n",
       "// Listen for the clearing of the current output cell\n",
       "var outputEl = gd.closest('.output');\n",
       "if (outputEl) {{\n",
       "    x.observe(outputEl, {childList: true});\n",
       "}}\n",
       "\n",
       "                        })\n",
       "                };\n",
       "                });\n",
       "            </script>\n",
       "        </div>"
      ]
     },
     "metadata": {},
     "output_type": "display_data"
    }
   ],
   "source": [
    "fig = px.bar(df4,\n",
    "             x=\"TDR_Week\",\n",
    "             y='avg_death_rate_r',\n",
    "             color='binned',\n",
    "             barmode='stack',\n",
    "             labels = {'TDR_Week':'Date','avg_death_rate_r':'Predicted Death Count','binned':'Age Group'},\n",
    "             title={\n",
    "                'text': \"Weekly Actual and Forecasted COVID-19 Death Volumes by Age Group - Florida\",\n",
    "                'y':0.9,\n",
    "                'x':0.5,\n",
    "                'xanchor': 'center',\n",
    "                'yanchor': 'top'})\n",
    "\n",
    "temp = {'TDR_Week': [last_full_week,last_full_week],\n",
    "        'avg_death_rate_r': [-10000, 10000],\n",
    "        'binned':[last_full_week,last_full_week]\n",
    "        }\n",
    "temp_df = pd.DataFrame(temp, columns = ['TDR_Week', 'avg_death_rate_r','binned'])\n",
    "\n",
    "\n",
    "fig2 = px.line(temp_df\n",
    "                ,x='TDR_Week'\n",
    "                ,y='avg_death_rate_r'\n",
    "               ,color='binned'\n",
    "            ,color_discrete_sequence=[\"black\"]\n",
    "               ,hover_data={'avg_death_rate_r':False\n",
    "                           ,'TDR_Week':False}\n",
    "               ,labels = {'TDR_Week':'<--- Actuals | Predictions--->','avg_death_rate_r':'blah','binned':'Forecasted After Date'},\n",
    ")\n",
    "\n",
    "fig.add_trace(fig2.data[0])\n",
    "fig.update_traces(hovertemplate=None)\n",
    "fig.update_layout(hovermode=\"x\")\n",
    "fig.update_yaxes(tickformat = ',.0f', range = [0,1500])\n",
    "\n",
    "fig.show()\n",
    "figActuals=fig\n",
    "#py.plot(figActuals, filename = 'Weekly Actual and Forecasted COVID-19 Death Volumes by Age Group - Florida', auto_open=False)\n",
    "fig.write_image(\"chart_images/Weekly Actual and Forecasted COVID-19 Death Volumes by Age Group - Florida.png\")"
   ]
  },
  {
   "cell_type": "markdown",
   "metadata": {},
   "source": [
    "### A3.\n",
    "Death volumes are going to continue to increase from approximately 750 in the week of July 19th to nearly 1100 in the week of July 26th and 1200 in the weeks thereafter. Since we are already seeing lower case volumes, we can expect total death volumes to start to fall after August 9th, but not by much."
   ]
  },
  {
   "cell_type": "markdown",
   "metadata": {},
   "source": [
    "### Q4. Based on multiple plausible scenarios, what is the best course of action Florida can take to reopen the economy?\n",
    "There are 3 main scenarios that this analysis will focus on:<br><br>\n",
    "**Scenario A** - Restart the “normal” economy: Florida started on this path. But since it lasted only 3 weeks before lockdowns resumed, this scenario has been proven itself impractical. However, I have included it in my analysis to quantify the total costs this would incur if Florida were to power through.<br>\n",
    "**Scenario B** - Transition to a “low-touch” economy: This is the current state of Florida after re-closing bars and some indoor venues, but it has yet to be proven as a viable solution. There isn’t data on this yet, but this scenario will assume the lost economic cost is half that of a full lockdown and case volumes fall to a midpoint between between May lows and current highs.<br>\n",
    "**Scenario C** - Re-instate April/May lockdowns: This option is extremely scary for the economy, especially given there is uncertainty on when it will be safe to reopen again. The vaccine is starting to look like the best way out of this pandemic, but it could take another 6-18 months to be developed and distributed, not to mention a recent survey suggests only 50% of Americans will take the vaccine."
   ]
  },
  {
   "cell_type": "code",
   "execution_count": 223,
   "metadata": {},
   "outputs": [],
   "source": [
    "df_agg=df2.groupby(['DateWeek','binned']).agg({'Case1':'count','avg_death_rate_r': 'mean'}).reset_index()\n",
    "df_agg['weekly_growth_rate']=df_agg['Case1'].div(df_agg['Case1'].shift(6))"
   ]
  },
  {
   "cell_type": "code",
   "execution_count": 224,
   "metadata": {},
   "outputs": [],
   "source": [
    "May_temp = df_agg[(df_agg['DateWeek']>='2020-05-03') & (df_agg['DateWeek']<'2020-05-31')]\n",
    "May_temp=May_temp.groupby('binned').agg({'Case1':'mean','avg_death_rate_r': 'mean'}).reset_index()\n",
    "May_temp['DateWeek']=last_full_week\n",
    "May_temp['DateWeek'] = pd.to_datetime(May_temp['DateWeek'], utc = False) - timedelta(days=7)\n",
    "\n",
    "May_temp2=May_temp.rename(columns={'Case1':'May_avg_cases'})\n",
    "May_temp2=May_temp2[['DateWeek','binned','May_avg_cases']]\n",
    "May_temp2['DateWeek'] = May_temp2['DateWeek'].apply( lambda x: pd.to_datetime(x)).dt.normalize()\n",
    "\n",
    "df_agg['DateWeek']=df_agg['DateWeek'].dt.tz_convert(None)\n",
    "temp = df_agg[(df_agg['DateWeek']+timedelta(days=7))==last_full_week].merge(May_temp2, on=['DateWeek','binned'], how='left')\n",
    "temp['SceA_cases']=temp['Case1']"
   ]
  },
  {
   "cell_type": "code",
   "execution_count": 225,
   "metadata": {},
   "outputs": [],
   "source": [
    "df_agg=df_agg[df_agg['DateWeek']<last_full_week]\n",
    "for x in range(7):\n",
    "    temp.loc[:,'DateWeek'] = temp['DateWeek'] + dt.timedelta(days=7)\n",
    "    temp['weekly_growth_rate']=temp['weekly_growth_rate']*1 #Assume weekly growth rate tapers off by 5% per week\n",
    "    temp.loc[:,'SceA_cases'] = temp['SceA_cases']*temp['weekly_growth_rate']\n",
    "    temp['SceA_deaths'] = 0\n",
    "    temp.loc[:,'SceB_cases'] = ((temp['Case1']+temp['May_avg_cases'])/2*x+temp['Case1']*(3-x))/3 #Drop case volume to midpoint of May lows and current highs by August 1st\n",
    "    temp['SceB_deaths'] = 0\n",
    "    temp['SceC_cases'] = (temp['May_avg_cases']*x+temp['Case1']*(3-x))/3 #Return to May low case loads by August 1st\n",
    "    temp['SceC_deaths'] = 0\n",
    "    df_agg = df_agg.append(temp)\n",
    "\n",
    "df_agg=df_agg.fillna({'SceA_cases': 0.0, 'SceB_cases': 0.0, 'SceC_cases': 0.0, 'SceA_deaths': 0.0,'SceB_deaths': 0.0,'SceC_deaths': 0.0})\n",
    "\n",
    "df_agg.loc[:,'SceA_deaths'] = np.where(df_agg['DateWeek']<=max_3w_window,df_agg['avg_death_rate_r'].mul(df_agg['Case1'].shift(18)),df_agg['avg_death_rate_r'].mul(df_agg['SceA_cases'].shift(18)))\n",
    "df_agg.loc[:,'SceB_deaths'] = np.where(df_agg['DateWeek']<=max_3w_window,df_agg['avg_death_rate_r'].mul(df_agg['Case1'].shift(18)),df_agg['avg_death_rate_r'].mul(df_agg['SceB_cases'].shift(18)))\n",
    "df_agg.loc[:,'SceC_deaths'] = np.where(df_agg['DateWeek']<=max_3w_window,df_agg['avg_death_rate_r'].mul(df_agg['Case1'].shift(18)),df_agg['avg_death_rate_r'].mul(df_agg['SceC_cases'].shift(18)))"
   ]
  },
  {
   "cell_type": "code",
   "execution_count": 226,
   "metadata": {},
   "outputs": [
    {
     "data": {
      "text/html": [
       "<div>\n",
       "<style scoped>\n",
       "    .dataframe tbody tr th:only-of-type {\n",
       "        vertical-align: middle;\n",
       "    }\n",
       "\n",
       "    .dataframe tbody tr th {\n",
       "        vertical-align: top;\n",
       "    }\n",
       "\n",
       "    .dataframe thead th {\n",
       "        text-align: right;\n",
       "    }\n",
       "</style>\n",
       "<table border=\"1\" class=\"dataframe\">\n",
       "  <thead>\n",
       "    <tr style=\"text-align: right;\">\n",
       "      <th></th>\n",
       "      <th>SceA_deaths</th>\n",
       "      <th>SceB_deaths</th>\n",
       "      <th>SceC_deaths</th>\n",
       "    </tr>\n",
       "    <tr>\n",
       "      <th>DateWeek</th>\n",
       "      <th></th>\n",
       "      <th></th>\n",
       "      <th></th>\n",
       "    </tr>\n",
       "  </thead>\n",
       "  <tbody>\n",
       "    <tr>\n",
       "      <th>2020-03-02</th>\n",
       "      <td>0.0</td>\n",
       "      <td>0.0</td>\n",
       "      <td>0.0</td>\n",
       "    </tr>\n",
       "    <tr>\n",
       "      <th>2020-03-09</th>\n",
       "      <td>0.0</td>\n",
       "      <td>0.0</td>\n",
       "      <td>0.0</td>\n",
       "    </tr>\n",
       "    <tr>\n",
       "      <th>2020-03-16</th>\n",
       "      <td>0.0</td>\n",
       "      <td>0.0</td>\n",
       "      <td>0.0</td>\n",
       "    </tr>\n",
       "    <tr>\n",
       "      <th>2020-03-23</th>\n",
       "      <td>1.4</td>\n",
       "      <td>1.4</td>\n",
       "      <td>1.4</td>\n",
       "    </tr>\n",
       "    <tr>\n",
       "      <th>2020-03-30</th>\n",
       "      <td>3.4</td>\n",
       "      <td>3.4</td>\n",
       "      <td>3.4</td>\n",
       "    </tr>\n",
       "    <tr>\n",
       "      <th>2020-04-06</th>\n",
       "      <td>26.5</td>\n",
       "      <td>26.5</td>\n",
       "      <td>26.5</td>\n",
       "    </tr>\n",
       "    <tr>\n",
       "      <th>2020-04-13</th>\n",
       "      <td>99.8</td>\n",
       "      <td>99.8</td>\n",
       "      <td>99.8</td>\n",
       "    </tr>\n",
       "    <tr>\n",
       "      <th>2020-04-20</th>\n",
       "      <td>184.2</td>\n",
       "      <td>184.2</td>\n",
       "      <td>184.2</td>\n",
       "    </tr>\n",
       "    <tr>\n",
       "      <th>2020-04-27</th>\n",
       "      <td>208.2</td>\n",
       "      <td>208.2</td>\n",
       "      <td>208.2</td>\n",
       "    </tr>\n",
       "    <tr>\n",
       "      <th>2020-05-04</th>\n",
       "      <td>185.0</td>\n",
       "      <td>185.0</td>\n",
       "      <td>185.0</td>\n",
       "    </tr>\n",
       "    <tr>\n",
       "      <th>2020-05-11</th>\n",
       "      <td>186.7</td>\n",
       "      <td>186.7</td>\n",
       "      <td>186.7</td>\n",
       "    </tr>\n",
       "    <tr>\n",
       "      <th>2020-05-18</th>\n",
       "      <td>172.7</td>\n",
       "      <td>172.7</td>\n",
       "      <td>172.7</td>\n",
       "    </tr>\n",
       "    <tr>\n",
       "      <th>2020-05-25</th>\n",
       "      <td>147.6</td>\n",
       "      <td>147.6</td>\n",
       "      <td>147.6</td>\n",
       "    </tr>\n",
       "    <tr>\n",
       "      <th>2020-06-01</th>\n",
       "      <td>163.7</td>\n",
       "      <td>163.7</td>\n",
       "      <td>163.7</td>\n",
       "    </tr>\n",
       "    <tr>\n",
       "      <th>2020-06-08</th>\n",
       "      <td>136.3</td>\n",
       "      <td>136.3</td>\n",
       "      <td>136.3</td>\n",
       "    </tr>\n",
       "    <tr>\n",
       "      <th>2020-06-15</th>\n",
       "      <td>108.9</td>\n",
       "      <td>108.9</td>\n",
       "      <td>108.9</td>\n",
       "    </tr>\n",
       "    <tr>\n",
       "      <th>2020-06-22</th>\n",
       "      <td>143.8</td>\n",
       "      <td>143.8</td>\n",
       "      <td>143.8</td>\n",
       "    </tr>\n",
       "    <tr>\n",
       "      <th>2020-06-29</th>\n",
       "      <td>184.1</td>\n",
       "      <td>184.1</td>\n",
       "      <td>184.1</td>\n",
       "    </tr>\n",
       "    <tr>\n",
       "      <th>2020-07-06</th>\n",
       "      <td>270.6</td>\n",
       "      <td>270.6</td>\n",
       "      <td>270.6</td>\n",
       "    </tr>\n",
       "    <tr>\n",
       "      <th>2020-07-13</th>\n",
       "      <td>533.2</td>\n",
       "      <td>533.2</td>\n",
       "      <td>533.2</td>\n",
       "    </tr>\n",
       "    <tr>\n",
       "      <th>2020-07-20</th>\n",
       "      <td>694.4</td>\n",
       "      <td>694.4</td>\n",
       "      <td>694.4</td>\n",
       "    </tr>\n",
       "    <tr>\n",
       "      <th>2020-07-27</th>\n",
       "      <td>1074.4</td>\n",
       "      <td>1074.4</td>\n",
       "      <td>1074.4</td>\n",
       "    </tr>\n",
       "    <tr>\n",
       "      <th>2020-08-03</th>\n",
       "      <td>1236.9</td>\n",
       "      <td>1236.9</td>\n",
       "      <td>1236.9</td>\n",
       "    </tr>\n",
       "    <tr>\n",
       "      <th>2020-08-10</th>\n",
       "      <td>1204.8</td>\n",
       "      <td>1204.8</td>\n",
       "      <td>1204.8</td>\n",
       "    </tr>\n",
       "    <tr>\n",
       "      <th>2020-08-17</th>\n",
       "      <td>999.0</td>\n",
       "      <td>999.0</td>\n",
       "      <td>999.0</td>\n",
       "    </tr>\n",
       "    <tr>\n",
       "      <th>2020-08-24</th>\n",
       "      <td>999.0</td>\n",
       "      <td>999.0</td>\n",
       "      <td>999.0</td>\n",
       "    </tr>\n",
       "    <tr>\n",
       "      <th>2020-08-31</th>\n",
       "      <td>687.0</td>\n",
       "      <td>855.7</td>\n",
       "      <td>712.4</td>\n",
       "    </tr>\n",
       "    <tr>\n",
       "      <th>2020-09-07</th>\n",
       "      <td>569.8</td>\n",
       "      <td>712.4</td>\n",
       "      <td>425.7</td>\n",
       "    </tr>\n",
       "    <tr>\n",
       "      <th>2020-09-14</th>\n",
       "      <td>472.6</td>\n",
       "      <td>569.0</td>\n",
       "      <td>139.1</td>\n",
       "    </tr>\n",
       "  </tbody>\n",
       "</table>\n",
       "</div>"
      ],
      "text/plain": [
       "            SceA_deaths  SceB_deaths  SceC_deaths\n",
       "DateWeek                                         \n",
       "2020-03-02          0.0          0.0          0.0\n",
       "2020-03-09          0.0          0.0          0.0\n",
       "2020-03-16          0.0          0.0          0.0\n",
       "2020-03-23          1.4          1.4          1.4\n",
       "2020-03-30          3.4          3.4          3.4\n",
       "2020-04-06         26.5         26.5         26.5\n",
       "2020-04-13         99.8         99.8         99.8\n",
       "2020-04-20        184.2        184.2        184.2\n",
       "2020-04-27        208.2        208.2        208.2\n",
       "2020-05-04        185.0        185.0        185.0\n",
       "2020-05-11        186.7        186.7        186.7\n",
       "2020-05-18        172.7        172.7        172.7\n",
       "2020-05-25        147.6        147.6        147.6\n",
       "2020-06-01        163.7        163.7        163.7\n",
       "2020-06-08        136.3        136.3        136.3\n",
       "2020-06-15        108.9        108.9        108.9\n",
       "2020-06-22        143.8        143.8        143.8\n",
       "2020-06-29        184.1        184.1        184.1\n",
       "2020-07-06        270.6        270.6        270.6\n",
       "2020-07-13        533.2        533.2        533.2\n",
       "2020-07-20        694.4        694.4        694.4\n",
       "2020-07-27       1074.4       1074.4       1074.4\n",
       "2020-08-03       1236.9       1236.9       1236.9\n",
       "2020-08-10       1204.8       1204.8       1204.8\n",
       "2020-08-17        999.0        999.0        999.0\n",
       "2020-08-24        999.0        999.0        999.0\n",
       "2020-08-31        687.0        855.7        712.4\n",
       "2020-09-07        569.8        712.4        425.7\n",
       "2020-09-14        472.6        569.0        139.1"
      ]
     },
     "execution_count": 226,
     "metadata": {},
     "output_type": "execute_result"
    }
   ],
   "source": [
    "#3A Death predictions by Scenario\n",
    "pred_deaths = df_agg.pivot_table(values=['SceA_deaths','SceB_deaths','SceC_deaths'], \n",
    "                      index=['DateWeek'],\n",
    "                      #columns=['SceA_deaths'],\n",
    "                      aggfunc='sum')\n",
    "\n",
    "# age = age.div(age.sum(1), axis=0)\n",
    "pred_deaths#.plot(kind='line')"
   ]
  },
  {
   "cell_type": "code",
   "execution_count": 227,
   "metadata": {},
   "outputs": [
    {
     "data": {
      "application/vnd.plotly.v1+json": {
       "config": {
        "plotlyServerURL": "https://plotly.com"
       },
       "data": [
        {
         "hoverlabel": {
          "namelength": 0
         },
         "legendgroup": "Scenario=A",
         "line": {
          "color": "red",
          "dash": "solid"
         },
         "mode": "lines",
         "name": "Scenario=A",
         "showlegend": true,
         "type": "scatter",
         "x": [
          "2020-03-02T00:00:00",
          "2020-03-09T00:00:00",
          "2020-03-16T00:00:00",
          "2020-03-23T00:00:00",
          "2020-03-30T00:00:00",
          "2020-04-06T00:00:00",
          "2020-04-13T00:00:00",
          "2020-04-20T00:00:00",
          "2020-04-27T00:00:00",
          "2020-05-04T00:00:00",
          "2020-05-11T00:00:00",
          "2020-05-18T00:00:00",
          "2020-05-25T00:00:00",
          "2020-06-01T00:00:00",
          "2020-06-08T00:00:00",
          "2020-06-15T00:00:00",
          "2020-06-22T00:00:00",
          "2020-06-29T00:00:00",
          "2020-07-06T00:00:00",
          "2020-07-13T00:00:00",
          "2020-07-20T00:00:00",
          "2020-07-27T00:00:00",
          "2020-08-03T00:00:00",
          "2020-08-10T00:00:00",
          "2020-08-17T00:00:00",
          "2020-08-24T00:00:00",
          "2020-08-31T00:00:00",
          "2020-09-07T00:00:00",
          "2020-09-14T00:00:00"
         ],
         "xaxis": "x",
         "y": [
          0,
          0,
          0,
          1,
          3,
          26,
          99,
          184,
          208,
          185,
          186,
          172,
          147,
          163,
          136,
          108,
          143,
          184,
          270,
          533,
          694,
          1074,
          1236,
          1204,
          998,
          998,
          686,
          569,
          472
         ],
         "yaxis": "y"
        },
        {
         "hoverlabel": {
          "namelength": 0
         },
         "legendgroup": "Scenario=B",
         "line": {
          "color": "green",
          "dash": "solid"
         },
         "mode": "lines",
         "name": "Scenario=B",
         "showlegend": true,
         "type": "scatter",
         "x": [
          "2020-03-02T00:00:00",
          "2020-03-09T00:00:00",
          "2020-03-16T00:00:00",
          "2020-03-23T00:00:00",
          "2020-03-30T00:00:00",
          "2020-04-06T00:00:00",
          "2020-04-13T00:00:00",
          "2020-04-20T00:00:00",
          "2020-04-27T00:00:00",
          "2020-05-04T00:00:00",
          "2020-05-11T00:00:00",
          "2020-05-18T00:00:00",
          "2020-05-25T00:00:00",
          "2020-06-01T00:00:00",
          "2020-06-08T00:00:00",
          "2020-06-15T00:00:00",
          "2020-06-22T00:00:00",
          "2020-06-29T00:00:00",
          "2020-07-06T00:00:00",
          "2020-07-13T00:00:00",
          "2020-07-20T00:00:00",
          "2020-07-27T00:00:00",
          "2020-08-03T00:00:00",
          "2020-08-10T00:00:00",
          "2020-08-17T00:00:00",
          "2020-08-24T00:00:00",
          "2020-08-31T00:00:00",
          "2020-09-07T00:00:00",
          "2020-09-14T00:00:00"
         ],
         "xaxis": "x",
         "y": [
          0,
          0,
          0,
          1,
          3,
          26,
          99,
          184,
          208,
          185,
          186,
          172,
          147,
          163,
          136,
          108,
          143,
          184,
          270,
          533,
          694,
          1074,
          1236,
          1204,
          998,
          998,
          855,
          712,
          569
         ],
         "yaxis": "y"
        },
        {
         "hoverlabel": {
          "namelength": 0
         },
         "legendgroup": "Scenario=C",
         "line": {
          "color": "blue",
          "dash": "solid"
         },
         "mode": "lines",
         "name": "Scenario=C",
         "showlegend": true,
         "type": "scatter",
         "x": [
          "2020-03-02T00:00:00",
          "2020-03-09T00:00:00",
          "2020-03-16T00:00:00",
          "2020-03-23T00:00:00",
          "2020-03-30T00:00:00",
          "2020-04-06T00:00:00",
          "2020-04-13T00:00:00",
          "2020-04-20T00:00:00",
          "2020-04-27T00:00:00",
          "2020-05-04T00:00:00",
          "2020-05-11T00:00:00",
          "2020-05-18T00:00:00",
          "2020-05-25T00:00:00",
          "2020-06-01T00:00:00",
          "2020-06-08T00:00:00",
          "2020-06-15T00:00:00",
          "2020-06-22T00:00:00",
          "2020-06-29T00:00:00",
          "2020-07-06T00:00:00",
          "2020-07-13T00:00:00",
          "2020-07-20T00:00:00",
          "2020-07-27T00:00:00",
          "2020-08-03T00:00:00",
          "2020-08-10T00:00:00",
          "2020-08-17T00:00:00",
          "2020-08-24T00:00:00",
          "2020-08-31T00:00:00",
          "2020-09-07T00:00:00",
          "2020-09-14T00:00:00"
         ],
         "xaxis": "x",
         "y": [
          0,
          0,
          0,
          1,
          3,
          26,
          99,
          184,
          208,
          185,
          186,
          172,
          147,
          163,
          136,
          108,
          143,
          184,
          270,
          533,
          694,
          1074,
          1236,
          1204,
          998,
          998,
          712,
          425,
          139
         ],
         "yaxis": "y"
        },
        {
         "hoverlabel": {
          "namelength": 0
         },
         "legendgroup": "Forecasted After Date=2020-08-03",
         "line": {
          "color": "black",
          "dash": "solid"
         },
         "mode": "lines",
         "name": "Forecasted After Date=2020-08-03",
         "showlegend": true,
         "type": "scatter",
         "x": [
          "2020-08-03",
          "2020-08-03"
         ],
         "xaxis": "x",
         "y": [
          -10000,
          10000
         ],
         "yaxis": "y"
        }
       ],
       "layout": {
        "height": 600,
        "hovermode": "x",
        "legend": {
         "tracegroupgap": 0
        },
        "template": {
         "data": {
          "bar": [
           {
            "error_x": {
             "color": "#2a3f5f"
            },
            "error_y": {
             "color": "#2a3f5f"
            },
            "marker": {
             "line": {
              "color": "#E5ECF6",
              "width": 0.5
             }
            },
            "type": "bar"
           }
          ],
          "barpolar": [
           {
            "marker": {
             "line": {
              "color": "#E5ECF6",
              "width": 0.5
             }
            },
            "type": "barpolar"
           }
          ],
          "carpet": [
           {
            "aaxis": {
             "endlinecolor": "#2a3f5f",
             "gridcolor": "white",
             "linecolor": "white",
             "minorgridcolor": "white",
             "startlinecolor": "#2a3f5f"
            },
            "baxis": {
             "endlinecolor": "#2a3f5f",
             "gridcolor": "white",
             "linecolor": "white",
             "minorgridcolor": "white",
             "startlinecolor": "#2a3f5f"
            },
            "type": "carpet"
           }
          ],
          "choropleth": [
           {
            "colorbar": {
             "outlinewidth": 0,
             "ticks": ""
            },
            "type": "choropleth"
           }
          ],
          "contour": [
           {
            "colorbar": {
             "outlinewidth": 0,
             "ticks": ""
            },
            "colorscale": [
             [
              0,
              "#0d0887"
             ],
             [
              0.1111111111111111,
              "#46039f"
             ],
             [
              0.2222222222222222,
              "#7201a8"
             ],
             [
              0.3333333333333333,
              "#9c179e"
             ],
             [
              0.4444444444444444,
              "#bd3786"
             ],
             [
              0.5555555555555556,
              "#d8576b"
             ],
             [
              0.6666666666666666,
              "#ed7953"
             ],
             [
              0.7777777777777778,
              "#fb9f3a"
             ],
             [
              0.8888888888888888,
              "#fdca26"
             ],
             [
              1,
              "#f0f921"
             ]
            ],
            "type": "contour"
           }
          ],
          "contourcarpet": [
           {
            "colorbar": {
             "outlinewidth": 0,
             "ticks": ""
            },
            "type": "contourcarpet"
           }
          ],
          "heatmap": [
           {
            "colorbar": {
             "outlinewidth": 0,
             "ticks": ""
            },
            "colorscale": [
             [
              0,
              "#0d0887"
             ],
             [
              0.1111111111111111,
              "#46039f"
             ],
             [
              0.2222222222222222,
              "#7201a8"
             ],
             [
              0.3333333333333333,
              "#9c179e"
             ],
             [
              0.4444444444444444,
              "#bd3786"
             ],
             [
              0.5555555555555556,
              "#d8576b"
             ],
             [
              0.6666666666666666,
              "#ed7953"
             ],
             [
              0.7777777777777778,
              "#fb9f3a"
             ],
             [
              0.8888888888888888,
              "#fdca26"
             ],
             [
              1,
              "#f0f921"
             ]
            ],
            "type": "heatmap"
           }
          ],
          "heatmapgl": [
           {
            "colorbar": {
             "outlinewidth": 0,
             "ticks": ""
            },
            "colorscale": [
             [
              0,
              "#0d0887"
             ],
             [
              0.1111111111111111,
              "#46039f"
             ],
             [
              0.2222222222222222,
              "#7201a8"
             ],
             [
              0.3333333333333333,
              "#9c179e"
             ],
             [
              0.4444444444444444,
              "#bd3786"
             ],
             [
              0.5555555555555556,
              "#d8576b"
             ],
             [
              0.6666666666666666,
              "#ed7953"
             ],
             [
              0.7777777777777778,
              "#fb9f3a"
             ],
             [
              0.8888888888888888,
              "#fdca26"
             ],
             [
              1,
              "#f0f921"
             ]
            ],
            "type": "heatmapgl"
           }
          ],
          "histogram": [
           {
            "marker": {
             "colorbar": {
              "outlinewidth": 0,
              "ticks": ""
             }
            },
            "type": "histogram"
           }
          ],
          "histogram2d": [
           {
            "colorbar": {
             "outlinewidth": 0,
             "ticks": ""
            },
            "colorscale": [
             [
              0,
              "#0d0887"
             ],
             [
              0.1111111111111111,
              "#46039f"
             ],
             [
              0.2222222222222222,
              "#7201a8"
             ],
             [
              0.3333333333333333,
              "#9c179e"
             ],
             [
              0.4444444444444444,
              "#bd3786"
             ],
             [
              0.5555555555555556,
              "#d8576b"
             ],
             [
              0.6666666666666666,
              "#ed7953"
             ],
             [
              0.7777777777777778,
              "#fb9f3a"
             ],
             [
              0.8888888888888888,
              "#fdca26"
             ],
             [
              1,
              "#f0f921"
             ]
            ],
            "type": "histogram2d"
           }
          ],
          "histogram2dcontour": [
           {
            "colorbar": {
             "outlinewidth": 0,
             "ticks": ""
            },
            "colorscale": [
             [
              0,
              "#0d0887"
             ],
             [
              0.1111111111111111,
              "#46039f"
             ],
             [
              0.2222222222222222,
              "#7201a8"
             ],
             [
              0.3333333333333333,
              "#9c179e"
             ],
             [
              0.4444444444444444,
              "#bd3786"
             ],
             [
              0.5555555555555556,
              "#d8576b"
             ],
             [
              0.6666666666666666,
              "#ed7953"
             ],
             [
              0.7777777777777778,
              "#fb9f3a"
             ],
             [
              0.8888888888888888,
              "#fdca26"
             ],
             [
              1,
              "#f0f921"
             ]
            ],
            "type": "histogram2dcontour"
           }
          ],
          "mesh3d": [
           {
            "colorbar": {
             "outlinewidth": 0,
             "ticks": ""
            },
            "type": "mesh3d"
           }
          ],
          "parcoords": [
           {
            "line": {
             "colorbar": {
              "outlinewidth": 0,
              "ticks": ""
             }
            },
            "type": "parcoords"
           }
          ],
          "scatter": [
           {
            "marker": {
             "colorbar": {
              "outlinewidth": 0,
              "ticks": ""
             }
            },
            "type": "scatter"
           }
          ],
          "scatter3d": [
           {
            "line": {
             "colorbar": {
              "outlinewidth": 0,
              "ticks": ""
             }
            },
            "marker": {
             "colorbar": {
              "outlinewidth": 0,
              "ticks": ""
             }
            },
            "type": "scatter3d"
           }
          ],
          "scattercarpet": [
           {
            "marker": {
             "colorbar": {
              "outlinewidth": 0,
              "ticks": ""
             }
            },
            "type": "scattercarpet"
           }
          ],
          "scattergeo": [
           {
            "marker": {
             "colorbar": {
              "outlinewidth": 0,
              "ticks": ""
             }
            },
            "type": "scattergeo"
           }
          ],
          "scattergl": [
           {
            "marker": {
             "colorbar": {
              "outlinewidth": 0,
              "ticks": ""
             }
            },
            "type": "scattergl"
           }
          ],
          "scattermapbox": [
           {
            "marker": {
             "colorbar": {
              "outlinewidth": 0,
              "ticks": ""
             }
            },
            "type": "scattermapbox"
           }
          ],
          "scatterpolar": [
           {
            "marker": {
             "colorbar": {
              "outlinewidth": 0,
              "ticks": ""
             }
            },
            "type": "scatterpolar"
           }
          ],
          "scatterpolargl": [
           {
            "marker": {
             "colorbar": {
              "outlinewidth": 0,
              "ticks": ""
             }
            },
            "type": "scatterpolargl"
           }
          ],
          "scatterternary": [
           {
            "marker": {
             "colorbar": {
              "outlinewidth": 0,
              "ticks": ""
             }
            },
            "type": "scatterternary"
           }
          ],
          "surface": [
           {
            "colorbar": {
             "outlinewidth": 0,
             "ticks": ""
            },
            "colorscale": [
             [
              0,
              "#0d0887"
             ],
             [
              0.1111111111111111,
              "#46039f"
             ],
             [
              0.2222222222222222,
              "#7201a8"
             ],
             [
              0.3333333333333333,
              "#9c179e"
             ],
             [
              0.4444444444444444,
              "#bd3786"
             ],
             [
              0.5555555555555556,
              "#d8576b"
             ],
             [
              0.6666666666666666,
              "#ed7953"
             ],
             [
              0.7777777777777778,
              "#fb9f3a"
             ],
             [
              0.8888888888888888,
              "#fdca26"
             ],
             [
              1,
              "#f0f921"
             ]
            ],
            "type": "surface"
           }
          ],
          "table": [
           {
            "cells": {
             "fill": {
              "color": "#EBF0F8"
             },
             "line": {
              "color": "white"
             }
            },
            "header": {
             "fill": {
              "color": "#C8D4E3"
             },
             "line": {
              "color": "white"
             }
            },
            "type": "table"
           }
          ]
         },
         "layout": {
          "annotationdefaults": {
           "arrowcolor": "#2a3f5f",
           "arrowhead": 0,
           "arrowwidth": 1
          },
          "colorscale": {
           "diverging": [
            [
             0,
             "#8e0152"
            ],
            [
             0.1,
             "#c51b7d"
            ],
            [
             0.2,
             "#de77ae"
            ],
            [
             0.3,
             "#f1b6da"
            ],
            [
             0.4,
             "#fde0ef"
            ],
            [
             0.5,
             "#f7f7f7"
            ],
            [
             0.6,
             "#e6f5d0"
            ],
            [
             0.7,
             "#b8e186"
            ],
            [
             0.8,
             "#7fbc41"
            ],
            [
             0.9,
             "#4d9221"
            ],
            [
             1,
             "#276419"
            ]
           ],
           "sequential": [
            [
             0,
             "#0d0887"
            ],
            [
             0.1111111111111111,
             "#46039f"
            ],
            [
             0.2222222222222222,
             "#7201a8"
            ],
            [
             0.3333333333333333,
             "#9c179e"
            ],
            [
             0.4444444444444444,
             "#bd3786"
            ],
            [
             0.5555555555555556,
             "#d8576b"
            ],
            [
             0.6666666666666666,
             "#ed7953"
            ],
            [
             0.7777777777777778,
             "#fb9f3a"
            ],
            [
             0.8888888888888888,
             "#fdca26"
            ],
            [
             1,
             "#f0f921"
            ]
           ],
           "sequentialminus": [
            [
             0,
             "#0d0887"
            ],
            [
             0.1111111111111111,
             "#46039f"
            ],
            [
             0.2222222222222222,
             "#7201a8"
            ],
            [
             0.3333333333333333,
             "#9c179e"
            ],
            [
             0.4444444444444444,
             "#bd3786"
            ],
            [
             0.5555555555555556,
             "#d8576b"
            ],
            [
             0.6666666666666666,
             "#ed7953"
            ],
            [
             0.7777777777777778,
             "#fb9f3a"
            ],
            [
             0.8888888888888888,
             "#fdca26"
            ],
            [
             1,
             "#f0f921"
            ]
           ]
          },
          "colorway": [
           "#636efa",
           "#EF553B",
           "#00cc96",
           "#ab63fa",
           "#FFA15A",
           "#19d3f3",
           "#FF6692",
           "#B6E880",
           "#FF97FF",
           "#FECB52"
          ],
          "font": {
           "color": "#2a3f5f"
          },
          "geo": {
           "bgcolor": "white",
           "lakecolor": "white",
           "landcolor": "#E5ECF6",
           "showlakes": true,
           "showland": true,
           "subunitcolor": "white"
          },
          "hoverlabel": {
           "align": "left"
          },
          "hovermode": "closest",
          "mapbox": {
           "style": "light"
          },
          "paper_bgcolor": "white",
          "plot_bgcolor": "#E5ECF6",
          "polar": {
           "angularaxis": {
            "gridcolor": "white",
            "linecolor": "white",
            "ticks": ""
           },
           "bgcolor": "#E5ECF6",
           "radialaxis": {
            "gridcolor": "white",
            "linecolor": "white",
            "ticks": ""
           }
          },
          "scene": {
           "xaxis": {
            "backgroundcolor": "#E5ECF6",
            "gridcolor": "white",
            "gridwidth": 2,
            "linecolor": "white",
            "showbackground": true,
            "ticks": "",
            "zerolinecolor": "white"
           },
           "yaxis": {
            "backgroundcolor": "#E5ECF6",
            "gridcolor": "white",
            "gridwidth": 2,
            "linecolor": "white",
            "showbackground": true,
            "ticks": "",
            "zerolinecolor": "white"
           },
           "zaxis": {
            "backgroundcolor": "#E5ECF6",
            "gridcolor": "white",
            "gridwidth": 2,
            "linecolor": "white",
            "showbackground": true,
            "ticks": "",
            "zerolinecolor": "white"
           }
          },
          "shapedefaults": {
           "line": {
            "color": "#2a3f5f"
           }
          },
          "ternary": {
           "aaxis": {
            "gridcolor": "white",
            "linecolor": "white",
            "ticks": ""
           },
           "baxis": {
            "gridcolor": "white",
            "linecolor": "white",
            "ticks": ""
           },
           "bgcolor": "#E5ECF6",
           "caxis": {
            "gridcolor": "white",
            "linecolor": "white",
            "ticks": ""
           }
          },
          "title": {
           "x": 0.05
          },
          "xaxis": {
           "automargin": true,
           "gridcolor": "white",
           "linecolor": "white",
           "ticks": "",
           "zerolinecolor": "white",
           "zerolinewidth": 2
          },
          "yaxis": {
           "automargin": true,
           "gridcolor": "white",
           "linecolor": "white",
           "ticks": "",
           "zerolinecolor": "white",
           "zerolinewidth": 2
          }
         }
        },
        "title": {
         "text": "Scenario Analysis - Actual and Forecasted Weekly Death Volumes",
         "x": 0.5,
         "xanchor": "center",
         "y": 0.9,
         "yanchor": "top"
        },
        "xaxis": {
         "anchor": "y",
         "domain": [
          0,
          0.98
         ],
         "title": {
          "text": "Date"
         }
        },
        "yaxis": {
         "anchor": "x",
         "domain": [
          0,
          1
         ],
         "range": [
          0,
          3000
         ],
         "tickformat": ",.0",
         "title": {
          "text": "Death Volume"
         }
        }
       }
      },
      "text/html": [
       "<div>\n",
       "        \n",
       "        \n",
       "            <div id=\"5996b7f9-922b-4362-931f-40ffd601688b\" class=\"plotly-graph-div\" style=\"height:600px; width:100%;\"></div>\n",
       "            <script type=\"text/javascript\">\n",
       "                require([\"plotly\"], function(Plotly) {\n",
       "                    window.PLOTLYENV=window.PLOTLYENV || {};\n",
       "                    \n",
       "                if (document.getElementById(\"5996b7f9-922b-4362-931f-40ffd601688b\")) {\n",
       "                    Plotly.newPlot(\n",
       "                        '5996b7f9-922b-4362-931f-40ffd601688b',\n",
       "                        [{\"hoverlabel\": {\"namelength\": 0}, \"legendgroup\": \"Scenario=A\", \"line\": {\"color\": \"red\", \"dash\": \"solid\"}, \"mode\": \"lines\", \"name\": \"Scenario=A\", \"showlegend\": true, \"type\": \"scatter\", \"x\": [\"2020-03-02T00:00:00\", \"2020-03-09T00:00:00\", \"2020-03-16T00:00:00\", \"2020-03-23T00:00:00\", \"2020-03-30T00:00:00\", \"2020-04-06T00:00:00\", \"2020-04-13T00:00:00\", \"2020-04-20T00:00:00\", \"2020-04-27T00:00:00\", \"2020-05-04T00:00:00\", \"2020-05-11T00:00:00\", \"2020-05-18T00:00:00\", \"2020-05-25T00:00:00\", \"2020-06-01T00:00:00\", \"2020-06-08T00:00:00\", \"2020-06-15T00:00:00\", \"2020-06-22T00:00:00\", \"2020-06-29T00:00:00\", \"2020-07-06T00:00:00\", \"2020-07-13T00:00:00\", \"2020-07-20T00:00:00\", \"2020-07-27T00:00:00\", \"2020-08-03T00:00:00\", \"2020-08-10T00:00:00\", \"2020-08-17T00:00:00\", \"2020-08-24T00:00:00\", \"2020-08-31T00:00:00\", \"2020-09-07T00:00:00\", \"2020-09-14T00:00:00\"], \"xaxis\": \"x\", \"y\": [0, 0, 0, 1, 3, 26, 99, 184, 208, 185, 186, 172, 147, 163, 136, 108, 143, 184, 270, 533, 694, 1074, 1236, 1204, 998, 998, 686, 569, 472], \"yaxis\": \"y\"}, {\"hoverlabel\": {\"namelength\": 0}, \"legendgroup\": \"Scenario=B\", \"line\": {\"color\": \"green\", \"dash\": \"solid\"}, \"mode\": \"lines\", \"name\": \"Scenario=B\", \"showlegend\": true, \"type\": \"scatter\", \"x\": [\"2020-03-02T00:00:00\", \"2020-03-09T00:00:00\", \"2020-03-16T00:00:00\", \"2020-03-23T00:00:00\", \"2020-03-30T00:00:00\", \"2020-04-06T00:00:00\", \"2020-04-13T00:00:00\", \"2020-04-20T00:00:00\", \"2020-04-27T00:00:00\", \"2020-05-04T00:00:00\", \"2020-05-11T00:00:00\", \"2020-05-18T00:00:00\", \"2020-05-25T00:00:00\", \"2020-06-01T00:00:00\", \"2020-06-08T00:00:00\", \"2020-06-15T00:00:00\", \"2020-06-22T00:00:00\", \"2020-06-29T00:00:00\", \"2020-07-06T00:00:00\", \"2020-07-13T00:00:00\", \"2020-07-20T00:00:00\", \"2020-07-27T00:00:00\", \"2020-08-03T00:00:00\", \"2020-08-10T00:00:00\", \"2020-08-17T00:00:00\", \"2020-08-24T00:00:00\", \"2020-08-31T00:00:00\", \"2020-09-07T00:00:00\", \"2020-09-14T00:00:00\"], \"xaxis\": \"x\", \"y\": [0, 0, 0, 1, 3, 26, 99, 184, 208, 185, 186, 172, 147, 163, 136, 108, 143, 184, 270, 533, 694, 1074, 1236, 1204, 998, 998, 855, 712, 569], \"yaxis\": \"y\"}, {\"hoverlabel\": {\"namelength\": 0}, \"legendgroup\": \"Scenario=C\", \"line\": {\"color\": \"blue\", \"dash\": \"solid\"}, \"mode\": \"lines\", \"name\": \"Scenario=C\", \"showlegend\": true, \"type\": \"scatter\", \"x\": [\"2020-03-02T00:00:00\", \"2020-03-09T00:00:00\", \"2020-03-16T00:00:00\", \"2020-03-23T00:00:00\", \"2020-03-30T00:00:00\", \"2020-04-06T00:00:00\", \"2020-04-13T00:00:00\", \"2020-04-20T00:00:00\", \"2020-04-27T00:00:00\", \"2020-05-04T00:00:00\", \"2020-05-11T00:00:00\", \"2020-05-18T00:00:00\", \"2020-05-25T00:00:00\", \"2020-06-01T00:00:00\", \"2020-06-08T00:00:00\", \"2020-06-15T00:00:00\", \"2020-06-22T00:00:00\", \"2020-06-29T00:00:00\", \"2020-07-06T00:00:00\", \"2020-07-13T00:00:00\", \"2020-07-20T00:00:00\", \"2020-07-27T00:00:00\", \"2020-08-03T00:00:00\", \"2020-08-10T00:00:00\", \"2020-08-17T00:00:00\", \"2020-08-24T00:00:00\", \"2020-08-31T00:00:00\", \"2020-09-07T00:00:00\", \"2020-09-14T00:00:00\"], \"xaxis\": \"x\", \"y\": [0, 0, 0, 1, 3, 26, 99, 184, 208, 185, 186, 172, 147, 163, 136, 108, 143, 184, 270, 533, 694, 1074, 1236, 1204, 998, 998, 712, 425, 139], \"yaxis\": \"y\"}, {\"hoverlabel\": {\"namelength\": 0}, \"legendgroup\": \"Forecasted After Date=2020-08-03\", \"line\": {\"color\": \"black\", \"dash\": \"solid\"}, \"mode\": \"lines\", \"name\": \"Forecasted After Date=2020-08-03\", \"showlegend\": true, \"type\": \"scatter\", \"x\": [\"2020-08-03\", \"2020-08-03\"], \"xaxis\": \"x\", \"y\": [-10000.0, 10000.0], \"yaxis\": \"y\"}],\n",
       "                        {\"height\": 600, \"hovermode\": \"x\", \"legend\": {\"tracegroupgap\": 0}, \"template\": {\"data\": {\"bar\": [{\"error_x\": {\"color\": \"#2a3f5f\"}, \"error_y\": {\"color\": \"#2a3f5f\"}, \"marker\": {\"line\": {\"color\": \"#E5ECF6\", \"width\": 0.5}}, \"type\": \"bar\"}], \"barpolar\": [{\"marker\": {\"line\": {\"color\": \"#E5ECF6\", \"width\": 0.5}}, \"type\": \"barpolar\"}], \"carpet\": [{\"aaxis\": {\"endlinecolor\": \"#2a3f5f\", \"gridcolor\": \"white\", \"linecolor\": \"white\", \"minorgridcolor\": \"white\", \"startlinecolor\": \"#2a3f5f\"}, \"baxis\": {\"endlinecolor\": \"#2a3f5f\", \"gridcolor\": \"white\", \"linecolor\": \"white\", \"minorgridcolor\": \"white\", \"startlinecolor\": \"#2a3f5f\"}, \"type\": \"carpet\"}], \"choropleth\": [{\"colorbar\": {\"outlinewidth\": 0, \"ticks\": \"\"}, \"type\": \"choropleth\"}], \"contour\": [{\"colorbar\": {\"outlinewidth\": 0, \"ticks\": \"\"}, \"colorscale\": [[0.0, \"#0d0887\"], [0.1111111111111111, \"#46039f\"], [0.2222222222222222, \"#7201a8\"], [0.3333333333333333, \"#9c179e\"], [0.4444444444444444, \"#bd3786\"], [0.5555555555555556, \"#d8576b\"], [0.6666666666666666, \"#ed7953\"], [0.7777777777777778, \"#fb9f3a\"], [0.8888888888888888, \"#fdca26\"], [1.0, \"#f0f921\"]], \"type\": \"contour\"}], \"contourcarpet\": [{\"colorbar\": {\"outlinewidth\": 0, \"ticks\": \"\"}, \"type\": \"contourcarpet\"}], \"heatmap\": [{\"colorbar\": {\"outlinewidth\": 0, \"ticks\": \"\"}, \"colorscale\": [[0.0, \"#0d0887\"], [0.1111111111111111, \"#46039f\"], [0.2222222222222222, \"#7201a8\"], [0.3333333333333333, \"#9c179e\"], [0.4444444444444444, \"#bd3786\"], [0.5555555555555556, \"#d8576b\"], [0.6666666666666666, \"#ed7953\"], [0.7777777777777778, \"#fb9f3a\"], [0.8888888888888888, \"#fdca26\"], [1.0, \"#f0f921\"]], \"type\": \"heatmap\"}], \"heatmapgl\": [{\"colorbar\": {\"outlinewidth\": 0, \"ticks\": \"\"}, \"colorscale\": [[0.0, \"#0d0887\"], [0.1111111111111111, \"#46039f\"], [0.2222222222222222, \"#7201a8\"], [0.3333333333333333, \"#9c179e\"], [0.4444444444444444, \"#bd3786\"], [0.5555555555555556, \"#d8576b\"], [0.6666666666666666, \"#ed7953\"], [0.7777777777777778, \"#fb9f3a\"], [0.8888888888888888, \"#fdca26\"], [1.0, \"#f0f921\"]], \"type\": \"heatmapgl\"}], \"histogram\": [{\"marker\": {\"colorbar\": {\"outlinewidth\": 0, \"ticks\": \"\"}}, \"type\": \"histogram\"}], \"histogram2d\": [{\"colorbar\": {\"outlinewidth\": 0, \"ticks\": \"\"}, \"colorscale\": [[0.0, \"#0d0887\"], [0.1111111111111111, \"#46039f\"], [0.2222222222222222, \"#7201a8\"], [0.3333333333333333, \"#9c179e\"], [0.4444444444444444, \"#bd3786\"], [0.5555555555555556, \"#d8576b\"], [0.6666666666666666, \"#ed7953\"], [0.7777777777777778, \"#fb9f3a\"], [0.8888888888888888, \"#fdca26\"], [1.0, \"#f0f921\"]], \"type\": \"histogram2d\"}], \"histogram2dcontour\": [{\"colorbar\": {\"outlinewidth\": 0, \"ticks\": \"\"}, \"colorscale\": [[0.0, \"#0d0887\"], [0.1111111111111111, \"#46039f\"], [0.2222222222222222, \"#7201a8\"], [0.3333333333333333, \"#9c179e\"], [0.4444444444444444, \"#bd3786\"], [0.5555555555555556, \"#d8576b\"], [0.6666666666666666, \"#ed7953\"], [0.7777777777777778, \"#fb9f3a\"], [0.8888888888888888, \"#fdca26\"], [1.0, \"#f0f921\"]], \"type\": \"histogram2dcontour\"}], \"mesh3d\": [{\"colorbar\": {\"outlinewidth\": 0, \"ticks\": \"\"}, \"type\": \"mesh3d\"}], \"parcoords\": [{\"line\": {\"colorbar\": {\"outlinewidth\": 0, \"ticks\": \"\"}}, \"type\": \"parcoords\"}], \"scatter\": [{\"marker\": {\"colorbar\": {\"outlinewidth\": 0, \"ticks\": \"\"}}, \"type\": \"scatter\"}], \"scatter3d\": [{\"line\": {\"colorbar\": {\"outlinewidth\": 0, \"ticks\": \"\"}}, \"marker\": {\"colorbar\": {\"outlinewidth\": 0, \"ticks\": \"\"}}, \"type\": \"scatter3d\"}], \"scattercarpet\": [{\"marker\": {\"colorbar\": {\"outlinewidth\": 0, \"ticks\": \"\"}}, \"type\": \"scattercarpet\"}], \"scattergeo\": [{\"marker\": {\"colorbar\": {\"outlinewidth\": 0, \"ticks\": \"\"}}, \"type\": \"scattergeo\"}], \"scattergl\": [{\"marker\": {\"colorbar\": {\"outlinewidth\": 0, \"ticks\": \"\"}}, \"type\": \"scattergl\"}], \"scattermapbox\": [{\"marker\": {\"colorbar\": {\"outlinewidth\": 0, \"ticks\": \"\"}}, \"type\": \"scattermapbox\"}], \"scatterpolar\": [{\"marker\": {\"colorbar\": {\"outlinewidth\": 0, \"ticks\": \"\"}}, \"type\": \"scatterpolar\"}], \"scatterpolargl\": [{\"marker\": {\"colorbar\": {\"outlinewidth\": 0, \"ticks\": \"\"}}, \"type\": \"scatterpolargl\"}], \"scatterternary\": [{\"marker\": {\"colorbar\": {\"outlinewidth\": 0, \"ticks\": \"\"}}, \"type\": \"scatterternary\"}], \"surface\": [{\"colorbar\": {\"outlinewidth\": 0, \"ticks\": \"\"}, \"colorscale\": [[0.0, \"#0d0887\"], [0.1111111111111111, \"#46039f\"], [0.2222222222222222, \"#7201a8\"], [0.3333333333333333, \"#9c179e\"], [0.4444444444444444, \"#bd3786\"], [0.5555555555555556, \"#d8576b\"], [0.6666666666666666, \"#ed7953\"], [0.7777777777777778, \"#fb9f3a\"], [0.8888888888888888, \"#fdca26\"], [1.0, \"#f0f921\"]], \"type\": \"surface\"}], \"table\": [{\"cells\": {\"fill\": {\"color\": \"#EBF0F8\"}, \"line\": {\"color\": \"white\"}}, \"header\": {\"fill\": {\"color\": \"#C8D4E3\"}, \"line\": {\"color\": \"white\"}}, \"type\": \"table\"}]}, \"layout\": {\"annotationdefaults\": {\"arrowcolor\": \"#2a3f5f\", \"arrowhead\": 0, \"arrowwidth\": 1}, \"colorscale\": {\"diverging\": [[0, \"#8e0152\"], [0.1, \"#c51b7d\"], [0.2, \"#de77ae\"], [0.3, \"#f1b6da\"], [0.4, \"#fde0ef\"], [0.5, \"#f7f7f7\"], [0.6, \"#e6f5d0\"], [0.7, \"#b8e186\"], [0.8, \"#7fbc41\"], [0.9, \"#4d9221\"], [1, \"#276419\"]], \"sequential\": [[0.0, \"#0d0887\"], [0.1111111111111111, \"#46039f\"], [0.2222222222222222, \"#7201a8\"], [0.3333333333333333, \"#9c179e\"], [0.4444444444444444, \"#bd3786\"], [0.5555555555555556, \"#d8576b\"], [0.6666666666666666, \"#ed7953\"], [0.7777777777777778, \"#fb9f3a\"], [0.8888888888888888, \"#fdca26\"], [1.0, \"#f0f921\"]], \"sequentialminus\": [[0.0, \"#0d0887\"], [0.1111111111111111, \"#46039f\"], [0.2222222222222222, \"#7201a8\"], [0.3333333333333333, \"#9c179e\"], [0.4444444444444444, \"#bd3786\"], [0.5555555555555556, \"#d8576b\"], [0.6666666666666666, \"#ed7953\"], [0.7777777777777778, \"#fb9f3a\"], [0.8888888888888888, \"#fdca26\"], [1.0, \"#f0f921\"]]}, \"colorway\": [\"#636efa\", \"#EF553B\", \"#00cc96\", \"#ab63fa\", \"#FFA15A\", \"#19d3f3\", \"#FF6692\", \"#B6E880\", \"#FF97FF\", \"#FECB52\"], \"font\": {\"color\": \"#2a3f5f\"}, \"geo\": {\"bgcolor\": \"white\", \"lakecolor\": \"white\", \"landcolor\": \"#E5ECF6\", \"showlakes\": true, \"showland\": true, \"subunitcolor\": \"white\"}, \"hoverlabel\": {\"align\": \"left\"}, \"hovermode\": \"closest\", \"mapbox\": {\"style\": \"light\"}, \"paper_bgcolor\": \"white\", \"plot_bgcolor\": \"#E5ECF6\", \"polar\": {\"angularaxis\": {\"gridcolor\": \"white\", \"linecolor\": \"white\", \"ticks\": \"\"}, \"bgcolor\": \"#E5ECF6\", \"radialaxis\": {\"gridcolor\": \"white\", \"linecolor\": \"white\", \"ticks\": \"\"}}, \"scene\": {\"xaxis\": {\"backgroundcolor\": \"#E5ECF6\", \"gridcolor\": \"white\", \"gridwidth\": 2, \"linecolor\": \"white\", \"showbackground\": true, \"ticks\": \"\", \"zerolinecolor\": \"white\"}, \"yaxis\": {\"backgroundcolor\": \"#E5ECF6\", \"gridcolor\": \"white\", \"gridwidth\": 2, \"linecolor\": \"white\", \"showbackground\": true, \"ticks\": \"\", \"zerolinecolor\": \"white\"}, \"zaxis\": {\"backgroundcolor\": \"#E5ECF6\", \"gridcolor\": \"white\", \"gridwidth\": 2, \"linecolor\": \"white\", \"showbackground\": true, \"ticks\": \"\", \"zerolinecolor\": \"white\"}}, \"shapedefaults\": {\"line\": {\"color\": \"#2a3f5f\"}}, \"ternary\": {\"aaxis\": {\"gridcolor\": \"white\", \"linecolor\": \"white\", \"ticks\": \"\"}, \"baxis\": {\"gridcolor\": \"white\", \"linecolor\": \"white\", \"ticks\": \"\"}, \"bgcolor\": \"#E5ECF6\", \"caxis\": {\"gridcolor\": \"white\", \"linecolor\": \"white\", \"ticks\": \"\"}}, \"title\": {\"x\": 0.05}, \"xaxis\": {\"automargin\": true, \"gridcolor\": \"white\", \"linecolor\": \"white\", \"ticks\": \"\", \"zerolinecolor\": \"white\", \"zerolinewidth\": 2}, \"yaxis\": {\"automargin\": true, \"gridcolor\": \"white\", \"linecolor\": \"white\", \"ticks\": \"\", \"zerolinecolor\": \"white\", \"zerolinewidth\": 2}}}, \"title\": {\"text\": \"Scenario Analysis - Actual and Forecasted Weekly Death Volumes\", \"x\": 0.5, \"xanchor\": \"center\", \"y\": 0.9, \"yanchor\": \"top\"}, \"xaxis\": {\"anchor\": \"y\", \"domain\": [0.0, 0.98], \"title\": {\"text\": \"Date\"}}, \"yaxis\": {\"anchor\": \"x\", \"domain\": [0.0, 1.0], \"range\": [0, 3000], \"tickformat\": \",.0\", \"title\": {\"text\": \"Death Volume\"}}},\n",
       "                        {\"responsive\": true}\n",
       "                    ).then(function(){\n",
       "                            \n",
       "var gd = document.getElementById('5996b7f9-922b-4362-931f-40ffd601688b');\n",
       "var x = new MutationObserver(function (mutations, observer) {{\n",
       "        var display = window.getComputedStyle(gd).display;\n",
       "        if (!display || display === 'none') {{\n",
       "            console.log([gd, 'removed!']);\n",
       "            Plotly.purge(gd);\n",
       "            observer.disconnect();\n",
       "        }}\n",
       "}});\n",
       "\n",
       "// Listen for the removal of the full notebook cells\n",
       "var notebookContainer = gd.closest('#notebook-container');\n",
       "if (notebookContainer) {{\n",
       "    x.observe(notebookContainer, {childList: true});\n",
       "}}\n",
       "\n",
       "// Listen for the clearing of the current output cell\n",
       "var outputEl = gd.closest('.output');\n",
       "if (outputEl) {{\n",
       "    x.observe(outputEl, {childList: true});\n",
       "}}\n",
       "\n",
       "                        })\n",
       "                };\n",
       "                });\n",
       "            </script>\n",
       "        </div>"
      ]
     },
     "metadata": {},
     "output_type": "display_data"
    }
   ],
   "source": [
    "df5 = df_agg.groupby(['DateWeek']).agg({'SceA_deaths':'sum','SceB_deaths':'sum','SceC_deaths':'sum'}).reset_index()\n",
    "df5 = df5.astype({'SceA_deaths':int,'SceB_deaths':int,'SceC_deaths':int}) \n",
    "\n",
    "df5['Scenario']=\"A\"\n",
    "figA = px.line(df5,\n",
    "             x=\"DateWeek\",\n",
    "             y='SceA_deaths',\n",
    "             labels = {'DateWeek':'Date','SceA_deaths':'Death Volume'},\n",
    "            color='Scenario',\n",
    "            color_discrete_sequence=[\"red\"],\n",
    "             title={\n",
    "                'text': \"Scenario Analysis - Actual and Forecasted Weekly Death Volumes\",\n",
    "                'y':0.9,\n",
    "                'x':0.5,\n",
    "                'xanchor': 'center',\n",
    "                'yanchor': 'top'})\n",
    "df5['Scenario']=\"B\"\n",
    "figB = px.line(df5,\n",
    "             x=\"DateWeek\",\n",
    "             y='SceB_deaths',\n",
    "             labels = {'DateWeek':'Date','SceB_deaths':'Death Volume'},\n",
    "               color='Scenario',\n",
    "               color_discrete_sequence=[\"green\"],\n",
    "             title={\n",
    "                'text': \"Scenario Analysis - Actual and Forecasted Weekly Death Volumes\",\n",
    "                'y':0.9,\n",
    "                'x':0.5,\n",
    "                'xanchor': 'center',\n",
    "                'yanchor': 'top'})\n",
    "df5['Scenario']=\"C\"\n",
    "figC = px.line(df5,\n",
    "             x=\"DateWeek\",\n",
    "             y='SceC_deaths',\n",
    "             labels = {'DateWeek':'Date','SceC_deaths':'Death Volume'},\n",
    "               color='Scenario',\n",
    "               color_discrete_sequence=[\"blue\"],\n",
    "             title={\n",
    "                'text': \"Scenario Analysis - Actual and Forecasted Weekly Death Volumes\",\n",
    "                'y':0.9,\n",
    "                'x':0.5,\n",
    "                'xanchor': 'center',\n",
    "                'yanchor': 'top'})\n",
    "\n",
    "temp = {'DateWeek': [last_full_week,last_full_week],\n",
    "        'SceA_deaths': [-10000.00, 10000.00],\n",
    "        'binned':[last_full_week,last_full_week]\n",
    "                }\n",
    "temp_df = pd.DataFrame(temp, columns = ['DateWeek', 'SceA_deaths','binned'])\n",
    "\n",
    "\n",
    "fig_vertical = px.line(temp_df\n",
    "                ,x='DateWeek'\n",
    "                ,y='SceA_deaths'\n",
    "                ,color='binned'\n",
    "                ,color_discrete_sequence=[\"black\"]\n",
    "               ,labels = {'DateWeek':'Date','SceA_deaths':'blah','binned':'Forecasted After Date'},\n",
    ")\n",
    "\n",
    "figA.add_trace(figB.data[0])\n",
    "figA.add_trace(figC.data[0])\n",
    "figA.add_trace(fig_vertical.data[0])\n",
    "figA.update_traces(hovertemplate=None)\n",
    "figA.update_layout(hovermode=\"x\")\n",
    "figA.update_yaxes(tickformat = ',.0', range = [0,3000])\n",
    "\n",
    "#fig.add_bar(df2,x='TDR_Week', y='pred_deaths', barmode='stacked')\n",
    "\n",
    "\n",
    "figA.show()\n",
    "#py.plot(figA, filename = 'Scenario Analysis - Actual and Forecasted Weekly Death Volumes', auto_open=False)\n",
    "figA.write_image(\"chart_images/Scenario Analysis - Actual and Forecasted Weekly Death Volumes.png\")"
   ]
  },
  {
   "cell_type": "code",
   "execution_count": 228,
   "metadata": {},
   "outputs": [
    {
     "data": {
      "text/html": [
       "<div>\n",
       "<style scoped>\n",
       "    .dataframe tbody tr th:only-of-type {\n",
       "        vertical-align: middle;\n",
       "    }\n",
       "\n",
       "    .dataframe tbody tr th {\n",
       "        vertical-align: top;\n",
       "    }\n",
       "\n",
       "    .dataframe thead th {\n",
       "        text-align: right;\n",
       "    }\n",
       "</style>\n",
       "<table border=\"1\" class=\"dataframe\">\n",
       "  <thead>\n",
       "    <tr style=\"text-align: right;\">\n",
       "      <th></th>\n",
       "      <th>Forecasted Death Count</th>\n",
       "      <th>Statistical Human Cost ($B)</th>\n",
       "      <th>Florida GDP ($B)</th>\n",
       "      <th>GDP Cost ($B)</th>\n",
       "      <th>Total Economic Cost ($B)</th>\n",
       "    </tr>\n",
       "    <tr>\n",
       "      <th>Scenario</th>\n",
       "      <th></th>\n",
       "      <th></th>\n",
       "      <th></th>\n",
       "      <th></th>\n",
       "      <th></th>\n",
       "    </tr>\n",
       "  </thead>\n",
       "  <tbody>\n",
       "    <tr>\n",
       "      <th>A: Restart the normal economy</th>\n",
       "      <td>1890.5</td>\n",
       "      <td>18.9</td>\n",
       "      <td>950.8</td>\n",
       "      <td>11.9</td>\n",
       "      <td>30.8</td>\n",
       "    </tr>\n",
       "    <tr>\n",
       "      <th>B: Transition to a low-touch economy</th>\n",
       "      <td>2276.2</td>\n",
       "      <td>22.8</td>\n",
       "      <td>950.8</td>\n",
       "      <td>23.8</td>\n",
       "      <td>46.5</td>\n",
       "    </tr>\n",
       "    <tr>\n",
       "      <th>C: Re-instate April/May lockdown</th>\n",
       "      <td>556.4</td>\n",
       "      <td>5.6</td>\n",
       "      <td>950.8</td>\n",
       "      <td>47.5</td>\n",
       "      <td>53.1</td>\n",
       "    </tr>\n",
       "  </tbody>\n",
       "</table>\n",
       "</div>"
      ],
      "text/plain": [
       "                                     Forecasted Death Count Statistical Human Cost ($B)  Florida GDP ($B)  GDP Cost ($B) Total Economic Cost ($B)\n",
       "Scenario                                                                                                                                         \n",
       "A: Restart the normal economy                        1890.5                        18.9             950.8           11.9                     30.8\n",
       "B: Transition to a low-touch economy                 2276.2                        22.8             950.8           23.8                     46.5\n",
       "C: Re-instate April/May lockdown                      556.4                         5.6             950.8           47.5                     53.1"
      ]
     },
     "execution_count": 228,
     "metadata": {},
     "output_type": "execute_result"
    }
   ],
   "source": [
    "#3B Economic costs\n",
    "df_agg['DateRange'] = str(max_3w_window) + ' to ' + str(df_agg['DateWeek'].max().strftime('%Y-%m-%d'))\n",
    "max_date = df_agg['DateWeek'].max().strftime('%Y-%m-%d')\n",
    "df_agg2=df_agg[(df_agg['DateWeek']==max_date)].groupby('DateRange').agg({'SceA_deaths':'sum','SceB_deaths': 'sum','SceC_deaths': 'sum'})\n",
    "pt = df_agg2.pivot_table(values=['SceA_deaths','SceB_deaths','SceC_deaths'], \n",
    "                      index=['DateMonth'],\n",
    "                      aggfunc='sum')\n",
    "\n",
    "pd.options.display.float_format = '{:.1f}'.format\n",
    "\n",
    "pt2=pt.reset_index().rename(columns={'DateMonth':'Scenario','SceA_deaths':'A: Restart the normal economy','SceB_deaths':'B: Transition to a low-touch economy','SceC_deaths':'C: Re-instate April/May lockdown'}).T.reset_index().drop(index=0)\n",
    "pt2=pt2.rename(columns={'index':'Scenario',0:'Forecasted Death Count'})\n",
    "pt2['Forecasted Death Count']=pt2['Forecasted Death Count']*4\n",
    "pt2['Statistical Human Cost ($B)']=pt2['Forecasted Death Count']/100\n",
    "pt2['Florida GDP ($B)']=950.76\n",
    "pt2['GDP Cost ($B)'] = np.where(pt2['Scenario'].astype(str).str[0]=='C',pt2['Florida GDP ($B)']*.05,\n",
    "                                np.where(pt2['Scenario'].astype(str).str[0]=='B',pt2['Florida GDP ($B)']*.025,pt2['Florida GDP ($B)']*.0125))\n",
    "pt2['Difference']=pt2['Florida GDP ($B)']-pt2['Statistical Human Cost ($B)']\n",
    "pt2['Breakeven Reduction in Economic Activity ($B)'] = pt2['Difference'] - pt2.iloc[0,4]\n",
    "pt2['Total Economic Cost ($B)']=pt2['GDP Cost ($B)']+pt2['Statistical Human Cost ($B)']\n",
    "pt2=pt2[['Scenario','Forecasted Death Count','Statistical Human Cost ($B)','Florida GDP ($B)','GDP Cost ($B)','Total Economic Cost ($B)']]\n",
    "pt2.set_index('Scenario')"
   ]
  },
  {
   "cell_type": "code",
   "execution_count": 229,
   "metadata": {
    "scrolled": true
   },
   "outputs": [
    {
     "data": {
      "application/vnd.plotly.v1+json": {
       "config": {
        "plotlyServerURL": "https://plotly.com"
       },
       "data": [
        {
         "cells": {
          "align": "left",
          "fill": {
           "color": "lavender"
          },
          "format": [
           null,
           ",.0f",
           "$.2f"
          ],
          "values": [
           [
            "A: Restart the normal economy",
            "B: Transition to a low-touch economy",
            "C: Re-instate April/May lockdown"
           ],
           [
            1890.533459100057,
            2276.151982246526,
            556.4015952645282
           ],
           [
            18.905334591000567,
            22.76151982246526,
            5.564015952645281
           ],
           [
            950.76,
            950.76,
            950.76
           ],
           [
            11.884500000000001,
            23.769000000000002,
            47.538000000000004
           ],
           [
            30.78983459100057,
            46.530519822465266,
            53.10201595264529
           ]
          ]
         },
         "header": {
          "align": "left",
          "fill": {
           "color": "paleturquoise"
          },
          "values": [
           "Scenario",
           "Forecasted Death Count",
           "Statistical Human Cost ($B)",
           "Florida GDP ($B)",
           "GDP Cost ($B)",
           "Total Economic Cost ($B)"
          ]
         },
         "type": "table"
        }
       ],
       "layout": {
        "template": {
         "data": {
          "bar": [
           {
            "error_x": {
             "color": "#2a3f5f"
            },
            "error_y": {
             "color": "#2a3f5f"
            },
            "marker": {
             "line": {
              "color": "#E5ECF6",
              "width": 0.5
             }
            },
            "type": "bar"
           }
          ],
          "barpolar": [
           {
            "marker": {
             "line": {
              "color": "#E5ECF6",
              "width": 0.5
             }
            },
            "type": "barpolar"
           }
          ],
          "carpet": [
           {
            "aaxis": {
             "endlinecolor": "#2a3f5f",
             "gridcolor": "white",
             "linecolor": "white",
             "minorgridcolor": "white",
             "startlinecolor": "#2a3f5f"
            },
            "baxis": {
             "endlinecolor": "#2a3f5f",
             "gridcolor": "white",
             "linecolor": "white",
             "minorgridcolor": "white",
             "startlinecolor": "#2a3f5f"
            },
            "type": "carpet"
           }
          ],
          "choropleth": [
           {
            "colorbar": {
             "outlinewidth": 0,
             "ticks": ""
            },
            "type": "choropleth"
           }
          ],
          "contour": [
           {
            "colorbar": {
             "outlinewidth": 0,
             "ticks": ""
            },
            "colorscale": [
             [
              0,
              "#0d0887"
             ],
             [
              0.1111111111111111,
              "#46039f"
             ],
             [
              0.2222222222222222,
              "#7201a8"
             ],
             [
              0.3333333333333333,
              "#9c179e"
             ],
             [
              0.4444444444444444,
              "#bd3786"
             ],
             [
              0.5555555555555556,
              "#d8576b"
             ],
             [
              0.6666666666666666,
              "#ed7953"
             ],
             [
              0.7777777777777778,
              "#fb9f3a"
             ],
             [
              0.8888888888888888,
              "#fdca26"
             ],
             [
              1,
              "#f0f921"
             ]
            ],
            "type": "contour"
           }
          ],
          "contourcarpet": [
           {
            "colorbar": {
             "outlinewidth": 0,
             "ticks": ""
            },
            "type": "contourcarpet"
           }
          ],
          "heatmap": [
           {
            "colorbar": {
             "outlinewidth": 0,
             "ticks": ""
            },
            "colorscale": [
             [
              0,
              "#0d0887"
             ],
             [
              0.1111111111111111,
              "#46039f"
             ],
             [
              0.2222222222222222,
              "#7201a8"
             ],
             [
              0.3333333333333333,
              "#9c179e"
             ],
             [
              0.4444444444444444,
              "#bd3786"
             ],
             [
              0.5555555555555556,
              "#d8576b"
             ],
             [
              0.6666666666666666,
              "#ed7953"
             ],
             [
              0.7777777777777778,
              "#fb9f3a"
             ],
             [
              0.8888888888888888,
              "#fdca26"
             ],
             [
              1,
              "#f0f921"
             ]
            ],
            "type": "heatmap"
           }
          ],
          "heatmapgl": [
           {
            "colorbar": {
             "outlinewidth": 0,
             "ticks": ""
            },
            "colorscale": [
             [
              0,
              "#0d0887"
             ],
             [
              0.1111111111111111,
              "#46039f"
             ],
             [
              0.2222222222222222,
              "#7201a8"
             ],
             [
              0.3333333333333333,
              "#9c179e"
             ],
             [
              0.4444444444444444,
              "#bd3786"
             ],
             [
              0.5555555555555556,
              "#d8576b"
             ],
             [
              0.6666666666666666,
              "#ed7953"
             ],
             [
              0.7777777777777778,
              "#fb9f3a"
             ],
             [
              0.8888888888888888,
              "#fdca26"
             ],
             [
              1,
              "#f0f921"
             ]
            ],
            "type": "heatmapgl"
           }
          ],
          "histogram": [
           {
            "marker": {
             "colorbar": {
              "outlinewidth": 0,
              "ticks": ""
             }
            },
            "type": "histogram"
           }
          ],
          "histogram2d": [
           {
            "colorbar": {
             "outlinewidth": 0,
             "ticks": ""
            },
            "colorscale": [
             [
              0,
              "#0d0887"
             ],
             [
              0.1111111111111111,
              "#46039f"
             ],
             [
              0.2222222222222222,
              "#7201a8"
             ],
             [
              0.3333333333333333,
              "#9c179e"
             ],
             [
              0.4444444444444444,
              "#bd3786"
             ],
             [
              0.5555555555555556,
              "#d8576b"
             ],
             [
              0.6666666666666666,
              "#ed7953"
             ],
             [
              0.7777777777777778,
              "#fb9f3a"
             ],
             [
              0.8888888888888888,
              "#fdca26"
             ],
             [
              1,
              "#f0f921"
             ]
            ],
            "type": "histogram2d"
           }
          ],
          "histogram2dcontour": [
           {
            "colorbar": {
             "outlinewidth": 0,
             "ticks": ""
            },
            "colorscale": [
             [
              0,
              "#0d0887"
             ],
             [
              0.1111111111111111,
              "#46039f"
             ],
             [
              0.2222222222222222,
              "#7201a8"
             ],
             [
              0.3333333333333333,
              "#9c179e"
             ],
             [
              0.4444444444444444,
              "#bd3786"
             ],
             [
              0.5555555555555556,
              "#d8576b"
             ],
             [
              0.6666666666666666,
              "#ed7953"
             ],
             [
              0.7777777777777778,
              "#fb9f3a"
             ],
             [
              0.8888888888888888,
              "#fdca26"
             ],
             [
              1,
              "#f0f921"
             ]
            ],
            "type": "histogram2dcontour"
           }
          ],
          "mesh3d": [
           {
            "colorbar": {
             "outlinewidth": 0,
             "ticks": ""
            },
            "type": "mesh3d"
           }
          ],
          "parcoords": [
           {
            "line": {
             "colorbar": {
              "outlinewidth": 0,
              "ticks": ""
             }
            },
            "type": "parcoords"
           }
          ],
          "scatter": [
           {
            "marker": {
             "colorbar": {
              "outlinewidth": 0,
              "ticks": ""
             }
            },
            "type": "scatter"
           }
          ],
          "scatter3d": [
           {
            "line": {
             "colorbar": {
              "outlinewidth": 0,
              "ticks": ""
             }
            },
            "marker": {
             "colorbar": {
              "outlinewidth": 0,
              "ticks": ""
             }
            },
            "type": "scatter3d"
           }
          ],
          "scattercarpet": [
           {
            "marker": {
             "colorbar": {
              "outlinewidth": 0,
              "ticks": ""
             }
            },
            "type": "scattercarpet"
           }
          ],
          "scattergeo": [
           {
            "marker": {
             "colorbar": {
              "outlinewidth": 0,
              "ticks": ""
             }
            },
            "type": "scattergeo"
           }
          ],
          "scattergl": [
           {
            "marker": {
             "colorbar": {
              "outlinewidth": 0,
              "ticks": ""
             }
            },
            "type": "scattergl"
           }
          ],
          "scattermapbox": [
           {
            "marker": {
             "colorbar": {
              "outlinewidth": 0,
              "ticks": ""
             }
            },
            "type": "scattermapbox"
           }
          ],
          "scatterpolar": [
           {
            "marker": {
             "colorbar": {
              "outlinewidth": 0,
              "ticks": ""
             }
            },
            "type": "scatterpolar"
           }
          ],
          "scatterpolargl": [
           {
            "marker": {
             "colorbar": {
              "outlinewidth": 0,
              "ticks": ""
             }
            },
            "type": "scatterpolargl"
           }
          ],
          "scatterternary": [
           {
            "marker": {
             "colorbar": {
              "outlinewidth": 0,
              "ticks": ""
             }
            },
            "type": "scatterternary"
           }
          ],
          "surface": [
           {
            "colorbar": {
             "outlinewidth": 0,
             "ticks": ""
            },
            "colorscale": [
             [
              0,
              "#0d0887"
             ],
             [
              0.1111111111111111,
              "#46039f"
             ],
             [
              0.2222222222222222,
              "#7201a8"
             ],
             [
              0.3333333333333333,
              "#9c179e"
             ],
             [
              0.4444444444444444,
              "#bd3786"
             ],
             [
              0.5555555555555556,
              "#d8576b"
             ],
             [
              0.6666666666666666,
              "#ed7953"
             ],
             [
              0.7777777777777778,
              "#fb9f3a"
             ],
             [
              0.8888888888888888,
              "#fdca26"
             ],
             [
              1,
              "#f0f921"
             ]
            ],
            "type": "surface"
           }
          ],
          "table": [
           {
            "cells": {
             "fill": {
              "color": "#EBF0F8"
             },
             "line": {
              "color": "white"
             }
            },
            "header": {
             "fill": {
              "color": "#C8D4E3"
             },
             "line": {
              "color": "white"
             }
            },
            "type": "table"
           }
          ]
         },
         "layout": {
          "annotationdefaults": {
           "arrowcolor": "#2a3f5f",
           "arrowhead": 0,
           "arrowwidth": 1
          },
          "colorscale": {
           "diverging": [
            [
             0,
             "#8e0152"
            ],
            [
             0.1,
             "#c51b7d"
            ],
            [
             0.2,
             "#de77ae"
            ],
            [
             0.3,
             "#f1b6da"
            ],
            [
             0.4,
             "#fde0ef"
            ],
            [
             0.5,
             "#f7f7f7"
            ],
            [
             0.6,
             "#e6f5d0"
            ],
            [
             0.7,
             "#b8e186"
            ],
            [
             0.8,
             "#7fbc41"
            ],
            [
             0.9,
             "#4d9221"
            ],
            [
             1,
             "#276419"
            ]
           ],
           "sequential": [
            [
             0,
             "#0d0887"
            ],
            [
             0.1111111111111111,
             "#46039f"
            ],
            [
             0.2222222222222222,
             "#7201a8"
            ],
            [
             0.3333333333333333,
             "#9c179e"
            ],
            [
             0.4444444444444444,
             "#bd3786"
            ],
            [
             0.5555555555555556,
             "#d8576b"
            ],
            [
             0.6666666666666666,
             "#ed7953"
            ],
            [
             0.7777777777777778,
             "#fb9f3a"
            ],
            [
             0.8888888888888888,
             "#fdca26"
            ],
            [
             1,
             "#f0f921"
            ]
           ],
           "sequentialminus": [
            [
             0,
             "#0d0887"
            ],
            [
             0.1111111111111111,
             "#46039f"
            ],
            [
             0.2222222222222222,
             "#7201a8"
            ],
            [
             0.3333333333333333,
             "#9c179e"
            ],
            [
             0.4444444444444444,
             "#bd3786"
            ],
            [
             0.5555555555555556,
             "#d8576b"
            ],
            [
             0.6666666666666666,
             "#ed7953"
            ],
            [
             0.7777777777777778,
             "#fb9f3a"
            ],
            [
             0.8888888888888888,
             "#fdca26"
            ],
            [
             1,
             "#f0f921"
            ]
           ]
          },
          "colorway": [
           "#636efa",
           "#EF553B",
           "#00cc96",
           "#ab63fa",
           "#FFA15A",
           "#19d3f3",
           "#FF6692",
           "#B6E880",
           "#FF97FF",
           "#FECB52"
          ],
          "font": {
           "color": "#2a3f5f"
          },
          "geo": {
           "bgcolor": "white",
           "lakecolor": "white",
           "landcolor": "#E5ECF6",
           "showlakes": true,
           "showland": true,
           "subunitcolor": "white"
          },
          "hoverlabel": {
           "align": "left"
          },
          "hovermode": "closest",
          "mapbox": {
           "style": "light"
          },
          "paper_bgcolor": "white",
          "plot_bgcolor": "#E5ECF6",
          "polar": {
           "angularaxis": {
            "gridcolor": "white",
            "linecolor": "white",
            "ticks": ""
           },
           "bgcolor": "#E5ECF6",
           "radialaxis": {
            "gridcolor": "white",
            "linecolor": "white",
            "ticks": ""
           }
          },
          "scene": {
           "xaxis": {
            "backgroundcolor": "#E5ECF6",
            "gridcolor": "white",
            "gridwidth": 2,
            "linecolor": "white",
            "showbackground": true,
            "ticks": "",
            "zerolinecolor": "white"
           },
           "yaxis": {
            "backgroundcolor": "#E5ECF6",
            "gridcolor": "white",
            "gridwidth": 2,
            "linecolor": "white",
            "showbackground": true,
            "ticks": "",
            "zerolinecolor": "white"
           },
           "zaxis": {
            "backgroundcolor": "#E5ECF6",
            "gridcolor": "white",
            "gridwidth": 2,
            "linecolor": "white",
            "showbackground": true,
            "ticks": "",
            "zerolinecolor": "white"
           }
          },
          "shapedefaults": {
           "line": {
            "color": "#2a3f5f"
           }
          },
          "ternary": {
           "aaxis": {
            "gridcolor": "white",
            "linecolor": "white",
            "ticks": ""
           },
           "baxis": {
            "gridcolor": "white",
            "linecolor": "white",
            "ticks": ""
           },
           "bgcolor": "#E5ECF6",
           "caxis": {
            "gridcolor": "white",
            "linecolor": "white",
            "ticks": ""
           }
          },
          "title": {
           "x": 0.05
          },
          "xaxis": {
           "automargin": true,
           "gridcolor": "white",
           "linecolor": "white",
           "ticks": "",
           "zerolinecolor": "white",
           "zerolinewidth": 2
          },
          "yaxis": {
           "automargin": true,
           "gridcolor": "white",
           "linecolor": "white",
           "ticks": "",
           "zerolinecolor": "white",
           "zerolinewidth": 2
          }
         }
        },
        "title": {
         "text": "Total Economic Cost - Next 4 Week Forecast, Florida"
        }
       }
      },
      "text/html": [
       "<div>\n",
       "        \n",
       "        \n",
       "            <div id=\"0a5dd48b-2131-48f9-9222-7ad75320e436\" class=\"plotly-graph-div\" style=\"height:525px; width:100%;\"></div>\n",
       "            <script type=\"text/javascript\">\n",
       "                require([\"plotly\"], function(Plotly) {\n",
       "                    window.PLOTLYENV=window.PLOTLYENV || {};\n",
       "                    \n",
       "                if (document.getElementById(\"0a5dd48b-2131-48f9-9222-7ad75320e436\")) {\n",
       "                    Plotly.newPlot(\n",
       "                        '0a5dd48b-2131-48f9-9222-7ad75320e436',\n",
       "                        [{\"cells\": {\"align\": \"left\", \"fill\": {\"color\": \"lavender\"}, \"format\": [null, \",.0f\", \"$.2f\"], \"values\": [[\"A: Restart the normal economy\", \"B: Transition to a low-touch economy\", \"C: Re-instate April/May lockdown\"], [1890.533459100057, 2276.151982246526, 556.4015952645282], [18.905334591000567, 22.76151982246526, 5.564015952645281], [950.76, 950.76, 950.76], [11.884500000000001, 23.769000000000002, 47.538000000000004], [30.78983459100057, 46.530519822465266, 53.10201595264529]]}, \"header\": {\"align\": \"left\", \"fill\": {\"color\": \"paleturquoise\"}, \"values\": [\"Scenario\", \"Forecasted Death Count\", \"Statistical Human Cost ($B)\", \"Florida GDP ($B)\", \"GDP Cost ($B)\", \"Total Economic Cost ($B)\"]}, \"type\": \"table\"}],\n",
       "                        {\"template\": {\"data\": {\"bar\": [{\"error_x\": {\"color\": \"#2a3f5f\"}, \"error_y\": {\"color\": \"#2a3f5f\"}, \"marker\": {\"line\": {\"color\": \"#E5ECF6\", \"width\": 0.5}}, \"type\": \"bar\"}], \"barpolar\": [{\"marker\": {\"line\": {\"color\": \"#E5ECF6\", \"width\": 0.5}}, \"type\": \"barpolar\"}], \"carpet\": [{\"aaxis\": {\"endlinecolor\": \"#2a3f5f\", \"gridcolor\": \"white\", \"linecolor\": \"white\", \"minorgridcolor\": \"white\", \"startlinecolor\": \"#2a3f5f\"}, \"baxis\": {\"endlinecolor\": \"#2a3f5f\", \"gridcolor\": \"white\", \"linecolor\": \"white\", \"minorgridcolor\": \"white\", \"startlinecolor\": \"#2a3f5f\"}, \"type\": \"carpet\"}], \"choropleth\": [{\"colorbar\": {\"outlinewidth\": 0, \"ticks\": \"\"}, \"type\": \"choropleth\"}], \"contour\": [{\"colorbar\": {\"outlinewidth\": 0, \"ticks\": \"\"}, \"colorscale\": [[0.0, \"#0d0887\"], [0.1111111111111111, \"#46039f\"], [0.2222222222222222, \"#7201a8\"], [0.3333333333333333, \"#9c179e\"], [0.4444444444444444, \"#bd3786\"], [0.5555555555555556, \"#d8576b\"], [0.6666666666666666, \"#ed7953\"], [0.7777777777777778, \"#fb9f3a\"], [0.8888888888888888, \"#fdca26\"], [1.0, \"#f0f921\"]], \"type\": \"contour\"}], \"contourcarpet\": [{\"colorbar\": {\"outlinewidth\": 0, \"ticks\": \"\"}, \"type\": \"contourcarpet\"}], \"heatmap\": [{\"colorbar\": {\"outlinewidth\": 0, \"ticks\": \"\"}, \"colorscale\": [[0.0, \"#0d0887\"], [0.1111111111111111, \"#46039f\"], [0.2222222222222222, \"#7201a8\"], [0.3333333333333333, \"#9c179e\"], [0.4444444444444444, \"#bd3786\"], [0.5555555555555556, \"#d8576b\"], [0.6666666666666666, \"#ed7953\"], [0.7777777777777778, \"#fb9f3a\"], [0.8888888888888888, \"#fdca26\"], [1.0, \"#f0f921\"]], \"type\": \"heatmap\"}], \"heatmapgl\": [{\"colorbar\": {\"outlinewidth\": 0, \"ticks\": \"\"}, \"colorscale\": [[0.0, \"#0d0887\"], [0.1111111111111111, \"#46039f\"], [0.2222222222222222, \"#7201a8\"], [0.3333333333333333, \"#9c179e\"], [0.4444444444444444, \"#bd3786\"], [0.5555555555555556, \"#d8576b\"], [0.6666666666666666, \"#ed7953\"], [0.7777777777777778, \"#fb9f3a\"], [0.8888888888888888, \"#fdca26\"], [1.0, \"#f0f921\"]], \"type\": \"heatmapgl\"}], \"histogram\": [{\"marker\": {\"colorbar\": {\"outlinewidth\": 0, \"ticks\": \"\"}}, \"type\": \"histogram\"}], \"histogram2d\": [{\"colorbar\": {\"outlinewidth\": 0, \"ticks\": \"\"}, \"colorscale\": [[0.0, \"#0d0887\"], [0.1111111111111111, \"#46039f\"], [0.2222222222222222, \"#7201a8\"], [0.3333333333333333, \"#9c179e\"], [0.4444444444444444, \"#bd3786\"], [0.5555555555555556, \"#d8576b\"], [0.6666666666666666, \"#ed7953\"], [0.7777777777777778, \"#fb9f3a\"], [0.8888888888888888, \"#fdca26\"], [1.0, \"#f0f921\"]], \"type\": \"histogram2d\"}], \"histogram2dcontour\": [{\"colorbar\": {\"outlinewidth\": 0, \"ticks\": \"\"}, \"colorscale\": [[0.0, \"#0d0887\"], [0.1111111111111111, \"#46039f\"], [0.2222222222222222, \"#7201a8\"], [0.3333333333333333, \"#9c179e\"], [0.4444444444444444, \"#bd3786\"], [0.5555555555555556, \"#d8576b\"], [0.6666666666666666, \"#ed7953\"], [0.7777777777777778, \"#fb9f3a\"], [0.8888888888888888, \"#fdca26\"], [1.0, \"#f0f921\"]], \"type\": \"histogram2dcontour\"}], \"mesh3d\": [{\"colorbar\": {\"outlinewidth\": 0, \"ticks\": \"\"}, \"type\": \"mesh3d\"}], \"parcoords\": [{\"line\": {\"colorbar\": {\"outlinewidth\": 0, \"ticks\": \"\"}}, \"type\": \"parcoords\"}], \"scatter\": [{\"marker\": {\"colorbar\": {\"outlinewidth\": 0, \"ticks\": \"\"}}, \"type\": \"scatter\"}], \"scatter3d\": [{\"line\": {\"colorbar\": {\"outlinewidth\": 0, \"ticks\": \"\"}}, \"marker\": {\"colorbar\": {\"outlinewidth\": 0, \"ticks\": \"\"}}, \"type\": \"scatter3d\"}], \"scattercarpet\": [{\"marker\": {\"colorbar\": {\"outlinewidth\": 0, \"ticks\": \"\"}}, \"type\": \"scattercarpet\"}], \"scattergeo\": [{\"marker\": {\"colorbar\": {\"outlinewidth\": 0, \"ticks\": \"\"}}, \"type\": \"scattergeo\"}], \"scattergl\": [{\"marker\": {\"colorbar\": {\"outlinewidth\": 0, \"ticks\": \"\"}}, \"type\": \"scattergl\"}], \"scattermapbox\": [{\"marker\": {\"colorbar\": {\"outlinewidth\": 0, \"ticks\": \"\"}}, \"type\": \"scattermapbox\"}], \"scatterpolar\": [{\"marker\": {\"colorbar\": {\"outlinewidth\": 0, \"ticks\": \"\"}}, \"type\": \"scatterpolar\"}], \"scatterpolargl\": [{\"marker\": {\"colorbar\": {\"outlinewidth\": 0, \"ticks\": \"\"}}, \"type\": \"scatterpolargl\"}], \"scatterternary\": [{\"marker\": {\"colorbar\": {\"outlinewidth\": 0, \"ticks\": \"\"}}, \"type\": \"scatterternary\"}], \"surface\": [{\"colorbar\": {\"outlinewidth\": 0, \"ticks\": \"\"}, \"colorscale\": [[0.0, \"#0d0887\"], [0.1111111111111111, \"#46039f\"], [0.2222222222222222, \"#7201a8\"], [0.3333333333333333, \"#9c179e\"], [0.4444444444444444, \"#bd3786\"], [0.5555555555555556, \"#d8576b\"], [0.6666666666666666, \"#ed7953\"], [0.7777777777777778, \"#fb9f3a\"], [0.8888888888888888, \"#fdca26\"], [1.0, \"#f0f921\"]], \"type\": \"surface\"}], \"table\": [{\"cells\": {\"fill\": {\"color\": \"#EBF0F8\"}, \"line\": {\"color\": \"white\"}}, \"header\": {\"fill\": {\"color\": \"#C8D4E3\"}, \"line\": {\"color\": \"white\"}}, \"type\": \"table\"}]}, \"layout\": {\"annotationdefaults\": {\"arrowcolor\": \"#2a3f5f\", \"arrowhead\": 0, \"arrowwidth\": 1}, \"colorscale\": {\"diverging\": [[0, \"#8e0152\"], [0.1, \"#c51b7d\"], [0.2, \"#de77ae\"], [0.3, \"#f1b6da\"], [0.4, \"#fde0ef\"], [0.5, \"#f7f7f7\"], [0.6, \"#e6f5d0\"], [0.7, \"#b8e186\"], [0.8, \"#7fbc41\"], [0.9, \"#4d9221\"], [1, \"#276419\"]], \"sequential\": [[0.0, \"#0d0887\"], [0.1111111111111111, \"#46039f\"], [0.2222222222222222, \"#7201a8\"], [0.3333333333333333, \"#9c179e\"], [0.4444444444444444, \"#bd3786\"], [0.5555555555555556, \"#d8576b\"], [0.6666666666666666, \"#ed7953\"], [0.7777777777777778, \"#fb9f3a\"], [0.8888888888888888, \"#fdca26\"], [1.0, \"#f0f921\"]], \"sequentialminus\": [[0.0, \"#0d0887\"], [0.1111111111111111, \"#46039f\"], [0.2222222222222222, \"#7201a8\"], [0.3333333333333333, \"#9c179e\"], [0.4444444444444444, \"#bd3786\"], [0.5555555555555556, \"#d8576b\"], [0.6666666666666666, \"#ed7953\"], [0.7777777777777778, \"#fb9f3a\"], [0.8888888888888888, \"#fdca26\"], [1.0, \"#f0f921\"]]}, \"colorway\": [\"#636efa\", \"#EF553B\", \"#00cc96\", \"#ab63fa\", \"#FFA15A\", \"#19d3f3\", \"#FF6692\", \"#B6E880\", \"#FF97FF\", \"#FECB52\"], \"font\": {\"color\": \"#2a3f5f\"}, \"geo\": {\"bgcolor\": \"white\", \"lakecolor\": \"white\", \"landcolor\": \"#E5ECF6\", \"showlakes\": true, \"showland\": true, \"subunitcolor\": \"white\"}, \"hoverlabel\": {\"align\": \"left\"}, \"hovermode\": \"closest\", \"mapbox\": {\"style\": \"light\"}, \"paper_bgcolor\": \"white\", \"plot_bgcolor\": \"#E5ECF6\", \"polar\": {\"angularaxis\": {\"gridcolor\": \"white\", \"linecolor\": \"white\", \"ticks\": \"\"}, \"bgcolor\": \"#E5ECF6\", \"radialaxis\": {\"gridcolor\": \"white\", \"linecolor\": \"white\", \"ticks\": \"\"}}, \"scene\": {\"xaxis\": {\"backgroundcolor\": \"#E5ECF6\", \"gridcolor\": \"white\", \"gridwidth\": 2, \"linecolor\": \"white\", \"showbackground\": true, \"ticks\": \"\", \"zerolinecolor\": \"white\"}, \"yaxis\": {\"backgroundcolor\": \"#E5ECF6\", \"gridcolor\": \"white\", \"gridwidth\": 2, \"linecolor\": \"white\", \"showbackground\": true, \"ticks\": \"\", \"zerolinecolor\": \"white\"}, \"zaxis\": {\"backgroundcolor\": \"#E5ECF6\", \"gridcolor\": \"white\", \"gridwidth\": 2, \"linecolor\": \"white\", \"showbackground\": true, \"ticks\": \"\", \"zerolinecolor\": \"white\"}}, \"shapedefaults\": {\"line\": {\"color\": \"#2a3f5f\"}}, \"ternary\": {\"aaxis\": {\"gridcolor\": \"white\", \"linecolor\": \"white\", \"ticks\": \"\"}, \"baxis\": {\"gridcolor\": \"white\", \"linecolor\": \"white\", \"ticks\": \"\"}, \"bgcolor\": \"#E5ECF6\", \"caxis\": {\"gridcolor\": \"white\", \"linecolor\": \"white\", \"ticks\": \"\"}}, \"title\": {\"x\": 0.05}, \"xaxis\": {\"automargin\": true, \"gridcolor\": \"white\", \"linecolor\": \"white\", \"ticks\": \"\", \"zerolinecolor\": \"white\", \"zerolinewidth\": 2}, \"yaxis\": {\"automargin\": true, \"gridcolor\": \"white\", \"linecolor\": \"white\", \"ticks\": \"\", \"zerolinecolor\": \"white\", \"zerolinewidth\": 2}}}, \"title\": {\"text\": \"Total Economic Cost - Next 4 Week Forecast, Florida\"}},\n",
       "                        {\"responsive\": true}\n",
       "                    ).then(function(){\n",
       "                            \n",
       "var gd = document.getElementById('0a5dd48b-2131-48f9-9222-7ad75320e436');\n",
       "var x = new MutationObserver(function (mutations, observer) {{\n",
       "        var display = window.getComputedStyle(gd).display;\n",
       "        if (!display || display === 'none') {{\n",
       "            console.log([gd, 'removed!']);\n",
       "            Plotly.purge(gd);\n",
       "            observer.disconnect();\n",
       "        }}\n",
       "}});\n",
       "\n",
       "// Listen for the removal of the full notebook cells\n",
       "var notebookContainer = gd.closest('#notebook-container');\n",
       "if (notebookContainer) {{\n",
       "    x.observe(notebookContainer, {childList: true});\n",
       "}}\n",
       "\n",
       "// Listen for the clearing of the current output cell\n",
       "var outputEl = gd.closest('.output');\n",
       "if (outputEl) {{\n",
       "    x.observe(outputEl, {childList: true});\n",
       "}}\n",
       "\n",
       "                        })\n",
       "                };\n",
       "                });\n",
       "            </script>\n",
       "        </div>"
      ]
     },
     "metadata": {},
     "output_type": "display_data"
    }
   ],
   "source": [
    "df6 = pt2\n",
    "\n",
    "fig = go.Figure(data=[go.Table(\n",
    "    header=dict(values=list(df6.columns),\n",
    "                fill_color='paleturquoise',\n",
    "                align='left'),\n",
    "    cells=dict(values=[df6['Scenario'],df6['Forecasted Death Count'],df6['Statistical Human Cost ($B)'],df6['Florida GDP ($B)'],df6['GDP Cost ($B)'],df6['Total Economic Cost ($B)']],\n",
    "               fill_color='lavender',\n",
    "               align='left',\n",
    "               format=[None,',.0f','$.2f']))\n",
    "])\n",
    "\n",
    "fig.update_layout(title_text=\"Total Economic Cost - Next 4 Week Forecast, Florida\")\n",
    "\n",
    "fig.show()\n",
    "#py.plot(fig, filename = 'Breakeven Analysis by Scenario - August 2020 Forecasts', auto_open=False)\n",
    "fig.write_image(\"chart_images/Breakeven Analysis by Scenario.png\")"
   ]
  },
  {
   "cell_type": "markdown",
   "metadata": {},
   "source": [
    "### A4.\n",
    "Based on the sum of GDP cost of shutting down and the statistical human cost of deaths, it appears that the best course of action is to transition to a hybrid model where financial transactions take place in low-touch mediums and/or low-density environments.\n",
    "\n",
    "Note: as Florida has implemented some stricter regulations in the past few weeks, scenario A now reflects some lost GDP value."
   ]
  },
  {
   "cell_type": "code",
   "execution_count": 230,
   "metadata": {
    "scrolled": true
   },
   "outputs": [
    {
     "data": {
      "application/vnd.plotly.v1+json": {
       "config": {
        "plotlyServerURL": "https://plotly.com"
       },
       "data": [
        {
         "alignmentgroup": "True",
         "hoverlabel": {
          "namelength": 0
         },
         "legendgroup": "Age Group=(0, 25]",
         "marker": {
          "color": "#636efa"
         },
         "name": "Age Group=(0, 25]",
         "offsetgroup": "Age Group=(0, 25]",
         "orientation": "v",
         "showlegend": true,
         "textposition": "auto",
         "type": "bar",
         "x": [
          "2020-03-22T00:00:00+00:00",
          "2020-03-29T00:00:00+00:00",
          "2020-04-05T00:00:00+00:00",
          "2020-04-12T00:00:00+00:00",
          "2020-04-19T00:00:00+00:00",
          "2020-04-26T00:00:00+00:00",
          "2020-05-03T00:00:00+00:00",
          "2020-05-10T00:00:00+00:00",
          "2020-05-17T00:00:00+00:00",
          "2020-05-24T00:00:00+00:00",
          "2020-05-31T00:00:00+00:00",
          "2020-06-07T00:00:00+00:00",
          "2020-06-14T00:00:00+00:00",
          "2020-06-21T00:00:00+00:00",
          "2020-06-28T00:00:00+00:00",
          "2020-07-05T00:00:00+00:00",
          "2020-07-12T00:00:00+00:00",
          "2020-07-19T00:00:00+00:00",
          "2020-07-26T00:00:00+00:00",
          "2020-08-02T00:00:00+00:00",
          "2020-08-09T00:00:00+00:00",
          "2020-08-16T00:00:00+00:00"
         ],
         "xaxis": "x",
         "y": [
          0.0002998500749625187,
          0.005397301349325337,
          0.03568215892053977,
          0.11094452773613107,
          0.21289355322338946,
          0.21589205397301472,
          0.1907046476761625,
          0.21649175412293978,
          0.16581709145427279,
          0.15112443778110898,
          0.23688155922039159,
          0.2962518740629718,
          0.29655172413793435,
          0.5475262368815603,
          0.9802098950524061,
          2.0017991004495452,
          4.009595202398252,
          4.65007496251809,
          5.340329835081699,
          5.29685157421214,
          4.833883058470085,
          3.901649175411762
         ],
         "yaxis": "y"
        },
        {
         "alignmentgroup": "True",
         "hoverlabel": {
          "namelength": 0
         },
         "legendgroup": "Age Group=(25, 50]",
         "marker": {
          "color": "#EF553B"
         },
         "name": "Age Group=(25, 50]",
         "offsetgroup": "Age Group=(25, 50]",
         "orientation": "v",
         "showlegend": true,
         "textposition": "auto",
         "type": "bar",
         "x": [
          "2020-03-22T00:00:00+00:00",
          "2020-03-29T00:00:00+00:00",
          "2020-04-05T00:00:00+00:00",
          "2020-04-12T00:00:00+00:00",
          "2020-04-19T00:00:00+00:00",
          "2020-04-26T00:00:00+00:00",
          "2020-05-03T00:00:00+00:00",
          "2020-05-10T00:00:00+00:00",
          "2020-05-17T00:00:00+00:00",
          "2020-05-24T00:00:00+00:00",
          "2020-05-31T00:00:00+00:00",
          "2020-06-07T00:00:00+00:00",
          "2020-06-14T00:00:00+00:00",
          "2020-06-21T00:00:00+00:00",
          "2020-06-28T00:00:00+00:00",
          "2020-07-05T00:00:00+00:00",
          "2020-07-12T00:00:00+00:00",
          "2020-07-19T00:00:00+00:00",
          "2020-07-26T00:00:00+00:00",
          "2020-08-02T00:00:00+00:00",
          "2020-08-09T00:00:00+00:00",
          "2020-08-16T00:00:00+00:00"
         ],
         "xaxis": "x",
         "y": [
          0.0015821646889608056,
          0.05379359942466734,
          0.5505933117583627,
          2.550449478604813,
          4.844588277598012,
          4.6009349154980015,
          3.955411722401882,
          3.4317152103559025,
          2.7213232650125647,
          2.4966558791801505,
          3.3668464581085153,
          3.542466738583149,
          3.6247393024091035,
          5.365120460266216,
          8.668680330816633,
          16.278892484715602,
          34.282344480414146,
          43.620280474667844,
          54.09737504497418,
          53.80625674220517,
          49.289176555218674,
          40.17749011148654
         ],
         "yaxis": "y"
        },
        {
         "alignmentgroup": "True",
         "hoverlabel": {
          "namelength": 0
         },
         "legendgroup": "Age Group=(50, 60]",
         "marker": {
          "color": "#00cc96"
         },
         "name": "Age Group=(50, 60]",
         "offsetgroup": "Age Group=(50, 60]",
         "orientation": "v",
         "showlegend": true,
         "textposition": "auto",
         "type": "bar",
         "x": [
          "2020-03-22T00:00:00+00:00",
          "2020-03-29T00:00:00+00:00",
          "2020-04-05T00:00:00+00:00",
          "2020-04-12T00:00:00+00:00",
          "2020-04-19T00:00:00+00:00",
          "2020-04-26T00:00:00+00:00",
          "2020-05-03T00:00:00+00:00",
          "2020-05-10T00:00:00+00:00",
          "2020-05-17T00:00:00+00:00",
          "2020-05-24T00:00:00+00:00",
          "2020-05-31T00:00:00+00:00",
          "2020-06-07T00:00:00+00:00",
          "2020-06-14T00:00:00+00:00",
          "2020-06-21T00:00:00+00:00",
          "2020-06-28T00:00:00+00:00",
          "2020-07-05T00:00:00+00:00",
          "2020-07-12T00:00:00+00:00",
          "2020-07-19T00:00:00+00:00",
          "2020-07-26T00:00:00+00:00",
          "2020-08-02T00:00:00+00:00",
          "2020-08-09T00:00:00+00:00",
          "2020-08-16T00:00:00+00:00"
         ],
         "xaxis": "x",
         "y": [
          0.014088475626937165,
          0.11975204282896586,
          1.2186531417300663,
          5.001408847562727,
          9.784446322908156,
          9.868977176669784,
          8.100873485489073,
          6.8822203437589415,
          5.635390250774934,
          4.578754578754589,
          6.184840800225514,
          5.438151591997803,
          5.45928430543821,
          7.790927021696438,
          10.629754860524432,
          19.19554804170189,
          39.320935474777656,
          56.10735418426997,
          79.57171034094489,
          83.57283741899829,
          78.81093265708967,
          67.01183431952022
         ],
         "yaxis": "y"
        },
        {
         "alignmentgroup": "True",
         "hoverlabel": {
          "namelength": 0
         },
         "legendgroup": "Age Group=(60, 70]",
         "marker": {
          "color": "#ab63fa"
         },
         "name": "Age Group=(60, 70]",
         "offsetgroup": "Age Group=(60, 70]",
         "orientation": "v",
         "showlegend": true,
         "textposition": "auto",
         "type": "bar",
         "x": [
          "2020-03-22T00:00:00+00:00",
          "2020-03-29T00:00:00+00:00",
          "2020-04-05T00:00:00+00:00",
          "2020-04-12T00:00:00+00:00",
          "2020-04-19T00:00:00+00:00",
          "2020-04-26T00:00:00+00:00",
          "2020-05-03T00:00:00+00:00",
          "2020-05-10T00:00:00+00:00",
          "2020-05-17T00:00:00+00:00",
          "2020-05-24T00:00:00+00:00",
          "2020-05-31T00:00:00+00:00",
          "2020-06-07T00:00:00+00:00",
          "2020-06-14T00:00:00+00:00",
          "2020-06-21T00:00:00+00:00",
          "2020-06-28T00:00:00+00:00",
          "2020-07-05T00:00:00+00:00",
          "2020-07-12T00:00:00+00:00",
          "2020-07-19T00:00:00+00:00",
          "2020-07-26T00:00:00+00:00",
          "2020-08-02T00:00:00+00:00",
          "2020-08-09T00:00:00+00:00",
          "2020-08-16T00:00:00+00:00"
         ],
         "xaxis": "x",
         "y": [
          0.14279815566719428,
          0.9995870896703597,
          4.5124217190833456,
          15.365081549790046,
          33.44332805725764,
          32.843575803455394,
          24.27568646342334,
          20.277338104741716,
          18.677998761269066,
          13.908540361984688,
          17.992567614066502,
          15.993393434725691,
          14.93668708278847,
          20.64861330947644,
          27.845640355103363,
          44.153189732297704,
          93.19007638840722,
          132.71660587708095,
          189.0933177345059,
          213.22620604226884,
          203.658729612564,
          169.30149335902692
         ],
         "yaxis": "y"
        },
        {
         "alignmentgroup": "True",
         "hoverlabel": {
          "namelength": 0
         },
         "legendgroup": "Age Group=(70, 80]",
         "marker": {
          "color": "#FFA15A"
         },
         "name": "Age Group=(70, 80]",
         "offsetgroup": "Age Group=(70, 80]",
         "orientation": "v",
         "showlegend": true,
         "textposition": "auto",
         "type": "bar",
         "x": [
          "2020-03-22T00:00:00+00:00",
          "2020-03-29T00:00:00+00:00",
          "2020-04-05T00:00:00+00:00",
          "2020-04-12T00:00:00+00:00",
          "2020-04-19T00:00:00+00:00",
          "2020-04-26T00:00:00+00:00",
          "2020-05-03T00:00:00+00:00",
          "2020-05-10T00:00:00+00:00",
          "2020-05-17T00:00:00+00:00",
          "2020-05-24T00:00:00+00:00",
          "2020-05-31T00:00:00+00:00",
          "2020-06-07T00:00:00+00:00",
          "2020-06-14T00:00:00+00:00",
          "2020-06-21T00:00:00+00:00",
          "2020-06-28T00:00:00+00:00",
          "2020-07-05T00:00:00+00:00",
          "2020-07-12T00:00:00+00:00",
          "2020-07-19T00:00:00+00:00",
          "2020-07-26T00:00:00+00:00",
          "2020-08-02T00:00:00+00:00",
          "2020-08-09T00:00:00+00:00",
          "2020-08-16T00:00:00+00:00"
         ],
         "xaxis": "x",
         "y": [
          0.3934191702432046,
          1.0228898426323318,
          8.655221745350497,
          35.09298998569363,
          60.11444921316107,
          54.68526466380493,
          45.557939914162716,
          39.263233190271535,
          37.92560801144466,
          30.608011444921157,
          34.30615164520723,
          29.82117310443476,
          25.414878397710932,
          32.103004291845316,
          41.93848354792529,
          70.02861230329023,
          132.97567954220682,
          189.70672389127097,
          282.3175965665211,
          335.58655221746466,
          314.97138769671545,
          263.43347639484244
         ],
         "yaxis": "y"
        },
        {
         "alignmentgroup": "True",
         "hoverlabel": {
          "namelength": 0
         },
         "legendgroup": "Age Group=(80, 100]",
         "marker": {
          "color": "#19d3f3"
         },
         "name": "Age Group=(80, 100]",
         "offsetgroup": "Age Group=(80, 100]",
         "orientation": "v",
         "showlegend": true,
         "textposition": "auto",
         "type": "bar",
         "x": [
          "2020-03-29T00:00:00+00:00",
          "2020-04-05T00:00:00+00:00",
          "2020-04-12T00:00:00+00:00",
          "2020-04-19T00:00:00+00:00",
          "2020-04-26T00:00:00+00:00",
          "2020-05-03T00:00:00+00:00",
          "2020-05-10T00:00:00+00:00",
          "2020-05-17T00:00:00+00:00",
          "2020-05-24T00:00:00+00:00",
          "2020-05-31T00:00:00+00:00",
          "2020-06-07T00:00:00+00:00",
          "2020-06-14T00:00:00+00:00",
          "2020-06-21T00:00:00+00:00",
          "2020-06-28T00:00:00+00:00",
          "2020-07-05T00:00:00+00:00",
          "2020-07-12T00:00:00+00:00",
          "2020-07-19T00:00:00+00:00",
          "2020-07-26T00:00:00+00:00",
          "2020-08-02T00:00:00+00:00",
          "2020-08-09T00:00:00+00:00",
          "2020-08-16T00:00:00+00:00"
         ],
         "xaxis": "x",
         "y": [
          1.1566700100300902,
          11.5667001003009,
          41.6401203610834,
          75.76188565697127,
          106.02808425275883,
          102.94363089267857,
          116.63089267803473,
          107.57031093279896,
          95.81083249749297,
          101.59418254764346,
          81.15967903711173,
          59.18294884653988,
          77.3041123370114,
          94.07582748244782,
          118.94423269809492,
          229.40621865596924,
          267.57632898696244,
          464.01745235707403,
          545.369909729181,
          553.2738214643844,
          455.1496489468433
         ],
         "yaxis": "y"
        },
        {
         "customdata": [
          [
           -10000,
           "2020-08-03"
          ],
          [
           10000,
           "2020-08-03"
          ]
         ],
         "hoverlabel": {
          "namelength": 0
         },
         "legendgroup": "Forecasted After Date=2020-08-03",
         "line": {
          "color": "black",
          "dash": "solid"
         },
         "mode": "lines",
         "name": "Forecasted After Date=2020-08-03",
         "showlegend": true,
         "type": "scatter",
         "x": [
          "2020-08-03",
          "2020-08-03"
         ],
         "xaxis": "x",
         "y": [
          -10000,
          10000
         ],
         "yaxis": "y"
        },
        {
         "hoverlabel": {
          "namelength": 0
         },
         "legendgroup": "Scenario=A",
         "line": {
          "color": "red",
          "dash": "solid"
         },
         "mode": "lines",
         "name": "Scenario=A",
         "showlegend": true,
         "type": "scatter",
         "x": [
          "2020-03-02T00:00:00",
          "2020-03-09T00:00:00",
          "2020-03-16T00:00:00",
          "2020-03-23T00:00:00",
          "2020-03-30T00:00:00",
          "2020-04-06T00:00:00",
          "2020-04-13T00:00:00",
          "2020-04-20T00:00:00",
          "2020-04-27T00:00:00",
          "2020-05-04T00:00:00",
          "2020-05-11T00:00:00",
          "2020-05-18T00:00:00",
          "2020-05-25T00:00:00",
          "2020-06-01T00:00:00",
          "2020-06-08T00:00:00",
          "2020-06-15T00:00:00",
          "2020-06-22T00:00:00",
          "2020-06-29T00:00:00",
          "2020-07-06T00:00:00",
          "2020-07-13T00:00:00",
          "2020-07-20T00:00:00",
          "2020-07-27T00:00:00",
          "2020-08-03T00:00:00",
          "2020-08-10T00:00:00",
          "2020-08-17T00:00:00",
          "2020-08-24T00:00:00",
          "2020-08-31T00:00:00",
          "2020-09-07T00:00:00",
          "2020-09-14T00:00:00"
         ],
         "xaxis": "x",
         "y": [
          0,
          0,
          0,
          1,
          3,
          26,
          99,
          184,
          208,
          185,
          186,
          172,
          147,
          163,
          136,
          108,
          143,
          184,
          270,
          533,
          694,
          1074,
          1236,
          1204,
          998,
          828,
          686,
          569,
          472
         ],
         "yaxis": "y"
        },
        {
         "hoverlabel": {
          "namelength": 0
         },
         "legendgroup": "Scenario=B",
         "line": {
          "color": "green",
          "dash": "solid"
         },
         "mode": "lines",
         "name": "Scenario=B",
         "showlegend": true,
         "type": "scatter",
         "x": [
          "2020-03-02T00:00:00",
          "2020-03-09T00:00:00",
          "2020-03-16T00:00:00",
          "2020-03-23T00:00:00",
          "2020-03-30T00:00:00",
          "2020-04-06T00:00:00",
          "2020-04-13T00:00:00",
          "2020-04-20T00:00:00",
          "2020-04-27T00:00:00",
          "2020-05-04T00:00:00",
          "2020-05-11T00:00:00",
          "2020-05-18T00:00:00",
          "2020-05-25T00:00:00",
          "2020-06-01T00:00:00",
          "2020-06-08T00:00:00",
          "2020-06-15T00:00:00",
          "2020-06-22T00:00:00",
          "2020-06-29T00:00:00",
          "2020-07-06T00:00:00",
          "2020-07-13T00:00:00",
          "2020-07-20T00:00:00",
          "2020-07-27T00:00:00",
          "2020-08-03T00:00:00",
          "2020-08-10T00:00:00",
          "2020-08-17T00:00:00",
          "2020-08-24T00:00:00",
          "2020-08-31T00:00:00",
          "2020-09-07T00:00:00",
          "2020-09-14T00:00:00"
         ],
         "xaxis": "x",
         "y": [
          0,
          0,
          0,
          1,
          3,
          26,
          99,
          184,
          208,
          185,
          186,
          172,
          147,
          163,
          136,
          108,
          143,
          184,
          270,
          533,
          694,
          1074,
          1236,
          1204,
          998,
          998,
          855,
          712,
          569
         ],
         "yaxis": "y"
        },
        {
         "hoverlabel": {
          "namelength": 0
         },
         "legendgroup": "Scenario=C",
         "line": {
          "color": "blue",
          "dash": "solid"
         },
         "mode": "lines",
         "name": "Scenario=C",
         "showlegend": true,
         "type": "scatter",
         "x": [
          "2020-03-02T00:00:00",
          "2020-03-09T00:00:00",
          "2020-03-16T00:00:00",
          "2020-03-23T00:00:00",
          "2020-03-30T00:00:00",
          "2020-04-06T00:00:00",
          "2020-04-13T00:00:00",
          "2020-04-20T00:00:00",
          "2020-04-27T00:00:00",
          "2020-05-04T00:00:00",
          "2020-05-11T00:00:00",
          "2020-05-18T00:00:00",
          "2020-05-25T00:00:00",
          "2020-06-01T00:00:00",
          "2020-06-08T00:00:00",
          "2020-06-15T00:00:00",
          "2020-06-22T00:00:00",
          "2020-06-29T00:00:00",
          "2020-07-06T00:00:00",
          "2020-07-13T00:00:00",
          "2020-07-20T00:00:00",
          "2020-07-27T00:00:00",
          "2020-08-03T00:00:00",
          "2020-08-10T00:00:00",
          "2020-08-17T00:00:00",
          "2020-08-24T00:00:00",
          "2020-08-31T00:00:00",
          "2020-09-07T00:00:00",
          "2020-09-14T00:00:00"
         ],
         "xaxis": "x",
         "y": [
          0,
          0,
          0,
          1,
          3,
          26,
          99,
          184,
          208,
          185,
          186,
          172,
          147,
          163,
          136,
          108,
          143,
          184,
          270,
          533,
          694,
          1074,
          1236,
          1204,
          998,
          998,
          712,
          425,
          139
         ],
         "yaxis": "y"
        },
        {
         "hoverlabel": {
          "namelength": 0
         },
         "legendgroup": "Scenario=A",
         "line": {
          "color": "red",
          "dash": "solid"
         },
         "mode": "lines",
         "name": "Scenario=A",
         "showlegend": true,
         "type": "scatter",
         "x": [
          "2020-03-02T00:00:00",
          "2020-03-09T00:00:00",
          "2020-03-16T00:00:00",
          "2020-03-23T00:00:00",
          "2020-03-30T00:00:00",
          "2020-04-06T00:00:00",
          "2020-04-13T00:00:00",
          "2020-04-20T00:00:00",
          "2020-04-27T00:00:00",
          "2020-05-04T00:00:00",
          "2020-05-11T00:00:00",
          "2020-05-18T00:00:00",
          "2020-05-25T00:00:00",
          "2020-06-01T00:00:00",
          "2020-06-08T00:00:00",
          "2020-06-15T00:00:00",
          "2020-06-22T00:00:00",
          "2020-06-29T00:00:00",
          "2020-07-06T00:00:00",
          "2020-07-13T00:00:00",
          "2020-07-20T00:00:00",
          "2020-07-27T00:00:00",
          "2020-08-03T00:00:00",
          "2020-08-10T00:00:00",
          "2020-08-17T00:00:00",
          "2020-08-24T00:00:00",
          "2020-08-31T00:00:00",
          "2020-09-07T00:00:00",
          "2020-09-14T00:00:00"
         ],
         "xaxis": "x",
         "y": [
          0,
          0,
          0,
          1,
          3,
          26,
          99,
          184,
          208,
          185,
          186,
          172,
          147,
          163,
          136,
          108,
          143,
          184,
          270,
          533,
          694,
          1074,
          1236,
          1204,
          998,
          998,
          686,
          569,
          472
         ],
         "yaxis": "y"
        },
        {
         "hoverlabel": {
          "namelength": 0
         },
         "legendgroup": "Scenario=B",
         "line": {
          "color": "green",
          "dash": "solid"
         },
         "mode": "lines",
         "name": "Scenario=B",
         "showlegend": true,
         "type": "scatter",
         "x": [
          "2020-03-02T00:00:00",
          "2020-03-09T00:00:00",
          "2020-03-16T00:00:00",
          "2020-03-23T00:00:00",
          "2020-03-30T00:00:00",
          "2020-04-06T00:00:00",
          "2020-04-13T00:00:00",
          "2020-04-20T00:00:00",
          "2020-04-27T00:00:00",
          "2020-05-04T00:00:00",
          "2020-05-11T00:00:00",
          "2020-05-18T00:00:00",
          "2020-05-25T00:00:00",
          "2020-06-01T00:00:00",
          "2020-06-08T00:00:00",
          "2020-06-15T00:00:00",
          "2020-06-22T00:00:00",
          "2020-06-29T00:00:00",
          "2020-07-06T00:00:00",
          "2020-07-13T00:00:00",
          "2020-07-20T00:00:00",
          "2020-07-27T00:00:00",
          "2020-08-03T00:00:00",
          "2020-08-10T00:00:00",
          "2020-08-17T00:00:00",
          "2020-08-24T00:00:00",
          "2020-08-31T00:00:00",
          "2020-09-07T00:00:00",
          "2020-09-14T00:00:00"
         ],
         "xaxis": "x",
         "y": [
          0,
          0,
          0,
          1,
          3,
          26,
          99,
          184,
          208,
          185,
          186,
          172,
          147,
          163,
          136,
          108,
          143,
          184,
          270,
          533,
          694,
          1074,
          1236,
          1204,
          998,
          998,
          855,
          712,
          569
         ],
         "yaxis": "y"
        },
        {
         "hoverlabel": {
          "namelength": 0
         },
         "legendgroup": "Scenario=C",
         "line": {
          "color": "blue",
          "dash": "solid"
         },
         "mode": "lines",
         "name": "Scenario=C",
         "showlegend": true,
         "type": "scatter",
         "x": [
          "2020-03-02T00:00:00",
          "2020-03-09T00:00:00",
          "2020-03-16T00:00:00",
          "2020-03-23T00:00:00",
          "2020-03-30T00:00:00",
          "2020-04-06T00:00:00",
          "2020-04-13T00:00:00",
          "2020-04-20T00:00:00",
          "2020-04-27T00:00:00",
          "2020-05-04T00:00:00",
          "2020-05-11T00:00:00",
          "2020-05-18T00:00:00",
          "2020-05-25T00:00:00",
          "2020-06-01T00:00:00",
          "2020-06-08T00:00:00",
          "2020-06-15T00:00:00",
          "2020-06-22T00:00:00",
          "2020-06-29T00:00:00",
          "2020-07-06T00:00:00",
          "2020-07-13T00:00:00",
          "2020-07-20T00:00:00",
          "2020-07-27T00:00:00",
          "2020-08-03T00:00:00",
          "2020-08-10T00:00:00",
          "2020-08-17T00:00:00",
          "2020-08-24T00:00:00",
          "2020-08-31T00:00:00",
          "2020-09-07T00:00:00",
          "2020-09-14T00:00:00"
         ],
         "xaxis": "x",
         "y": [
          0,
          0,
          0,
          1,
          3,
          26,
          99,
          184,
          208,
          185,
          186,
          172,
          147,
          163,
          136,
          108,
          143,
          184,
          270,
          533,
          694,
          1074,
          1236,
          1204,
          998,
          998,
          712,
          425,
          139
         ],
         "yaxis": "y"
        }
       ],
       "layout": {
        "barmode": "stack",
        "height": 600,
        "hovermode": "x",
        "legend": {
         "tracegroupgap": 0
        },
        "template": {
         "data": {
          "bar": [
           {
            "error_x": {
             "color": "#2a3f5f"
            },
            "error_y": {
             "color": "#2a3f5f"
            },
            "marker": {
             "line": {
              "color": "#E5ECF6",
              "width": 0.5
             }
            },
            "type": "bar"
           }
          ],
          "barpolar": [
           {
            "marker": {
             "line": {
              "color": "#E5ECF6",
              "width": 0.5
             }
            },
            "type": "barpolar"
           }
          ],
          "carpet": [
           {
            "aaxis": {
             "endlinecolor": "#2a3f5f",
             "gridcolor": "white",
             "linecolor": "white",
             "minorgridcolor": "white",
             "startlinecolor": "#2a3f5f"
            },
            "baxis": {
             "endlinecolor": "#2a3f5f",
             "gridcolor": "white",
             "linecolor": "white",
             "minorgridcolor": "white",
             "startlinecolor": "#2a3f5f"
            },
            "type": "carpet"
           }
          ],
          "choropleth": [
           {
            "colorbar": {
             "outlinewidth": 0,
             "ticks": ""
            },
            "type": "choropleth"
           }
          ],
          "contour": [
           {
            "colorbar": {
             "outlinewidth": 0,
             "ticks": ""
            },
            "colorscale": [
             [
              0,
              "#0d0887"
             ],
             [
              0.1111111111111111,
              "#46039f"
             ],
             [
              0.2222222222222222,
              "#7201a8"
             ],
             [
              0.3333333333333333,
              "#9c179e"
             ],
             [
              0.4444444444444444,
              "#bd3786"
             ],
             [
              0.5555555555555556,
              "#d8576b"
             ],
             [
              0.6666666666666666,
              "#ed7953"
             ],
             [
              0.7777777777777778,
              "#fb9f3a"
             ],
             [
              0.8888888888888888,
              "#fdca26"
             ],
             [
              1,
              "#f0f921"
             ]
            ],
            "type": "contour"
           }
          ],
          "contourcarpet": [
           {
            "colorbar": {
             "outlinewidth": 0,
             "ticks": ""
            },
            "type": "contourcarpet"
           }
          ],
          "heatmap": [
           {
            "colorbar": {
             "outlinewidth": 0,
             "ticks": ""
            },
            "colorscale": [
             [
              0,
              "#0d0887"
             ],
             [
              0.1111111111111111,
              "#46039f"
             ],
             [
              0.2222222222222222,
              "#7201a8"
             ],
             [
              0.3333333333333333,
              "#9c179e"
             ],
             [
              0.4444444444444444,
              "#bd3786"
             ],
             [
              0.5555555555555556,
              "#d8576b"
             ],
             [
              0.6666666666666666,
              "#ed7953"
             ],
             [
              0.7777777777777778,
              "#fb9f3a"
             ],
             [
              0.8888888888888888,
              "#fdca26"
             ],
             [
              1,
              "#f0f921"
             ]
            ],
            "type": "heatmap"
           }
          ],
          "heatmapgl": [
           {
            "colorbar": {
             "outlinewidth": 0,
             "ticks": ""
            },
            "colorscale": [
             [
              0,
              "#0d0887"
             ],
             [
              0.1111111111111111,
              "#46039f"
             ],
             [
              0.2222222222222222,
              "#7201a8"
             ],
             [
              0.3333333333333333,
              "#9c179e"
             ],
             [
              0.4444444444444444,
              "#bd3786"
             ],
             [
              0.5555555555555556,
              "#d8576b"
             ],
             [
              0.6666666666666666,
              "#ed7953"
             ],
             [
              0.7777777777777778,
              "#fb9f3a"
             ],
             [
              0.8888888888888888,
              "#fdca26"
             ],
             [
              1,
              "#f0f921"
             ]
            ],
            "type": "heatmapgl"
           }
          ],
          "histogram": [
           {
            "marker": {
             "colorbar": {
              "outlinewidth": 0,
              "ticks": ""
             }
            },
            "type": "histogram"
           }
          ],
          "histogram2d": [
           {
            "colorbar": {
             "outlinewidth": 0,
             "ticks": ""
            },
            "colorscale": [
             [
              0,
              "#0d0887"
             ],
             [
              0.1111111111111111,
              "#46039f"
             ],
             [
              0.2222222222222222,
              "#7201a8"
             ],
             [
              0.3333333333333333,
              "#9c179e"
             ],
             [
              0.4444444444444444,
              "#bd3786"
             ],
             [
              0.5555555555555556,
              "#d8576b"
             ],
             [
              0.6666666666666666,
              "#ed7953"
             ],
             [
              0.7777777777777778,
              "#fb9f3a"
             ],
             [
              0.8888888888888888,
              "#fdca26"
             ],
             [
              1,
              "#f0f921"
             ]
            ],
            "type": "histogram2d"
           }
          ],
          "histogram2dcontour": [
           {
            "colorbar": {
             "outlinewidth": 0,
             "ticks": ""
            },
            "colorscale": [
             [
              0,
              "#0d0887"
             ],
             [
              0.1111111111111111,
              "#46039f"
             ],
             [
              0.2222222222222222,
              "#7201a8"
             ],
             [
              0.3333333333333333,
              "#9c179e"
             ],
             [
              0.4444444444444444,
              "#bd3786"
             ],
             [
              0.5555555555555556,
              "#d8576b"
             ],
             [
              0.6666666666666666,
              "#ed7953"
             ],
             [
              0.7777777777777778,
              "#fb9f3a"
             ],
             [
              0.8888888888888888,
              "#fdca26"
             ],
             [
              1,
              "#f0f921"
             ]
            ],
            "type": "histogram2dcontour"
           }
          ],
          "mesh3d": [
           {
            "colorbar": {
             "outlinewidth": 0,
             "ticks": ""
            },
            "type": "mesh3d"
           }
          ],
          "parcoords": [
           {
            "line": {
             "colorbar": {
              "outlinewidth": 0,
              "ticks": ""
             }
            },
            "type": "parcoords"
           }
          ],
          "scatter": [
           {
            "marker": {
             "colorbar": {
              "outlinewidth": 0,
              "ticks": ""
             }
            },
            "type": "scatter"
           }
          ],
          "scatter3d": [
           {
            "line": {
             "colorbar": {
              "outlinewidth": 0,
              "ticks": ""
             }
            },
            "marker": {
             "colorbar": {
              "outlinewidth": 0,
              "ticks": ""
             }
            },
            "type": "scatter3d"
           }
          ],
          "scattercarpet": [
           {
            "marker": {
             "colorbar": {
              "outlinewidth": 0,
              "ticks": ""
             }
            },
            "type": "scattercarpet"
           }
          ],
          "scattergeo": [
           {
            "marker": {
             "colorbar": {
              "outlinewidth": 0,
              "ticks": ""
             }
            },
            "type": "scattergeo"
           }
          ],
          "scattergl": [
           {
            "marker": {
             "colorbar": {
              "outlinewidth": 0,
              "ticks": ""
             }
            },
            "type": "scattergl"
           }
          ],
          "scattermapbox": [
           {
            "marker": {
             "colorbar": {
              "outlinewidth": 0,
              "ticks": ""
             }
            },
            "type": "scattermapbox"
           }
          ],
          "scatterpolar": [
           {
            "marker": {
             "colorbar": {
              "outlinewidth": 0,
              "ticks": ""
             }
            },
            "type": "scatterpolar"
           }
          ],
          "scatterpolargl": [
           {
            "marker": {
             "colorbar": {
              "outlinewidth": 0,
              "ticks": ""
             }
            },
            "type": "scatterpolargl"
           }
          ],
          "scatterternary": [
           {
            "marker": {
             "colorbar": {
              "outlinewidth": 0,
              "ticks": ""
             }
            },
            "type": "scatterternary"
           }
          ],
          "surface": [
           {
            "colorbar": {
             "outlinewidth": 0,
             "ticks": ""
            },
            "colorscale": [
             [
              0,
              "#0d0887"
             ],
             [
              0.1111111111111111,
              "#46039f"
             ],
             [
              0.2222222222222222,
              "#7201a8"
             ],
             [
              0.3333333333333333,
              "#9c179e"
             ],
             [
              0.4444444444444444,
              "#bd3786"
             ],
             [
              0.5555555555555556,
              "#d8576b"
             ],
             [
              0.6666666666666666,
              "#ed7953"
             ],
             [
              0.7777777777777778,
              "#fb9f3a"
             ],
             [
              0.8888888888888888,
              "#fdca26"
             ],
             [
              1,
              "#f0f921"
             ]
            ],
            "type": "surface"
           }
          ],
          "table": [
           {
            "cells": {
             "fill": {
              "color": "#EBF0F8"
             },
             "line": {
              "color": "white"
             }
            },
            "header": {
             "fill": {
              "color": "#C8D4E3"
             },
             "line": {
              "color": "white"
             }
            },
            "type": "table"
           }
          ]
         },
         "layout": {
          "annotationdefaults": {
           "arrowcolor": "#2a3f5f",
           "arrowhead": 0,
           "arrowwidth": 1
          },
          "colorscale": {
           "diverging": [
            [
             0,
             "#8e0152"
            ],
            [
             0.1,
             "#c51b7d"
            ],
            [
             0.2,
             "#de77ae"
            ],
            [
             0.3,
             "#f1b6da"
            ],
            [
             0.4,
             "#fde0ef"
            ],
            [
             0.5,
             "#f7f7f7"
            ],
            [
             0.6,
             "#e6f5d0"
            ],
            [
             0.7,
             "#b8e186"
            ],
            [
             0.8,
             "#7fbc41"
            ],
            [
             0.9,
             "#4d9221"
            ],
            [
             1,
             "#276419"
            ]
           ],
           "sequential": [
            [
             0,
             "#0d0887"
            ],
            [
             0.1111111111111111,
             "#46039f"
            ],
            [
             0.2222222222222222,
             "#7201a8"
            ],
            [
             0.3333333333333333,
             "#9c179e"
            ],
            [
             0.4444444444444444,
             "#bd3786"
            ],
            [
             0.5555555555555556,
             "#d8576b"
            ],
            [
             0.6666666666666666,
             "#ed7953"
            ],
            [
             0.7777777777777778,
             "#fb9f3a"
            ],
            [
             0.8888888888888888,
             "#fdca26"
            ],
            [
             1,
             "#f0f921"
            ]
           ],
           "sequentialminus": [
            [
             0,
             "#0d0887"
            ],
            [
             0.1111111111111111,
             "#46039f"
            ],
            [
             0.2222222222222222,
             "#7201a8"
            ],
            [
             0.3333333333333333,
             "#9c179e"
            ],
            [
             0.4444444444444444,
             "#bd3786"
            ],
            [
             0.5555555555555556,
             "#d8576b"
            ],
            [
             0.6666666666666666,
             "#ed7953"
            ],
            [
             0.7777777777777778,
             "#fb9f3a"
            ],
            [
             0.8888888888888888,
             "#fdca26"
            ],
            [
             1,
             "#f0f921"
            ]
           ]
          },
          "colorway": [
           "#636efa",
           "#EF553B",
           "#00cc96",
           "#ab63fa",
           "#FFA15A",
           "#19d3f3",
           "#FF6692",
           "#B6E880",
           "#FF97FF",
           "#FECB52"
          ],
          "font": {
           "color": "#2a3f5f"
          },
          "geo": {
           "bgcolor": "white",
           "lakecolor": "white",
           "landcolor": "#E5ECF6",
           "showlakes": true,
           "showland": true,
           "subunitcolor": "white"
          },
          "hoverlabel": {
           "align": "left"
          },
          "hovermode": "closest",
          "mapbox": {
           "style": "light"
          },
          "paper_bgcolor": "white",
          "plot_bgcolor": "#E5ECF6",
          "polar": {
           "angularaxis": {
            "gridcolor": "white",
            "linecolor": "white",
            "ticks": ""
           },
           "bgcolor": "#E5ECF6",
           "radialaxis": {
            "gridcolor": "white",
            "linecolor": "white",
            "ticks": ""
           }
          },
          "scene": {
           "xaxis": {
            "backgroundcolor": "#E5ECF6",
            "gridcolor": "white",
            "gridwidth": 2,
            "linecolor": "white",
            "showbackground": true,
            "ticks": "",
            "zerolinecolor": "white"
           },
           "yaxis": {
            "backgroundcolor": "#E5ECF6",
            "gridcolor": "white",
            "gridwidth": 2,
            "linecolor": "white",
            "showbackground": true,
            "ticks": "",
            "zerolinecolor": "white"
           },
           "zaxis": {
            "backgroundcolor": "#E5ECF6",
            "gridcolor": "white",
            "gridwidth": 2,
            "linecolor": "white",
            "showbackground": true,
            "ticks": "",
            "zerolinecolor": "white"
           }
          },
          "shapedefaults": {
           "line": {
            "color": "#2a3f5f"
           }
          },
          "ternary": {
           "aaxis": {
            "gridcolor": "white",
            "linecolor": "white",
            "ticks": ""
           },
           "baxis": {
            "gridcolor": "white",
            "linecolor": "white",
            "ticks": ""
           },
           "bgcolor": "#E5ECF6",
           "caxis": {
            "gridcolor": "white",
            "linecolor": "white",
            "ticks": ""
           }
          },
          "title": {
           "x": 0.05
          },
          "xaxis": {
           "automargin": true,
           "gridcolor": "white",
           "linecolor": "white",
           "ticks": "",
           "zerolinecolor": "white",
           "zerolinewidth": 2
          },
          "yaxis": {
           "automargin": true,
           "gridcolor": "white",
           "linecolor": "white",
           "ticks": "",
           "zerolinecolor": "white",
           "zerolinewidth": 2
          }
         }
        },
        "title": {
         "text": "Actual and Forecasted Weekly Death Volumes - Florida",
         "x": 0.5,
         "xanchor": "center",
         "y": 0.9,
         "yanchor": "top"
        },
        "xaxis": {
         "anchor": "y",
         "domain": [
          0,
          0.98
         ],
         "title": {
          "text": "Date"
         }
        },
        "yaxis": {
         "anchor": "x",
         "domain": [
          0,
          1
         ],
         "range": [
          0,
          1500
         ],
         "tickformat": ",.0",
         "title": {
          "text": "Predicted Death Count"
         }
        }
       }
      },
      "text/html": [
       "<div>\n",
       "        \n",
       "        \n",
       "            <div id=\"6c840f8b-3906-4849-b914-d138e8442fc3\" class=\"plotly-graph-div\" style=\"height:600px; width:100%;\"></div>\n",
       "            <script type=\"text/javascript\">\n",
       "                require([\"plotly\"], function(Plotly) {\n",
       "                    window.PLOTLYENV=window.PLOTLYENV || {};\n",
       "                    \n",
       "                if (document.getElementById(\"6c840f8b-3906-4849-b914-d138e8442fc3\")) {\n",
       "                    Plotly.newPlot(\n",
       "                        '6c840f8b-3906-4849-b914-d138e8442fc3',\n",
       "                        [{\"alignmentgroup\": \"True\", \"hoverlabel\": {\"namelength\": 0}, \"legendgroup\": \"Age Group=(0, 25]\", \"marker\": {\"color\": \"#636efa\"}, \"name\": \"Age Group=(0, 25]\", \"offsetgroup\": \"Age Group=(0, 25]\", \"orientation\": \"v\", \"showlegend\": true, \"textposition\": \"auto\", \"type\": \"bar\", \"x\": [\"2020-03-22T00:00:00+00:00\", \"2020-03-29T00:00:00+00:00\", \"2020-04-05T00:00:00+00:00\", \"2020-04-12T00:00:00+00:00\", \"2020-04-19T00:00:00+00:00\", \"2020-04-26T00:00:00+00:00\", \"2020-05-03T00:00:00+00:00\", \"2020-05-10T00:00:00+00:00\", \"2020-05-17T00:00:00+00:00\", \"2020-05-24T00:00:00+00:00\", \"2020-05-31T00:00:00+00:00\", \"2020-06-07T00:00:00+00:00\", \"2020-06-14T00:00:00+00:00\", \"2020-06-21T00:00:00+00:00\", \"2020-06-28T00:00:00+00:00\", \"2020-07-05T00:00:00+00:00\", \"2020-07-12T00:00:00+00:00\", \"2020-07-19T00:00:00+00:00\", \"2020-07-26T00:00:00+00:00\", \"2020-08-02T00:00:00+00:00\", \"2020-08-09T00:00:00+00:00\", \"2020-08-16T00:00:00+00:00\"], \"xaxis\": \"x\", \"y\": [0.0002998500749625187, 0.005397301349325337, 0.03568215892053977, 0.11094452773613107, 0.21289355322338946, 0.21589205397301472, 0.1907046476761625, 0.21649175412293978, 0.16581709145427279, 0.15112443778110898, 0.23688155922039159, 0.2962518740629718, 0.29655172413793435, 0.5475262368815603, 0.9802098950524061, 2.0017991004495452, 4.009595202398252, 4.65007496251809, 5.340329835081699, 5.29685157421214, 4.833883058470085, 3.901649175411762], \"yaxis\": \"y\"}, {\"alignmentgroup\": \"True\", \"hoverlabel\": {\"namelength\": 0}, \"legendgroup\": \"Age Group=(25, 50]\", \"marker\": {\"color\": \"#EF553B\"}, \"name\": \"Age Group=(25, 50]\", \"offsetgroup\": \"Age Group=(25, 50]\", \"orientation\": \"v\", \"showlegend\": true, \"textposition\": \"auto\", \"type\": \"bar\", \"x\": [\"2020-03-22T00:00:00+00:00\", \"2020-03-29T00:00:00+00:00\", \"2020-04-05T00:00:00+00:00\", \"2020-04-12T00:00:00+00:00\", \"2020-04-19T00:00:00+00:00\", \"2020-04-26T00:00:00+00:00\", \"2020-05-03T00:00:00+00:00\", \"2020-05-10T00:00:00+00:00\", \"2020-05-17T00:00:00+00:00\", \"2020-05-24T00:00:00+00:00\", \"2020-05-31T00:00:00+00:00\", \"2020-06-07T00:00:00+00:00\", \"2020-06-14T00:00:00+00:00\", \"2020-06-21T00:00:00+00:00\", \"2020-06-28T00:00:00+00:00\", \"2020-07-05T00:00:00+00:00\", \"2020-07-12T00:00:00+00:00\", \"2020-07-19T00:00:00+00:00\", \"2020-07-26T00:00:00+00:00\", \"2020-08-02T00:00:00+00:00\", \"2020-08-09T00:00:00+00:00\", \"2020-08-16T00:00:00+00:00\"], \"xaxis\": \"x\", \"y\": [0.0015821646889608056, 0.05379359942466734, 0.5505933117583627, 2.550449478604813, 4.844588277598012, 4.6009349154980015, 3.955411722401882, 3.4317152103559025, 2.7213232650125647, 2.4966558791801505, 3.3668464581085153, 3.542466738583149, 3.6247393024091035, 5.365120460266216, 8.668680330816633, 16.278892484715602, 34.282344480414146, 43.620280474667844, 54.09737504497418, 53.80625674220517, 49.289176555218674, 40.17749011148654], \"yaxis\": \"y\"}, {\"alignmentgroup\": \"True\", \"hoverlabel\": {\"namelength\": 0}, \"legendgroup\": \"Age Group=(50, 60]\", \"marker\": {\"color\": \"#00cc96\"}, \"name\": \"Age Group=(50, 60]\", \"offsetgroup\": \"Age Group=(50, 60]\", \"orientation\": \"v\", \"showlegend\": true, \"textposition\": \"auto\", \"type\": \"bar\", \"x\": [\"2020-03-22T00:00:00+00:00\", \"2020-03-29T00:00:00+00:00\", \"2020-04-05T00:00:00+00:00\", \"2020-04-12T00:00:00+00:00\", \"2020-04-19T00:00:00+00:00\", \"2020-04-26T00:00:00+00:00\", \"2020-05-03T00:00:00+00:00\", \"2020-05-10T00:00:00+00:00\", \"2020-05-17T00:00:00+00:00\", \"2020-05-24T00:00:00+00:00\", \"2020-05-31T00:00:00+00:00\", \"2020-06-07T00:00:00+00:00\", \"2020-06-14T00:00:00+00:00\", \"2020-06-21T00:00:00+00:00\", \"2020-06-28T00:00:00+00:00\", \"2020-07-05T00:00:00+00:00\", \"2020-07-12T00:00:00+00:00\", \"2020-07-19T00:00:00+00:00\", \"2020-07-26T00:00:00+00:00\", \"2020-08-02T00:00:00+00:00\", \"2020-08-09T00:00:00+00:00\", \"2020-08-16T00:00:00+00:00\"], \"xaxis\": \"x\", \"y\": [0.014088475626937165, 0.11975204282896586, 1.2186531417300663, 5.001408847562727, 9.784446322908156, 9.868977176669784, 8.100873485489073, 6.8822203437589415, 5.635390250774934, 4.578754578754589, 6.184840800225514, 5.438151591997803, 5.45928430543821, 7.790927021696438, 10.629754860524432, 19.19554804170189, 39.320935474777656, 56.10735418426997, 79.57171034094489, 83.57283741899829, 78.81093265708967, 67.01183431952022], \"yaxis\": \"y\"}, {\"alignmentgroup\": \"True\", \"hoverlabel\": {\"namelength\": 0}, \"legendgroup\": \"Age Group=(60, 70]\", \"marker\": {\"color\": \"#ab63fa\"}, \"name\": \"Age Group=(60, 70]\", \"offsetgroup\": \"Age Group=(60, 70]\", \"orientation\": \"v\", \"showlegend\": true, \"textposition\": \"auto\", \"type\": \"bar\", \"x\": [\"2020-03-22T00:00:00+00:00\", \"2020-03-29T00:00:00+00:00\", \"2020-04-05T00:00:00+00:00\", \"2020-04-12T00:00:00+00:00\", \"2020-04-19T00:00:00+00:00\", \"2020-04-26T00:00:00+00:00\", \"2020-05-03T00:00:00+00:00\", \"2020-05-10T00:00:00+00:00\", \"2020-05-17T00:00:00+00:00\", \"2020-05-24T00:00:00+00:00\", \"2020-05-31T00:00:00+00:00\", \"2020-06-07T00:00:00+00:00\", \"2020-06-14T00:00:00+00:00\", \"2020-06-21T00:00:00+00:00\", \"2020-06-28T00:00:00+00:00\", \"2020-07-05T00:00:00+00:00\", \"2020-07-12T00:00:00+00:00\", \"2020-07-19T00:00:00+00:00\", \"2020-07-26T00:00:00+00:00\", \"2020-08-02T00:00:00+00:00\", \"2020-08-09T00:00:00+00:00\", \"2020-08-16T00:00:00+00:00\"], \"xaxis\": \"x\", \"y\": [0.14279815566719428, 0.9995870896703597, 4.5124217190833456, 15.365081549790046, 33.44332805725764, 32.843575803455394, 24.27568646342334, 20.277338104741716, 18.677998761269066, 13.908540361984688, 17.992567614066502, 15.993393434725691, 14.93668708278847, 20.64861330947644, 27.845640355103363, 44.153189732297704, 93.19007638840722, 132.71660587708095, 189.0933177345059, 213.22620604226884, 203.658729612564, 169.30149335902692], \"yaxis\": \"y\"}, {\"alignmentgroup\": \"True\", \"hoverlabel\": {\"namelength\": 0}, \"legendgroup\": \"Age Group=(70, 80]\", \"marker\": {\"color\": \"#FFA15A\"}, \"name\": \"Age Group=(70, 80]\", \"offsetgroup\": \"Age Group=(70, 80]\", \"orientation\": \"v\", \"showlegend\": true, \"textposition\": \"auto\", \"type\": \"bar\", \"x\": [\"2020-03-22T00:00:00+00:00\", \"2020-03-29T00:00:00+00:00\", \"2020-04-05T00:00:00+00:00\", \"2020-04-12T00:00:00+00:00\", \"2020-04-19T00:00:00+00:00\", \"2020-04-26T00:00:00+00:00\", \"2020-05-03T00:00:00+00:00\", \"2020-05-10T00:00:00+00:00\", \"2020-05-17T00:00:00+00:00\", \"2020-05-24T00:00:00+00:00\", \"2020-05-31T00:00:00+00:00\", \"2020-06-07T00:00:00+00:00\", \"2020-06-14T00:00:00+00:00\", \"2020-06-21T00:00:00+00:00\", \"2020-06-28T00:00:00+00:00\", \"2020-07-05T00:00:00+00:00\", \"2020-07-12T00:00:00+00:00\", \"2020-07-19T00:00:00+00:00\", \"2020-07-26T00:00:00+00:00\", \"2020-08-02T00:00:00+00:00\", \"2020-08-09T00:00:00+00:00\", \"2020-08-16T00:00:00+00:00\"], \"xaxis\": \"x\", \"y\": [0.3934191702432046, 1.0228898426323318, 8.655221745350497, 35.09298998569363, 60.11444921316107, 54.68526466380493, 45.557939914162716, 39.263233190271535, 37.92560801144466, 30.608011444921157, 34.30615164520723, 29.82117310443476, 25.414878397710932, 32.103004291845316, 41.93848354792529, 70.02861230329023, 132.97567954220682, 189.70672389127097, 282.3175965665211, 335.58655221746466, 314.97138769671545, 263.43347639484244], \"yaxis\": \"y\"}, {\"alignmentgroup\": \"True\", \"hoverlabel\": {\"namelength\": 0}, \"legendgroup\": \"Age Group=(80, 100]\", \"marker\": {\"color\": \"#19d3f3\"}, \"name\": \"Age Group=(80, 100]\", \"offsetgroup\": \"Age Group=(80, 100]\", \"orientation\": \"v\", \"showlegend\": true, \"textposition\": \"auto\", \"type\": \"bar\", \"x\": [\"2020-03-29T00:00:00+00:00\", \"2020-04-05T00:00:00+00:00\", \"2020-04-12T00:00:00+00:00\", \"2020-04-19T00:00:00+00:00\", \"2020-04-26T00:00:00+00:00\", \"2020-05-03T00:00:00+00:00\", \"2020-05-10T00:00:00+00:00\", \"2020-05-17T00:00:00+00:00\", \"2020-05-24T00:00:00+00:00\", \"2020-05-31T00:00:00+00:00\", \"2020-06-07T00:00:00+00:00\", \"2020-06-14T00:00:00+00:00\", \"2020-06-21T00:00:00+00:00\", \"2020-06-28T00:00:00+00:00\", \"2020-07-05T00:00:00+00:00\", \"2020-07-12T00:00:00+00:00\", \"2020-07-19T00:00:00+00:00\", \"2020-07-26T00:00:00+00:00\", \"2020-08-02T00:00:00+00:00\", \"2020-08-09T00:00:00+00:00\", \"2020-08-16T00:00:00+00:00\"], \"xaxis\": \"x\", \"y\": [1.1566700100300902, 11.5667001003009, 41.6401203610834, 75.76188565697127, 106.02808425275883, 102.94363089267857, 116.63089267803473, 107.57031093279896, 95.81083249749297, 101.59418254764346, 81.15967903711173, 59.18294884653988, 77.3041123370114, 94.07582748244782, 118.94423269809492, 229.40621865596924, 267.57632898696244, 464.01745235707403, 545.369909729181, 553.2738214643844, 455.1496489468433], \"yaxis\": \"y\"}, {\"customdata\": [[-10000, \"2020-08-03\"], [10000, \"2020-08-03\"]], \"hoverlabel\": {\"namelength\": 0}, \"legendgroup\": \"Forecasted After Date=2020-08-03\", \"line\": {\"color\": \"black\", \"dash\": \"solid\"}, \"mode\": \"lines\", \"name\": \"Forecasted After Date=2020-08-03\", \"showlegend\": true, \"type\": \"scatter\", \"x\": [\"2020-08-03\", \"2020-08-03\"], \"xaxis\": \"x\", \"y\": [-10000, 10000], \"yaxis\": \"y\"}, {\"hoverlabel\": {\"namelength\": 0}, \"legendgroup\": \"Scenario=A\", \"line\": {\"color\": \"red\", \"dash\": \"solid\"}, \"mode\": \"lines\", \"name\": \"Scenario=A\", \"showlegend\": true, \"type\": \"scatter\", \"x\": [\"2020-03-02T00:00:00\", \"2020-03-09T00:00:00\", \"2020-03-16T00:00:00\", \"2020-03-23T00:00:00\", \"2020-03-30T00:00:00\", \"2020-04-06T00:00:00\", \"2020-04-13T00:00:00\", \"2020-04-20T00:00:00\", \"2020-04-27T00:00:00\", \"2020-05-04T00:00:00\", \"2020-05-11T00:00:00\", \"2020-05-18T00:00:00\", \"2020-05-25T00:00:00\", \"2020-06-01T00:00:00\", \"2020-06-08T00:00:00\", \"2020-06-15T00:00:00\", \"2020-06-22T00:00:00\", \"2020-06-29T00:00:00\", \"2020-07-06T00:00:00\", \"2020-07-13T00:00:00\", \"2020-07-20T00:00:00\", \"2020-07-27T00:00:00\", \"2020-08-03T00:00:00\", \"2020-08-10T00:00:00\", \"2020-08-17T00:00:00\", \"2020-08-24T00:00:00\", \"2020-08-31T00:00:00\", \"2020-09-07T00:00:00\", \"2020-09-14T00:00:00\"], \"xaxis\": \"x\", \"y\": [0, 0, 0, 1, 3, 26, 99, 184, 208, 185, 186, 172, 147, 163, 136, 108, 143, 184, 270, 533, 694, 1074, 1236, 1204, 998, 828, 686, 569, 472], \"yaxis\": \"y\"}, {\"hoverlabel\": {\"namelength\": 0}, \"legendgroup\": \"Scenario=B\", \"line\": {\"color\": \"green\", \"dash\": \"solid\"}, \"mode\": \"lines\", \"name\": \"Scenario=B\", \"showlegend\": true, \"type\": \"scatter\", \"x\": [\"2020-03-02T00:00:00\", \"2020-03-09T00:00:00\", \"2020-03-16T00:00:00\", \"2020-03-23T00:00:00\", \"2020-03-30T00:00:00\", \"2020-04-06T00:00:00\", \"2020-04-13T00:00:00\", \"2020-04-20T00:00:00\", \"2020-04-27T00:00:00\", \"2020-05-04T00:00:00\", \"2020-05-11T00:00:00\", \"2020-05-18T00:00:00\", \"2020-05-25T00:00:00\", \"2020-06-01T00:00:00\", \"2020-06-08T00:00:00\", \"2020-06-15T00:00:00\", \"2020-06-22T00:00:00\", \"2020-06-29T00:00:00\", \"2020-07-06T00:00:00\", \"2020-07-13T00:00:00\", \"2020-07-20T00:00:00\", \"2020-07-27T00:00:00\", \"2020-08-03T00:00:00\", \"2020-08-10T00:00:00\", \"2020-08-17T00:00:00\", \"2020-08-24T00:00:00\", \"2020-08-31T00:00:00\", \"2020-09-07T00:00:00\", \"2020-09-14T00:00:00\"], \"xaxis\": \"x\", \"y\": [0, 0, 0, 1, 3, 26, 99, 184, 208, 185, 186, 172, 147, 163, 136, 108, 143, 184, 270, 533, 694, 1074, 1236, 1204, 998, 998, 855, 712, 569], \"yaxis\": \"y\"}, {\"hoverlabel\": {\"namelength\": 0}, \"legendgroup\": \"Scenario=C\", \"line\": {\"color\": \"blue\", \"dash\": \"solid\"}, \"mode\": \"lines\", \"name\": \"Scenario=C\", \"showlegend\": true, \"type\": \"scatter\", \"x\": [\"2020-03-02T00:00:00\", \"2020-03-09T00:00:00\", \"2020-03-16T00:00:00\", \"2020-03-23T00:00:00\", \"2020-03-30T00:00:00\", \"2020-04-06T00:00:00\", \"2020-04-13T00:00:00\", \"2020-04-20T00:00:00\", \"2020-04-27T00:00:00\", \"2020-05-04T00:00:00\", \"2020-05-11T00:00:00\", \"2020-05-18T00:00:00\", \"2020-05-25T00:00:00\", \"2020-06-01T00:00:00\", \"2020-06-08T00:00:00\", \"2020-06-15T00:00:00\", \"2020-06-22T00:00:00\", \"2020-06-29T00:00:00\", \"2020-07-06T00:00:00\", \"2020-07-13T00:00:00\", \"2020-07-20T00:00:00\", \"2020-07-27T00:00:00\", \"2020-08-03T00:00:00\", \"2020-08-10T00:00:00\", \"2020-08-17T00:00:00\", \"2020-08-24T00:00:00\", \"2020-08-31T00:00:00\", \"2020-09-07T00:00:00\", \"2020-09-14T00:00:00\"], \"xaxis\": \"x\", \"y\": [0, 0, 0, 1, 3, 26, 99, 184, 208, 185, 186, 172, 147, 163, 136, 108, 143, 184, 270, 533, 694, 1074, 1236, 1204, 998, 998, 712, 425, 139], \"yaxis\": \"y\"}, {\"hoverlabel\": {\"namelength\": 0}, \"legendgroup\": \"Scenario=A\", \"line\": {\"color\": \"red\", \"dash\": \"solid\"}, \"mode\": \"lines\", \"name\": \"Scenario=A\", \"showlegend\": true, \"type\": \"scatter\", \"x\": [\"2020-03-02T00:00:00\", \"2020-03-09T00:00:00\", \"2020-03-16T00:00:00\", \"2020-03-23T00:00:00\", \"2020-03-30T00:00:00\", \"2020-04-06T00:00:00\", \"2020-04-13T00:00:00\", \"2020-04-20T00:00:00\", \"2020-04-27T00:00:00\", \"2020-05-04T00:00:00\", \"2020-05-11T00:00:00\", \"2020-05-18T00:00:00\", \"2020-05-25T00:00:00\", \"2020-06-01T00:00:00\", \"2020-06-08T00:00:00\", \"2020-06-15T00:00:00\", \"2020-06-22T00:00:00\", \"2020-06-29T00:00:00\", \"2020-07-06T00:00:00\", \"2020-07-13T00:00:00\", \"2020-07-20T00:00:00\", \"2020-07-27T00:00:00\", \"2020-08-03T00:00:00\", \"2020-08-10T00:00:00\", \"2020-08-17T00:00:00\", \"2020-08-24T00:00:00\", \"2020-08-31T00:00:00\", \"2020-09-07T00:00:00\", \"2020-09-14T00:00:00\"], \"xaxis\": \"x\", \"y\": [0, 0, 0, 1, 3, 26, 99, 184, 208, 185, 186, 172, 147, 163, 136, 108, 143, 184, 270, 533, 694, 1074, 1236, 1204, 998, 998, 686, 569, 472], \"yaxis\": \"y\"}, {\"hoverlabel\": {\"namelength\": 0}, \"legendgroup\": \"Scenario=B\", \"line\": {\"color\": \"green\", \"dash\": \"solid\"}, \"mode\": \"lines\", \"name\": \"Scenario=B\", \"showlegend\": true, \"type\": \"scatter\", \"x\": [\"2020-03-02T00:00:00\", \"2020-03-09T00:00:00\", \"2020-03-16T00:00:00\", \"2020-03-23T00:00:00\", \"2020-03-30T00:00:00\", \"2020-04-06T00:00:00\", \"2020-04-13T00:00:00\", \"2020-04-20T00:00:00\", \"2020-04-27T00:00:00\", \"2020-05-04T00:00:00\", \"2020-05-11T00:00:00\", \"2020-05-18T00:00:00\", \"2020-05-25T00:00:00\", \"2020-06-01T00:00:00\", \"2020-06-08T00:00:00\", \"2020-06-15T00:00:00\", \"2020-06-22T00:00:00\", \"2020-06-29T00:00:00\", \"2020-07-06T00:00:00\", \"2020-07-13T00:00:00\", \"2020-07-20T00:00:00\", \"2020-07-27T00:00:00\", \"2020-08-03T00:00:00\", \"2020-08-10T00:00:00\", \"2020-08-17T00:00:00\", \"2020-08-24T00:00:00\", \"2020-08-31T00:00:00\", \"2020-09-07T00:00:00\", \"2020-09-14T00:00:00\"], \"xaxis\": \"x\", \"y\": [0, 0, 0, 1, 3, 26, 99, 184, 208, 185, 186, 172, 147, 163, 136, 108, 143, 184, 270, 533, 694, 1074, 1236, 1204, 998, 998, 855, 712, 569], \"yaxis\": \"y\"}, {\"hoverlabel\": {\"namelength\": 0}, \"legendgroup\": \"Scenario=C\", \"line\": {\"color\": \"blue\", \"dash\": \"solid\"}, \"mode\": \"lines\", \"name\": \"Scenario=C\", \"showlegend\": true, \"type\": \"scatter\", \"x\": [\"2020-03-02T00:00:00\", \"2020-03-09T00:00:00\", \"2020-03-16T00:00:00\", \"2020-03-23T00:00:00\", \"2020-03-30T00:00:00\", \"2020-04-06T00:00:00\", \"2020-04-13T00:00:00\", \"2020-04-20T00:00:00\", \"2020-04-27T00:00:00\", \"2020-05-04T00:00:00\", \"2020-05-11T00:00:00\", \"2020-05-18T00:00:00\", \"2020-05-25T00:00:00\", \"2020-06-01T00:00:00\", \"2020-06-08T00:00:00\", \"2020-06-15T00:00:00\", \"2020-06-22T00:00:00\", \"2020-06-29T00:00:00\", \"2020-07-06T00:00:00\", \"2020-07-13T00:00:00\", \"2020-07-20T00:00:00\", \"2020-07-27T00:00:00\", \"2020-08-03T00:00:00\", \"2020-08-10T00:00:00\", \"2020-08-17T00:00:00\", \"2020-08-24T00:00:00\", \"2020-08-31T00:00:00\", \"2020-09-07T00:00:00\", \"2020-09-14T00:00:00\"], \"xaxis\": \"x\", \"y\": [0, 0, 0, 1, 3, 26, 99, 184, 208, 185, 186, 172, 147, 163, 136, 108, 143, 184, 270, 533, 694, 1074, 1236, 1204, 998, 998, 712, 425, 139], \"yaxis\": \"y\"}],\n",
       "                        {\"barmode\": \"stack\", \"height\": 600, \"hovermode\": \"x\", \"legend\": {\"tracegroupgap\": 0}, \"template\": {\"data\": {\"bar\": [{\"error_x\": {\"color\": \"#2a3f5f\"}, \"error_y\": {\"color\": \"#2a3f5f\"}, \"marker\": {\"line\": {\"color\": \"#E5ECF6\", \"width\": 0.5}}, \"type\": \"bar\"}], \"barpolar\": [{\"marker\": {\"line\": {\"color\": \"#E5ECF6\", \"width\": 0.5}}, \"type\": \"barpolar\"}], \"carpet\": [{\"aaxis\": {\"endlinecolor\": \"#2a3f5f\", \"gridcolor\": \"white\", \"linecolor\": \"white\", \"minorgridcolor\": \"white\", \"startlinecolor\": \"#2a3f5f\"}, \"baxis\": {\"endlinecolor\": \"#2a3f5f\", \"gridcolor\": \"white\", \"linecolor\": \"white\", \"minorgridcolor\": \"white\", \"startlinecolor\": \"#2a3f5f\"}, \"type\": \"carpet\"}], \"choropleth\": [{\"colorbar\": {\"outlinewidth\": 0, \"ticks\": \"\"}, \"type\": \"choropleth\"}], \"contour\": [{\"colorbar\": {\"outlinewidth\": 0, \"ticks\": \"\"}, \"colorscale\": [[0.0, \"#0d0887\"], [0.1111111111111111, \"#46039f\"], [0.2222222222222222, \"#7201a8\"], [0.3333333333333333, \"#9c179e\"], [0.4444444444444444, \"#bd3786\"], [0.5555555555555556, \"#d8576b\"], [0.6666666666666666, \"#ed7953\"], [0.7777777777777778, \"#fb9f3a\"], [0.8888888888888888, \"#fdca26\"], [1.0, \"#f0f921\"]], \"type\": \"contour\"}], \"contourcarpet\": [{\"colorbar\": {\"outlinewidth\": 0, \"ticks\": \"\"}, \"type\": \"contourcarpet\"}], \"heatmap\": [{\"colorbar\": {\"outlinewidth\": 0, \"ticks\": \"\"}, \"colorscale\": [[0.0, \"#0d0887\"], [0.1111111111111111, \"#46039f\"], [0.2222222222222222, \"#7201a8\"], [0.3333333333333333, \"#9c179e\"], [0.4444444444444444, \"#bd3786\"], [0.5555555555555556, \"#d8576b\"], [0.6666666666666666, \"#ed7953\"], [0.7777777777777778, \"#fb9f3a\"], [0.8888888888888888, \"#fdca26\"], [1.0, \"#f0f921\"]], \"type\": \"heatmap\"}], \"heatmapgl\": [{\"colorbar\": {\"outlinewidth\": 0, \"ticks\": \"\"}, \"colorscale\": [[0.0, \"#0d0887\"], [0.1111111111111111, \"#46039f\"], [0.2222222222222222, \"#7201a8\"], [0.3333333333333333, \"#9c179e\"], [0.4444444444444444, \"#bd3786\"], [0.5555555555555556, \"#d8576b\"], [0.6666666666666666, \"#ed7953\"], [0.7777777777777778, \"#fb9f3a\"], [0.8888888888888888, \"#fdca26\"], [1.0, \"#f0f921\"]], \"type\": \"heatmapgl\"}], \"histogram\": [{\"marker\": {\"colorbar\": {\"outlinewidth\": 0, \"ticks\": \"\"}}, \"type\": \"histogram\"}], \"histogram2d\": [{\"colorbar\": {\"outlinewidth\": 0, \"ticks\": \"\"}, \"colorscale\": [[0.0, \"#0d0887\"], [0.1111111111111111, \"#46039f\"], [0.2222222222222222, \"#7201a8\"], [0.3333333333333333, \"#9c179e\"], [0.4444444444444444, \"#bd3786\"], [0.5555555555555556, \"#d8576b\"], [0.6666666666666666, \"#ed7953\"], [0.7777777777777778, \"#fb9f3a\"], [0.8888888888888888, \"#fdca26\"], [1.0, \"#f0f921\"]], \"type\": \"histogram2d\"}], \"histogram2dcontour\": [{\"colorbar\": {\"outlinewidth\": 0, \"ticks\": \"\"}, \"colorscale\": [[0.0, \"#0d0887\"], [0.1111111111111111, \"#46039f\"], [0.2222222222222222, \"#7201a8\"], [0.3333333333333333, \"#9c179e\"], [0.4444444444444444, \"#bd3786\"], [0.5555555555555556, \"#d8576b\"], [0.6666666666666666, \"#ed7953\"], [0.7777777777777778, \"#fb9f3a\"], [0.8888888888888888, \"#fdca26\"], [1.0, \"#f0f921\"]], \"type\": \"histogram2dcontour\"}], \"mesh3d\": [{\"colorbar\": {\"outlinewidth\": 0, \"ticks\": \"\"}, \"type\": \"mesh3d\"}], \"parcoords\": [{\"line\": {\"colorbar\": {\"outlinewidth\": 0, \"ticks\": \"\"}}, \"type\": \"parcoords\"}], \"scatter\": [{\"marker\": {\"colorbar\": {\"outlinewidth\": 0, \"ticks\": \"\"}}, \"type\": \"scatter\"}], \"scatter3d\": [{\"line\": {\"colorbar\": {\"outlinewidth\": 0, \"ticks\": \"\"}}, \"marker\": {\"colorbar\": {\"outlinewidth\": 0, \"ticks\": \"\"}}, \"type\": \"scatter3d\"}], \"scattercarpet\": [{\"marker\": {\"colorbar\": {\"outlinewidth\": 0, \"ticks\": \"\"}}, \"type\": \"scattercarpet\"}], \"scattergeo\": [{\"marker\": {\"colorbar\": {\"outlinewidth\": 0, \"ticks\": \"\"}}, \"type\": \"scattergeo\"}], \"scattergl\": [{\"marker\": {\"colorbar\": {\"outlinewidth\": 0, \"ticks\": \"\"}}, \"type\": \"scattergl\"}], \"scattermapbox\": [{\"marker\": {\"colorbar\": {\"outlinewidth\": 0, \"ticks\": \"\"}}, \"type\": \"scattermapbox\"}], \"scatterpolar\": [{\"marker\": {\"colorbar\": {\"outlinewidth\": 0, \"ticks\": \"\"}}, \"type\": \"scatterpolar\"}], \"scatterpolargl\": [{\"marker\": {\"colorbar\": {\"outlinewidth\": 0, \"ticks\": \"\"}}, \"type\": \"scatterpolargl\"}], \"scatterternary\": [{\"marker\": {\"colorbar\": {\"outlinewidth\": 0, \"ticks\": \"\"}}, \"type\": \"scatterternary\"}], \"surface\": [{\"colorbar\": {\"outlinewidth\": 0, \"ticks\": \"\"}, \"colorscale\": [[0.0, \"#0d0887\"], [0.1111111111111111, \"#46039f\"], [0.2222222222222222, \"#7201a8\"], [0.3333333333333333, \"#9c179e\"], [0.4444444444444444, \"#bd3786\"], [0.5555555555555556, \"#d8576b\"], [0.6666666666666666, \"#ed7953\"], [0.7777777777777778, \"#fb9f3a\"], [0.8888888888888888, \"#fdca26\"], [1.0, \"#f0f921\"]], \"type\": \"surface\"}], \"table\": [{\"cells\": {\"fill\": {\"color\": \"#EBF0F8\"}, \"line\": {\"color\": \"white\"}}, \"header\": {\"fill\": {\"color\": \"#C8D4E3\"}, \"line\": {\"color\": \"white\"}}, \"type\": \"table\"}]}, \"layout\": {\"annotationdefaults\": {\"arrowcolor\": \"#2a3f5f\", \"arrowhead\": 0, \"arrowwidth\": 1}, \"colorscale\": {\"diverging\": [[0, \"#8e0152\"], [0.1, \"#c51b7d\"], [0.2, \"#de77ae\"], [0.3, \"#f1b6da\"], [0.4, \"#fde0ef\"], [0.5, \"#f7f7f7\"], [0.6, \"#e6f5d0\"], [0.7, \"#b8e186\"], [0.8, \"#7fbc41\"], [0.9, \"#4d9221\"], [1, \"#276419\"]], \"sequential\": [[0.0, \"#0d0887\"], [0.1111111111111111, \"#46039f\"], [0.2222222222222222, \"#7201a8\"], [0.3333333333333333, \"#9c179e\"], [0.4444444444444444, \"#bd3786\"], [0.5555555555555556, \"#d8576b\"], [0.6666666666666666, \"#ed7953\"], [0.7777777777777778, \"#fb9f3a\"], [0.8888888888888888, \"#fdca26\"], [1.0, \"#f0f921\"]], \"sequentialminus\": [[0.0, \"#0d0887\"], [0.1111111111111111, \"#46039f\"], [0.2222222222222222, \"#7201a8\"], [0.3333333333333333, \"#9c179e\"], [0.4444444444444444, \"#bd3786\"], [0.5555555555555556, \"#d8576b\"], [0.6666666666666666, \"#ed7953\"], [0.7777777777777778, \"#fb9f3a\"], [0.8888888888888888, \"#fdca26\"], [1.0, \"#f0f921\"]]}, \"colorway\": [\"#636efa\", \"#EF553B\", \"#00cc96\", \"#ab63fa\", \"#FFA15A\", \"#19d3f3\", \"#FF6692\", \"#B6E880\", \"#FF97FF\", \"#FECB52\"], \"font\": {\"color\": \"#2a3f5f\"}, \"geo\": {\"bgcolor\": \"white\", \"lakecolor\": \"white\", \"landcolor\": \"#E5ECF6\", \"showlakes\": true, \"showland\": true, \"subunitcolor\": \"white\"}, \"hoverlabel\": {\"align\": \"left\"}, \"hovermode\": \"closest\", \"mapbox\": {\"style\": \"light\"}, \"paper_bgcolor\": \"white\", \"plot_bgcolor\": \"#E5ECF6\", \"polar\": {\"angularaxis\": {\"gridcolor\": \"white\", \"linecolor\": \"white\", \"ticks\": \"\"}, \"bgcolor\": \"#E5ECF6\", \"radialaxis\": {\"gridcolor\": \"white\", \"linecolor\": \"white\", \"ticks\": \"\"}}, \"scene\": {\"xaxis\": {\"backgroundcolor\": \"#E5ECF6\", \"gridcolor\": \"white\", \"gridwidth\": 2, \"linecolor\": \"white\", \"showbackground\": true, \"ticks\": \"\", \"zerolinecolor\": \"white\"}, \"yaxis\": {\"backgroundcolor\": \"#E5ECF6\", \"gridcolor\": \"white\", \"gridwidth\": 2, \"linecolor\": \"white\", \"showbackground\": true, \"ticks\": \"\", \"zerolinecolor\": \"white\"}, \"zaxis\": {\"backgroundcolor\": \"#E5ECF6\", \"gridcolor\": \"white\", \"gridwidth\": 2, \"linecolor\": \"white\", \"showbackground\": true, \"ticks\": \"\", \"zerolinecolor\": \"white\"}}, \"shapedefaults\": {\"line\": {\"color\": \"#2a3f5f\"}}, \"ternary\": {\"aaxis\": {\"gridcolor\": \"white\", \"linecolor\": \"white\", \"ticks\": \"\"}, \"baxis\": {\"gridcolor\": \"white\", \"linecolor\": \"white\", \"ticks\": \"\"}, \"bgcolor\": \"#E5ECF6\", \"caxis\": {\"gridcolor\": \"white\", \"linecolor\": \"white\", \"ticks\": \"\"}}, \"title\": {\"x\": 0.05}, \"xaxis\": {\"automargin\": true, \"gridcolor\": \"white\", \"linecolor\": \"white\", \"ticks\": \"\", \"zerolinecolor\": \"white\", \"zerolinewidth\": 2}, \"yaxis\": {\"automargin\": true, \"gridcolor\": \"white\", \"linecolor\": \"white\", \"ticks\": \"\", \"zerolinecolor\": \"white\", \"zerolinewidth\": 2}}}, \"title\": {\"text\": \"Actual and Forecasted Weekly Death Volumes - Florida\", \"x\": 0.5, \"xanchor\": \"center\", \"y\": 0.9, \"yanchor\": \"top\"}, \"xaxis\": {\"anchor\": \"y\", \"domain\": [0.0, 0.98], \"title\": {\"text\": \"Date\"}}, \"yaxis\": {\"anchor\": \"x\", \"domain\": [0.0, 1.0], \"range\": [0, 1500], \"tickformat\": \",.0\", \"title\": {\"text\": \"Predicted Death Count\"}}},\n",
       "                        {\"responsive\": true}\n",
       "                    ).then(function(){\n",
       "                            \n",
       "var gd = document.getElementById('6c840f8b-3906-4849-b914-d138e8442fc3');\n",
       "var x = new MutationObserver(function (mutations, observer) {{\n",
       "        var display = window.getComputedStyle(gd).display;\n",
       "        if (!display || display === 'none') {{\n",
       "            console.log([gd, 'removed!']);\n",
       "            Plotly.purge(gd);\n",
       "            observer.disconnect();\n",
       "        }}\n",
       "}});\n",
       "\n",
       "// Listen for the removal of the full notebook cells\n",
       "var notebookContainer = gd.closest('#notebook-container');\n",
       "if (notebookContainer) {{\n",
       "    x.observe(notebookContainer, {childList: true});\n",
       "}}\n",
       "\n",
       "// Listen for the clearing of the current output cell\n",
       "var outputEl = gd.closest('.output');\n",
       "if (outputEl) {{\n",
       "    x.observe(outputEl, {childList: true});\n",
       "}}\n",
       "\n",
       "                        })\n",
       "                };\n",
       "                });\n",
       "            </script>\n",
       "        </div>"
      ]
     },
     "metadata": {},
     "output_type": "display_data"
    }
   ],
   "source": [
    "figFeatured=figActuals\n",
    "figFeatured.add_trace(figA.data[0])\n",
    "figFeatured.add_trace(figB.data[0])\n",
    "figFeatured.add_trace(figC.data[0])\n",
    "figFeatured.update_layout(title_text=\"Actual and Forecasted Weekly Death Volumes - Florida\")\n",
    "figFeatured.update_yaxes(tickformat = ',.0', range = [0,1500])\n",
    "figFeatured.update_traces(hovertemplate=None)\n",
    "\n",
    "\n",
    "figFeatured.show()\n",
    "#py.plot(figFeatured, filename = 'Actual and Forecasted Weekly Death Volumes - Florida', auto_open=True)\n",
    "figFeatured.write_image(\"chart_images/Actual and Forecasted Weekly Death Volumes - Florida.png\")"
   ]
  },
  {
   "cell_type": "markdown",
   "metadata": {},
   "source": [
    "# Conclusion"
   ]
  },
  {
   "cell_type": "markdown",
   "metadata": {},
   "source": [
    "Based on these assumptions, the economically optimal solution would be to transition to a **low-touch economy** for the month of August (see table below). A low-touch economy would yield the lowest sum of human and GDP costs of \\\\$57.56B. The least desirable outcome would be to restart the economy as normal, as this scenario would yield a total \\\\$111.28B in human costs alone.\n",
    "\n",
    "The difference in total costs between these two scenarios is shocking, and commands that the order of priorities is to reduce the threat of the virus first, and restart the economy second."
   ]
  },
  {
   "cell_type": "code",
   "execution_count": null,
   "metadata": {},
   "outputs": [],
   "source": []
  },
  {
   "cell_type": "code",
   "execution_count": null,
   "metadata": {},
   "outputs": [],
   "source": []
  },
  {
   "cell_type": "code",
   "execution_count": null,
   "metadata": {},
   "outputs": [],
   "source": []
  },
  {
   "cell_type": "code",
   "execution_count": null,
   "metadata": {},
   "outputs": [],
   "source": []
  },
  {
   "cell_type": "code",
   "execution_count": null,
   "metadata": {},
   "outputs": [],
   "source": []
  },
  {
   "cell_type": "code",
   "execution_count": null,
   "metadata": {},
   "outputs": [],
   "source": []
  },
  {
   "cell_type": "code",
   "execution_count": null,
   "metadata": {},
   "outputs": [],
   "source": []
  },
  {
   "cell_type": "code",
   "execution_count": null,
   "metadata": {},
   "outputs": [],
   "source": []
  },
  {
   "cell_type": "code",
   "execution_count": null,
   "metadata": {},
   "outputs": [],
   "source": []
  },
  {
   "cell_type": "code",
   "execution_count": null,
   "metadata": {},
   "outputs": [],
   "source": []
  },
  {
   "cell_type": "code",
   "execution_count": null,
   "metadata": {},
   "outputs": [],
   "source": []
  },
  {
   "cell_type": "code",
   "execution_count": null,
   "metadata": {},
   "outputs": [],
   "source": []
  },
  {
   "cell_type": "code",
   "execution_count": null,
   "metadata": {},
   "outputs": [],
   "source": []
  },
  {
   "cell_type": "code",
   "execution_count": null,
   "metadata": {},
   "outputs": [],
   "source": []
  }
 ],
 "metadata": {
  "kernelspec": {
   "display_name": "Python 3",
   "language": "python",
   "name": "python3"
  },
  "language_info": {
   "codemirror_mode": {
    "name": "ipython",
    "version": 3
   },
   "file_extension": ".py",
   "mimetype": "text/x-python",
   "name": "python",
   "nbconvert_exporter": "python",
   "pygments_lexer": "ipython3",
   "version": "3.7.6"
  }
 },
 "nbformat": 4,
 "nbformat_minor": 4
}
